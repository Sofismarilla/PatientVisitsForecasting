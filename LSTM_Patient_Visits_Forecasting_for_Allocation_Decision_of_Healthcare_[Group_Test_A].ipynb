{
  "nbformat": 4,
  "nbformat_minor": 0,
  "metadata": {
    "colab": {
      "name": "LSTM Patient Visits Forecasting for Allocation Decision of Healthcare [Group Test A]",
      "provenance": [],
      "collapsed_sections": [],
      "toc_visible": true,
      "mount_file_id": "1MkYpOTrtDfR_kdVZBBrzTg8EfbPPUcNS",
      "authorship_tag": "ABX9TyOTiUvsC16wEniqvHroo2KX",
      "include_colab_link": true
    },
    "kernelspec": {
      "name": "python3",
      "display_name": "Python 3"
    },
    "language_info": {
      "name": "python"
    }
  },
  "cells": [
    {
      "cell_type": "markdown",
      "metadata": {
        "id": "view-in-github",
        "colab_type": "text"
      },
      "source": [
        "<a href=\"https://colab.research.google.com/github/Sofismarilla/PatientVisitsForecasting/blob/main/LSTM_Patient_Visits_Forecasting_for_Allocation_Decision_of_Healthcare_%5BGroup_Test_A%5D.ipynb\" target=\"_parent\"><img src=\"https://colab.research.google.com/assets/colab-badge.svg\" alt=\"Open In Colab\"/></a>"
      ]
    },
    {
      "cell_type": "markdown",
      "metadata": {
        "id": "PmVadz_Apmbl"
      },
      "source": [
        "# **Multivariate Time Series Forecasting using LSTM Model based on Patient Visits Medical Laboratory Data (GroupTestA)**"
      ]
    },
    {
      "cell_type": "markdown",
      "metadata": {
        "id": "a59uwY0vpqR8"
      },
      "source": [
        "## **Step#0 Fire System**"
      ]
    },
    {
      "cell_type": "code",
      "metadata": {
        "colab": {
          "base_uri": "https://localhost:8080/"
        },
        "id": "cJW12by1ppls",
        "outputId": "2fab250a-1d6f-45a7-c4ef-ad46f8827d32"
      },
      "source": [
        "!pip install pmdarima\n",
        "!pip install shap\n",
        "!pip install --upgrade mxnet~=1.7 gluonts\n",
        "!pip install python-utils\n",
        "!pip install plotly==4.1.0\n",
        "!pip install -U scikit-learn\n",
        "!pip install statsmodels\n",
        "!pip install --user scipy==1.2.0\n",
        "!pip install -U statsmodels"
      ],
      "execution_count": 1,
      "outputs": [
        {
          "output_type": "stream",
          "text": [
            "Collecting pmdarima\n",
            "\u001b[?25l  Downloading https://files.pythonhosted.org/packages/f4/c2/2a94bce6bba1deac3c0b16dbb14f28de0b9035e3211919cae8448455aa65/pmdarima-1.8.2-cp37-cp37m-manylinux1_x86_64.whl (1.5MB)\n",
            "\u001b[K     |████████████████████████████████| 1.5MB 5.1MB/s \n",
            "\u001b[?25hRequirement already satisfied: setuptools!=50.0.0,>=38.6.0 in /usr/local/lib/python3.7/dist-packages (from pmdarima) (57.0.0)\n",
            "Collecting statsmodels!=0.12.0,>=0.11\n",
            "\u001b[?25l  Downloading https://files.pythonhosted.org/packages/da/69/8eef30a6237c54f3c0b524140e2975f4b1eea3489b45eb3339574fc8acee/statsmodels-0.12.2-cp37-cp37m-manylinux1_x86_64.whl (9.5MB)\n",
            "\u001b[K     |████████████████████████████████| 9.5MB 17.4MB/s \n",
            "\u001b[?25hRequirement already satisfied: numpy~=1.19.0 in /usr/local/lib/python3.7/dist-packages (from pmdarima) (1.19.5)\n",
            "Requirement already satisfied: scikit-learn>=0.22 in /usr/local/lib/python3.7/dist-packages (from pmdarima) (0.22.2.post1)\n",
            "Requirement already satisfied: scipy>=1.3.2 in /usr/local/lib/python3.7/dist-packages (from pmdarima) (1.4.1)\n",
            "Requirement already satisfied: Cython!=0.29.18,>=0.29 in /usr/local/lib/python3.7/dist-packages (from pmdarima) (0.29.23)\n",
            "Requirement already satisfied: joblib>=0.11 in /usr/local/lib/python3.7/dist-packages (from pmdarima) (1.0.1)\n",
            "Requirement already satisfied: pandas>=0.19 in /usr/local/lib/python3.7/dist-packages (from pmdarima) (1.1.5)\n",
            "Requirement already satisfied: urllib3 in /usr/local/lib/python3.7/dist-packages (from pmdarima) (1.24.3)\n",
            "Requirement already satisfied: patsy>=0.5 in /usr/local/lib/python3.7/dist-packages (from statsmodels!=0.12.0,>=0.11->pmdarima) (0.5.1)\n",
            "Requirement already satisfied: python-dateutil>=2.7.3 in /usr/local/lib/python3.7/dist-packages (from pandas>=0.19->pmdarima) (2.8.1)\n",
            "Requirement already satisfied: pytz>=2017.2 in /usr/local/lib/python3.7/dist-packages (from pandas>=0.19->pmdarima) (2018.9)\n",
            "Requirement already satisfied: six in /usr/local/lib/python3.7/dist-packages (from patsy>=0.5->statsmodels!=0.12.0,>=0.11->pmdarima) (1.15.0)\n",
            "Installing collected packages: statsmodels, pmdarima\n",
            "  Found existing installation: statsmodels 0.10.2\n",
            "    Uninstalling statsmodels-0.10.2:\n",
            "      Successfully uninstalled statsmodels-0.10.2\n",
            "Successfully installed pmdarima-1.8.2 statsmodels-0.12.2\n",
            "Collecting shap\n",
            "\u001b[?25l  Downloading https://files.pythonhosted.org/packages/b9/f4/c5b95cddae15be80f8e58b25edceca105aa83c0b8c86a1edad24a6af80d3/shap-0.39.0.tar.gz (356kB)\n",
            "\u001b[K     |████████████████████████████████| 358kB 5.1MB/s \n",
            "\u001b[?25hRequirement already satisfied: numpy in /usr/local/lib/python3.7/dist-packages (from shap) (1.19.5)\n",
            "Requirement already satisfied: scipy in /usr/local/lib/python3.7/dist-packages (from shap) (1.4.1)\n",
            "Requirement already satisfied: scikit-learn in /usr/local/lib/python3.7/dist-packages (from shap) (0.22.2.post1)\n",
            "Requirement already satisfied: pandas in /usr/local/lib/python3.7/dist-packages (from shap) (1.1.5)\n",
            "Requirement already satisfied: tqdm>4.25.0 in /usr/local/lib/python3.7/dist-packages (from shap) (4.41.1)\n",
            "Collecting slicer==0.0.7\n",
            "  Downloading https://files.pythonhosted.org/packages/78/c2/b3f55dfdb8af9812fdb9baf70cacf3b9e82e505b2bd4324d588888b81202/slicer-0.0.7-py3-none-any.whl\n",
            "Requirement already satisfied: numba in /usr/local/lib/python3.7/dist-packages (from shap) (0.51.2)\n",
            "Requirement already satisfied: cloudpickle in /usr/local/lib/python3.7/dist-packages (from shap) (1.3.0)\n",
            "Requirement already satisfied: joblib>=0.11 in /usr/local/lib/python3.7/dist-packages (from scikit-learn->shap) (1.0.1)\n",
            "Requirement already satisfied: python-dateutil>=2.7.3 in /usr/local/lib/python3.7/dist-packages (from pandas->shap) (2.8.1)\n",
            "Requirement already satisfied: pytz>=2017.2 in /usr/local/lib/python3.7/dist-packages (from pandas->shap) (2018.9)\n",
            "Requirement already satisfied: setuptools in /usr/local/lib/python3.7/dist-packages (from numba->shap) (57.0.0)\n",
            "Requirement already satisfied: llvmlite<0.35,>=0.34.0.dev0 in /usr/local/lib/python3.7/dist-packages (from numba->shap) (0.34.0)\n",
            "Requirement already satisfied: six>=1.5 in /usr/local/lib/python3.7/dist-packages (from python-dateutil>=2.7.3->pandas->shap) (1.15.0)\n",
            "Building wheels for collected packages: shap\n",
            "  Building wheel for shap (setup.py) ... \u001b[?25l\u001b[?25hdone\n",
            "  Created wheel for shap: filename=shap-0.39.0-cp37-cp37m-linux_x86_64.whl size=491627 sha256=a0cc35c868607cafd63ba1b0504f4a20cc6e6b425dbce5120583740c09852159\n",
            "  Stored in directory: /root/.cache/pip/wheels/15/27/f5/a8ab9da52fd159aae6477b5ede6eaaec69fd130fa0fa59f283\n",
            "Successfully built shap\n",
            "Installing collected packages: slicer, shap\n",
            "Successfully installed shap-0.39.0 slicer-0.0.7\n",
            "Collecting mxnet~=1.7\n",
            "\u001b[?25l  Downloading https://files.pythonhosted.org/packages/30/07/66174e78c12a3048db9039aaa09553e35035ef3a008ba3e0ed8d2aa3c47b/mxnet-1.8.0.post0-py2.py3-none-manylinux2014_x86_64.whl (46.9MB)\n",
            "\u001b[K     |████████████████████████████████| 46.9MB 64kB/s \n",
            "\u001b[?25hCollecting gluonts\n",
            "\u001b[?25l  Downloading https://files.pythonhosted.org/packages/1e/a3/69f1a2b97f8ac8ccbe1f9975e6eddc0a42470f27c75dbfe78d9332bab74f/gluonts-0.7.6-py3-none-any.whl (897kB)\n",
            "\u001b[K     |████████████████████████████████| 901kB 32.4MB/s \n",
            "\u001b[?25hRequirement already satisfied, skipping upgrade: numpy<2.0.0,>1.16.0 in /usr/local/lib/python3.7/dist-packages (from mxnet~=1.7) (1.19.5)\n",
            "Collecting graphviz<0.9.0,>=0.8.1\n",
            "  Downloading https://files.pythonhosted.org/packages/53/39/4ab213673844e0c004bed8a0781a0721a3f6bb23eb8854ee75c236428892/graphviz-0.8.4-py2.py3-none-any.whl\n",
            "Requirement already satisfied, skipping upgrade: requests<3,>=2.20.0 in /usr/local/lib/python3.7/dist-packages (from mxnet~=1.7) (2.23.0)\n",
            "Requirement already satisfied, skipping upgrade: toolz~=0.10 in /usr/local/lib/python3.7/dist-packages (from gluonts) (0.11.1)\n",
            "Requirement already satisfied, skipping upgrade: tqdm~=4.23 in /usr/local/lib/python3.7/dist-packages (from gluonts) (4.41.1)\n",
            "Requirement already satisfied, skipping upgrade: holidays>=0.9 in /usr/local/lib/python3.7/dist-packages (from gluonts) (0.10.5.2)\n",
            "Requirement already satisfied, skipping upgrade: pandas~=1.0 in /usr/local/lib/python3.7/dist-packages (from gluonts) (1.1.5)\n",
            "Requirement already satisfied, skipping upgrade: matplotlib~=3.0 in /usr/local/lib/python3.7/dist-packages (from gluonts) (3.2.2)\n",
            "Collecting pydantic~=1.1\n",
            "\u001b[?25l  Downloading https://files.pythonhosted.org/packages/9f/f2/2d5425efe57f6c4e06cbe5e587c1fd16929dcf0eb90bd4d3d1e1c97d1151/pydantic-1.8.2-cp37-cp37m-manylinux2014_x86_64.whl (10.1MB)\n",
            "\u001b[K     |████████████████████████████████| 10.1MB 34.7MB/s \n",
            "\u001b[?25hRequirement already satisfied, skipping upgrade: idna<3,>=2.5 in /usr/local/lib/python3.7/dist-packages (from requests<3,>=2.20.0->mxnet~=1.7) (2.10)\n",
            "Requirement already satisfied, skipping upgrade: urllib3!=1.25.0,!=1.25.1,<1.26,>=1.21.1 in /usr/local/lib/python3.7/dist-packages (from requests<3,>=2.20.0->mxnet~=1.7) (1.24.3)\n",
            "Requirement already satisfied, skipping upgrade: certifi>=2017.4.17 in /usr/local/lib/python3.7/dist-packages (from requests<3,>=2.20.0->mxnet~=1.7) (2021.5.30)\n",
            "Requirement already satisfied, skipping upgrade: chardet<4,>=3.0.2 in /usr/local/lib/python3.7/dist-packages (from requests<3,>=2.20.0->mxnet~=1.7) (3.0.4)\n",
            "Requirement already satisfied, skipping upgrade: six in /usr/local/lib/python3.7/dist-packages (from holidays>=0.9->gluonts) (1.15.0)\n",
            "Requirement already satisfied, skipping upgrade: convertdate>=2.3.0 in /usr/local/lib/python3.7/dist-packages (from holidays>=0.9->gluonts) (2.3.2)\n",
            "Requirement already satisfied, skipping upgrade: python-dateutil in /usr/local/lib/python3.7/dist-packages (from holidays>=0.9->gluonts) (2.8.1)\n",
            "Requirement already satisfied, skipping upgrade: korean-lunar-calendar in /usr/local/lib/python3.7/dist-packages (from holidays>=0.9->gluonts) (0.2.1)\n",
            "Requirement already satisfied, skipping upgrade: hijri-converter in /usr/local/lib/python3.7/dist-packages (from holidays>=0.9->gluonts) (2.1.2)\n",
            "Requirement already satisfied, skipping upgrade: pytz>=2017.2 in /usr/local/lib/python3.7/dist-packages (from pandas~=1.0->gluonts) (2018.9)\n",
            "Requirement already satisfied, skipping upgrade: cycler>=0.10 in /usr/local/lib/python3.7/dist-packages (from matplotlib~=3.0->gluonts) (0.10.0)\n",
            "Requirement already satisfied, skipping upgrade: pyparsing!=2.0.4,!=2.1.2,!=2.1.6,>=2.0.1 in /usr/local/lib/python3.7/dist-packages (from matplotlib~=3.0->gluonts) (2.4.7)\n",
            "Requirement already satisfied, skipping upgrade: kiwisolver>=1.0.1 in /usr/local/lib/python3.7/dist-packages (from matplotlib~=3.0->gluonts) (1.3.1)\n",
            "Requirement already satisfied, skipping upgrade: typing-extensions>=3.7.4.3 in /usr/local/lib/python3.7/dist-packages (from pydantic~=1.1->gluonts) (3.7.4.3)\n",
            "Requirement already satisfied, skipping upgrade: pymeeus<=1,>=0.3.13 in /usr/local/lib/python3.7/dist-packages (from convertdate>=2.3.0->holidays>=0.9->gluonts) (0.5.11)\n",
            "Installing collected packages: graphviz, mxnet, pydantic, gluonts\n",
            "  Found existing installation: graphviz 0.10.1\n",
            "    Uninstalling graphviz-0.10.1:\n",
            "      Successfully uninstalled graphviz-0.10.1\n",
            "Successfully installed gluonts-0.7.6 graphviz-0.8.4 mxnet-1.8.0.post0 pydantic-1.8.2\n",
            "Requirement already satisfied: python-utils in /usr/local/lib/python3.7/dist-packages (2.5.6)\n",
            "Requirement already satisfied: six in /usr/local/lib/python3.7/dist-packages (from python-utils) (1.15.0)\n",
            "Collecting plotly==4.1.0\n",
            "\u001b[?25l  Downloading https://files.pythonhosted.org/packages/63/2b/4ca10995bfbdefd65c4238f9a2d3fde33705d18dd50914dd13302ec1daf1/plotly-4.1.0-py2.py3-none-any.whl (7.1MB)\n",
            "\u001b[K     |████████████████████████████████| 7.1MB 5.1MB/s \n",
            "\u001b[?25hRequirement already satisfied: retrying>=1.3.3 in /usr/local/lib/python3.7/dist-packages (from plotly==4.1.0) (1.3.3)\n",
            "Requirement already satisfied: six in /usr/local/lib/python3.7/dist-packages (from plotly==4.1.0) (1.15.0)\n",
            "\u001b[31mERROR: cufflinks 0.17.3 has requirement plotly>=4.1.1, but you'll have plotly 4.1.0 which is incompatible.\u001b[0m\n",
            "Installing collected packages: plotly\n",
            "  Found existing installation: plotly 4.4.1\n",
            "    Uninstalling plotly-4.4.1:\n",
            "      Successfully uninstalled plotly-4.4.1\n",
            "Successfully installed plotly-4.1.0\n",
            "Collecting scikit-learn\n",
            "\u001b[?25l  Downloading https://files.pythonhosted.org/packages/a8/eb/a48f25c967526b66d5f1fa7a984594f0bf0a5afafa94a8c4dbc317744620/scikit_learn-0.24.2-cp37-cp37m-manylinux2010_x86_64.whl (22.3MB)\n",
            "\u001b[K     |████████████████████████████████| 22.3MB 137kB/s \n",
            "\u001b[?25hRequirement already satisfied, skipping upgrade: numpy>=1.13.3 in /usr/local/lib/python3.7/dist-packages (from scikit-learn) (1.19.5)\n",
            "Collecting threadpoolctl>=2.0.0\n",
            "  Downloading https://files.pythonhosted.org/packages/f7/12/ec3f2e203afa394a149911729357aa48affc59c20e2c1c8297a60f33f133/threadpoolctl-2.1.0-py3-none-any.whl\n",
            "Requirement already satisfied, skipping upgrade: joblib>=0.11 in /usr/local/lib/python3.7/dist-packages (from scikit-learn) (1.0.1)\n",
            "Requirement already satisfied, skipping upgrade: scipy>=0.19.1 in /usr/local/lib/python3.7/dist-packages (from scikit-learn) (1.4.1)\n",
            "Installing collected packages: threadpoolctl, scikit-learn\n",
            "  Found existing installation: scikit-learn 0.22.2.post1\n",
            "    Uninstalling scikit-learn-0.22.2.post1:\n",
            "      Successfully uninstalled scikit-learn-0.22.2.post1\n",
            "Successfully installed scikit-learn-0.24.2 threadpoolctl-2.1.0\n",
            "Requirement already satisfied: statsmodels in /usr/local/lib/python3.7/dist-packages (0.12.2)\n",
            "Requirement already satisfied: scipy>=1.1 in /usr/local/lib/python3.7/dist-packages (from statsmodels) (1.4.1)\n",
            "Requirement already satisfied: patsy>=0.5 in /usr/local/lib/python3.7/dist-packages (from statsmodels) (0.5.1)\n",
            "Requirement already satisfied: numpy>=1.15 in /usr/local/lib/python3.7/dist-packages (from statsmodels) (1.19.5)\n",
            "Requirement already satisfied: pandas>=0.21 in /usr/local/lib/python3.7/dist-packages (from statsmodels) (1.1.5)\n",
            "Requirement already satisfied: six in /usr/local/lib/python3.7/dist-packages (from patsy>=0.5->statsmodels) (1.15.0)\n",
            "Requirement already satisfied: python-dateutil>=2.7.3 in /usr/local/lib/python3.7/dist-packages (from pandas>=0.21->statsmodels) (2.8.1)\n",
            "Requirement already satisfied: pytz>=2017.2 in /usr/local/lib/python3.7/dist-packages (from pandas>=0.21->statsmodels) (2018.9)\n",
            "Collecting scipy==1.2.0\n",
            "\u001b[?25l  Downloading https://files.pythonhosted.org/packages/80/39/066ecde98f373430bf7a39a02d91c7075b01ef4fc928456e8e31577342d6/scipy-1.2.0-cp37-cp37m-manylinux1_x86_64.whl (26.6MB)\n",
            "\u001b[K     |████████████████████████████████| 26.6MB 119kB/s \n",
            "\u001b[?25hRequirement already satisfied: numpy>=1.8.2 in /usr/local/lib/python3.7/dist-packages (from scipy==1.2.0) (1.19.5)\n",
            "\u001b[31mERROR: pmdarima 1.8.2 has requirement scipy>=1.3.2, but you'll have scipy 1.2.0 which is incompatible.\u001b[0m\n",
            "\u001b[31mERROR: albumentations 0.1.12 has requirement imgaug<0.2.7,>=0.2.5, but you'll have imgaug 0.2.9 which is incompatible.\u001b[0m\n",
            "Installing collected packages: scipy\n",
            "Successfully installed scipy-1.2.0\n",
            "Requirement already up-to-date: statsmodels in /usr/local/lib/python3.7/dist-packages (0.12.2)\n",
            "Requirement already satisfied, skipping upgrade: numpy>=1.15 in /usr/local/lib/python3.7/dist-packages (from statsmodels) (1.19.5)\n",
            "Requirement already satisfied, skipping upgrade: patsy>=0.5 in /usr/local/lib/python3.7/dist-packages (from statsmodels) (0.5.1)\n",
            "Requirement already satisfied, skipping upgrade: pandas>=0.21 in /usr/local/lib/python3.7/dist-packages (from statsmodels) (1.1.5)\n",
            "Requirement already satisfied, skipping upgrade: scipy>=1.1 in /root/.local/lib/python3.7/site-packages (from statsmodels) (1.2.0)\n",
            "Requirement already satisfied, skipping upgrade: six in /usr/local/lib/python3.7/dist-packages (from patsy>=0.5->statsmodels) (1.15.0)\n",
            "Requirement already satisfied, skipping upgrade: python-dateutil>=2.7.3 in /usr/local/lib/python3.7/dist-packages (from pandas>=0.21->statsmodels) (2.8.1)\n",
            "Requirement already satisfied, skipping upgrade: pytz>=2017.2 in /usr/local/lib/python3.7/dist-packages (from pandas>=0.21->statsmodels) (2018.9)\n"
          ],
          "name": "stdout"
        }
      ]
    },
    {
      "cell_type": "code",
      "metadata": {
        "id": "PYptaTFJpewe"
      },
      "source": [
        "import warnings\n",
        "import numpy as np\n",
        "import pandas as pd\n",
        "\n",
        "# Data visualization\n",
        "import time\n",
        "import folium\n",
        "import datetime\n",
        "%matplotlib inline\n",
        "import seaborn as sns \n",
        "import matplotlib as mpl\n",
        "import plotly.express as px\n",
        "from datetime import datetime\n",
        "import plotly.graph_objs as go\n",
        "import matplotlib.ticker as tkr\n",
        "import matplotlib.pyplot as plt\n",
        "from matplotlib.pylab import rcParams\n",
        "from IPython.display import display, HTML, display_html\n",
        "\n",
        "# Method Requirement\n",
        "import glob\n",
        "import keras\n",
        "import sklearn\n",
        "import tensorflow as tf\n",
        "from keras.layers import *\n",
        "from keras.layers import LSTM\n",
        "from keras.layers import Dense\n",
        "from keras.layers import Dropout\n",
        "from keras.models import Sequential\n",
        "from keras.callbacks import EarlyStopping\n",
        "from sklearn.model_selection import train_test_split\n",
        "from keras.models import Sequential, load_model, save_model\n",
        "from keras.preprocessing.sequence import TimeseriesGenerator\n",
        "from sklearn.preprocessing import MinMaxScaler, StandardScaler\n",
        "\n",
        "\n",
        "# Statistics \n",
        "import scipy\n",
        "from math import sqrt\n",
        "from time import time\n",
        "from scipy import stats\n",
        "import statsmodels as sms\n",
        "from timeit import default_timer as timer\n",
        "from statsmodels.tsa.stattools import adfuller\n",
        "from statsmodels.tsa.arima.model import ARIMA\n",
        "from sklearn.metrics import mean_squared_error\n",
        "from sklearn.metrics import mean_absolute_percentage_error\n",
        "from statsmodels.tsa.stattools import grangercausalitytests\n",
        "from statsmodels.graphics.tsaplots import plot_acf, plot_pacf\n",
        "\n",
        "sns.set_style('white')\n",
        "warnings.filterwarnings('ignore')\n",
        "plt.rcParams['axes.grid'] = False\n",
        "sns.set_context(\"paper\", font_scale=1.3)\n",
        "plt.rcParams['figure.figsize'] = (10, 8)\n",
        "pd.set_option('display.float_format', lambda x: '%.4f' % x)"
      ],
      "execution_count": 2,
      "outputs": []
    },
    {
      "cell_type": "markdown",
      "metadata": {
        "id": "X30V8UKZpysc"
      },
      "source": [
        "## **Step#1 Input Data**"
      ]
    },
    {
      "cell_type": "code",
      "metadata": {
        "id": "E3b1hMpHp2SF"
      },
      "source": [
        "data = pd.read_csv('/content/drive/MyDrive/THESIS/Dataset/dateset_patient.csv')"
      ],
      "execution_count": 3,
      "outputs": []
    },
    {
      "cell_type": "code",
      "metadata": {
        "colab": {
          "base_uri": "https://localhost:8080/"
        },
        "id": "L8G4qXAFp5ae",
        "outputId": "66d4404d-94c8-409c-9509-4a9077c88d94"
      },
      "source": [
        "data.info()"
      ],
      "execution_count": 4,
      "outputs": [
        {
          "output_type": "stream",
          "text": [
            "<class 'pandas.core.frame.DataFrame'>\n",
            "RangeIndex: 1348 entries, 0 to 1347\n",
            "Data columns (total 8 columns):\n",
            " #   Column    Non-Null Count  Dtype \n",
            "---  ------    --------------  ----- \n",
            " 0   date      1348 non-null   object\n",
            " 1   hm        1348 non-null   int64 \n",
            " 2   hm_aw     1348 non-null   int64 \n",
            " 3   hm_am     1348 non-null   int64 \n",
            " 4   cc        1348 non-null   int64 \n",
            " 5   cc_aw     1348 non-null   int64 \n",
            " 6   cc_am     1348 non-null   int64 \n",
            " 7   day_week  1348 non-null   int64 \n",
            "dtypes: int64(7), object(1)\n",
            "memory usage: 84.4+ KB\n"
          ],
          "name": "stdout"
        }
      ]
    },
    {
      "cell_type": "code",
      "metadata": {
        "id": "caSNNRkl59gW"
      },
      "source": [
        "data['date'] = pd.to_datetime(data['date'], infer_datetime_format=True)\n",
        "data['weekday']= data.apply(lambda row: row['date'].weekday(),axis=1)\n",
        "data['weekday'] = (data[\"weekday\"] < 5).astype(int)"
      ],
      "execution_count": 5,
      "outputs": []
    },
    {
      "cell_type": "code",
      "metadata": {
        "colab": {
          "base_uri": "https://localhost:8080/"
        },
        "id": "uCn87rN25_IO",
        "outputId": "fa83a283-154c-4496-9323-46597184dcda"
      },
      "source": [
        "data.info()"
      ],
      "execution_count": 6,
      "outputs": [
        {
          "output_type": "stream",
          "text": [
            "<class 'pandas.core.frame.DataFrame'>\n",
            "RangeIndex: 1348 entries, 0 to 1347\n",
            "Data columns (total 9 columns):\n",
            " #   Column    Non-Null Count  Dtype         \n",
            "---  ------    --------------  -----         \n",
            " 0   date      1348 non-null   datetime64[ns]\n",
            " 1   hm        1348 non-null   int64         \n",
            " 2   hm_aw     1348 non-null   int64         \n",
            " 3   hm_am     1348 non-null   int64         \n",
            " 4   cc        1348 non-null   int64         \n",
            " 5   cc_aw     1348 non-null   int64         \n",
            " 6   cc_am     1348 non-null   int64         \n",
            " 7   day_week  1348 non-null   int64         \n",
            " 8   weekday   1348 non-null   int64         \n",
            "dtypes: datetime64[ns](1), int64(8)\n",
            "memory usage: 94.9 KB\n"
          ],
          "name": "stdout"
        }
      ]
    },
    {
      "cell_type": "code",
      "metadata": {
        "colab": {
          "base_uri": "https://localhost:8080/",
          "height": 202
        },
        "id": "1qgbaRxa6CWm",
        "outputId": "3be01325-a7d5-4a78-9be8-44b2becd2503"
      },
      "source": [
        "data.head()"
      ],
      "execution_count": 7,
      "outputs": [
        {
          "output_type": "execute_result",
          "data": {
            "text/html": [
              "<div>\n",
              "<style scoped>\n",
              "    .dataframe tbody tr th:only-of-type {\n",
              "        vertical-align: middle;\n",
              "    }\n",
              "\n",
              "    .dataframe tbody tr th {\n",
              "        vertical-align: top;\n",
              "    }\n",
              "\n",
              "    .dataframe thead th {\n",
              "        text-align: right;\n",
              "    }\n",
              "</style>\n",
              "<table border=\"1\" class=\"dataframe\">\n",
              "  <thead>\n",
              "    <tr style=\"text-align: right;\">\n",
              "      <th></th>\n",
              "      <th>date</th>\n",
              "      <th>hm</th>\n",
              "      <th>hm_aw</th>\n",
              "      <th>hm_am</th>\n",
              "      <th>cc</th>\n",
              "      <th>cc_aw</th>\n",
              "      <th>cc_am</th>\n",
              "      <th>day_week</th>\n",
              "      <th>weekday</th>\n",
              "    </tr>\n",
              "  </thead>\n",
              "  <tbody>\n",
              "    <tr>\n",
              "      <th>0</th>\n",
              "      <td>2017-07-01</td>\n",
              "      <td>66</td>\n",
              "      <td>48</td>\n",
              "      <td>63</td>\n",
              "      <td>44</td>\n",
              "      <td>37</td>\n",
              "      <td>45</td>\n",
              "      <td>6</td>\n",
              "      <td>0</td>\n",
              "    </tr>\n",
              "    <tr>\n",
              "      <th>1</th>\n",
              "      <td>2017-07-02</td>\n",
              "      <td>53</td>\n",
              "      <td>53</td>\n",
              "      <td>62</td>\n",
              "      <td>72</td>\n",
              "      <td>37</td>\n",
              "      <td>43</td>\n",
              "      <td>7</td>\n",
              "      <td>0</td>\n",
              "    </tr>\n",
              "    <tr>\n",
              "      <th>2</th>\n",
              "      <td>2017-07-03</td>\n",
              "      <td>74</td>\n",
              "      <td>54</td>\n",
              "      <td>59</td>\n",
              "      <td>87</td>\n",
              "      <td>42</td>\n",
              "      <td>44</td>\n",
              "      <td>1</td>\n",
              "      <td>1</td>\n",
              "    </tr>\n",
              "    <tr>\n",
              "      <th>3</th>\n",
              "      <td>2017-07-04</td>\n",
              "      <td>87</td>\n",
              "      <td>56</td>\n",
              "      <td>57</td>\n",
              "      <td>58</td>\n",
              "      <td>49</td>\n",
              "      <td>44</td>\n",
              "      <td>2</td>\n",
              "      <td>1</td>\n",
              "    </tr>\n",
              "    <tr>\n",
              "      <th>4</th>\n",
              "      <td>2017-07-05</td>\n",
              "      <td>95</td>\n",
              "      <td>62</td>\n",
              "      <td>58</td>\n",
              "      <td>72</td>\n",
              "      <td>53</td>\n",
              "      <td>44</td>\n",
              "      <td>3</td>\n",
              "      <td>1</td>\n",
              "    </tr>\n",
              "  </tbody>\n",
              "</table>\n",
              "</div>"
            ],
            "text/plain": [
              "        date  hm  hm_aw  hm_am  cc  cc_aw  cc_am  day_week  weekday\n",
              "0 2017-07-01  66     48     63  44     37     45         6        0\n",
              "1 2017-07-02  53     53     62  72     37     43         7        0\n",
              "2 2017-07-03  74     54     59  87     42     44         1        1\n",
              "3 2017-07-04  87     56     57  58     49     44         2        1\n",
              "4 2017-07-05  95     62     58  72     53     44         3        1"
            ]
          },
          "metadata": {
            "tags": []
          },
          "execution_count": 7
        }
      ]
    },
    {
      "cell_type": "markdown",
      "metadata": {
        "id": "QW0otwLbqMN7"
      },
      "source": [
        "## **Step#2 Data Processing**"
      ]
    },
    {
      "cell_type": "code",
      "metadata": {
        "id": "pVVkaMuWqM20"
      },
      "source": [
        "df = data.loc[:,['date', 'hm', 'hm_aw', 'hm_am', 'weekday']]\n",
        "df['date'] = pd.to_datetime(df['date'], infer_datetime_format=True)\n",
        "df = df.set_index('date')"
      ],
      "execution_count": 8,
      "outputs": []
    },
    {
      "cell_type": "code",
      "metadata": {
        "colab": {
          "base_uri": "https://localhost:8080/"
        },
        "id": "zK3tvxumqQpM",
        "outputId": "0650dee7-7dba-467d-fb0e-482fb8b6db7a"
      },
      "source": [
        "df.info()"
      ],
      "execution_count": 9,
      "outputs": [
        {
          "output_type": "stream",
          "text": [
            "<class 'pandas.core.frame.DataFrame'>\n",
            "DatetimeIndex: 1348 entries, 2017-07-01 to 2021-03-09\n",
            "Data columns (total 4 columns):\n",
            " #   Column   Non-Null Count  Dtype\n",
            "---  ------   --------------  -----\n",
            " 0   hm       1348 non-null   int64\n",
            " 1   hm_aw    1348 non-null   int64\n",
            " 2   hm_am    1348 non-null   int64\n",
            " 3   weekday  1348 non-null   int64\n",
            "dtypes: int64(4)\n",
            "memory usage: 52.7 KB\n"
          ],
          "name": "stdout"
        }
      ]
    },
    {
      "cell_type": "markdown",
      "metadata": {
        "id": "F7DAxUwQqUCs"
      },
      "source": [
        "### **Stationary Test**"
      ]
    },
    {
      "cell_type": "code",
      "metadata": {
        "id": "uynC1X2ZqRJ0"
      },
      "source": [
        "#creating test for stationarity\n",
        "from statsmodels.tsa.stattools import adfuller\n",
        "def test_stationary(timeseries):\n",
        "\n",
        "  #Perform Dicky Fuller Test:\n",
        "  print ('Result of Dicky-Fuller Test:')\n",
        "  dftest = adfuller(timeseries, autolag='AIC')\n",
        "  dfoutput = pd.Series(dftest[0:4], \n",
        "                       index=['Test Statistic','p-value','#Lags Used',\n",
        "                              'Number of Observations Used'])\n",
        "  \n",
        "  for key,value in dftest[4].items():\n",
        "        dfoutput['Critical Value (%s)'%key] = value\n",
        "  print(dfoutput)"
      ],
      "execution_count": 10,
      "outputs": []
    },
    {
      "cell_type": "code",
      "metadata": {
        "colab": {
          "base_uri": "https://localhost:8080/"
        },
        "id": "Xetz0oELqZub",
        "outputId": "9a41d29a-3135-464f-d636-0b1e1e0538f4"
      },
      "source": [
        "#Loop to check all columns of the DF\n",
        "import functools\n",
        "df.apply(functools.partial(test_stationary))"
      ],
      "execution_count": 11,
      "outputs": [
        {
          "output_type": "stream",
          "text": [
            "Result of Dicky-Fuller Test:\n",
            "Test Statistic                  -2.5335\n",
            "p-value                          0.1075\n",
            "#Lags Used                      20.0000\n",
            "Number of Observations Used   1327.0000\n",
            "Critical Value (1%)             -3.4353\n",
            "Critical Value (5%)             -2.8637\n",
            "Critical Value (10%)            -2.5679\n",
            "dtype: float64\n",
            "Result of Dicky-Fuller Test:\n",
            "Test Statistic                  -2.7086\n",
            "p-value                          0.0726\n",
            "#Lags Used                      23.0000\n",
            "Number of Observations Used   1324.0000\n",
            "Critical Value (1%)             -3.4353\n",
            "Critical Value (5%)             -2.8637\n",
            "Critical Value (10%)            -2.5679\n",
            "dtype: float64\n",
            "Result of Dicky-Fuller Test:\n",
            "Test Statistic                  -2.8019\n",
            "p-value                          0.0580\n",
            "#Lags Used                      23.0000\n",
            "Number of Observations Used   1324.0000\n",
            "Critical Value (1%)             -3.4353\n",
            "Critical Value (5%)             -2.8637\n",
            "Critical Value (10%)            -2.5679\n",
            "dtype: float64\n",
            "Result of Dicky-Fuller Test:\n",
            "Test Statistic                   0.0000\n",
            "p-value                          0.9585\n",
            "#Lags Used                      10.0000\n",
            "Number of Observations Used   1337.0000\n",
            "Critical Value (1%)             -3.4353\n",
            "Critical Value (5%)             -2.8637\n",
            "Critical Value (10%)            -2.5679\n",
            "dtype: float64\n"
          ],
          "name": "stdout"
        },
        {
          "output_type": "execute_result",
          "data": {
            "text/plain": [
              "hm         None\n",
              "hm_aw      None\n",
              "hm_am      None\n",
              "weekday    None\n",
              "dtype: object"
            ]
          },
          "metadata": {
            "tags": []
          },
          "execution_count": 11
        }
      ]
    },
    {
      "cell_type": "markdown",
      "metadata": {
        "id": "N0kqzoU8qcX7"
      },
      "source": [
        "### **Differencing**"
      ]
    },
    {
      "cell_type": "code",
      "metadata": {
        "colab": {
          "base_uri": "https://localhost:8080/",
          "height": 232
        },
        "id": "EGEMe8mHqdYT",
        "outputId": "77408c52-4bad-4aea-e6fc-cc57b4ac3267"
      },
      "source": [
        "df_diff = df.diff().dropna()\n",
        "df_diff = df_diff.astype(int)\n",
        "df_diff.head()"
      ],
      "execution_count": 12,
      "outputs": [
        {
          "output_type": "execute_result",
          "data": {
            "text/html": [
              "<div>\n",
              "<style scoped>\n",
              "    .dataframe tbody tr th:only-of-type {\n",
              "        vertical-align: middle;\n",
              "    }\n",
              "\n",
              "    .dataframe tbody tr th {\n",
              "        vertical-align: top;\n",
              "    }\n",
              "\n",
              "    .dataframe thead th {\n",
              "        text-align: right;\n",
              "    }\n",
              "</style>\n",
              "<table border=\"1\" class=\"dataframe\">\n",
              "  <thead>\n",
              "    <tr style=\"text-align: right;\">\n",
              "      <th></th>\n",
              "      <th>hm</th>\n",
              "      <th>hm_aw</th>\n",
              "      <th>hm_am</th>\n",
              "      <th>weekday</th>\n",
              "    </tr>\n",
              "    <tr>\n",
              "      <th>date</th>\n",
              "      <th></th>\n",
              "      <th></th>\n",
              "      <th></th>\n",
              "      <th></th>\n",
              "    </tr>\n",
              "  </thead>\n",
              "  <tbody>\n",
              "    <tr>\n",
              "      <th>2017-07-02</th>\n",
              "      <td>-13</td>\n",
              "      <td>5</td>\n",
              "      <td>-1</td>\n",
              "      <td>0</td>\n",
              "    </tr>\n",
              "    <tr>\n",
              "      <th>2017-07-03</th>\n",
              "      <td>21</td>\n",
              "      <td>1</td>\n",
              "      <td>-3</td>\n",
              "      <td>1</td>\n",
              "    </tr>\n",
              "    <tr>\n",
              "      <th>2017-07-04</th>\n",
              "      <td>13</td>\n",
              "      <td>2</td>\n",
              "      <td>-2</td>\n",
              "      <td>0</td>\n",
              "    </tr>\n",
              "    <tr>\n",
              "      <th>2017-07-05</th>\n",
              "      <td>8</td>\n",
              "      <td>6</td>\n",
              "      <td>1</td>\n",
              "      <td>0</td>\n",
              "    </tr>\n",
              "    <tr>\n",
              "      <th>2017-07-06</th>\n",
              "      <td>-1</td>\n",
              "      <td>6</td>\n",
              "      <td>0</td>\n",
              "      <td>0</td>\n",
              "    </tr>\n",
              "  </tbody>\n",
              "</table>\n",
              "</div>"
            ],
            "text/plain": [
              "            hm  hm_aw  hm_am  weekday\n",
              "date                                 \n",
              "2017-07-02 -13      5     -1        0\n",
              "2017-07-03  21      1     -3        1\n",
              "2017-07-04  13      2     -2        0\n",
              "2017-07-05   8      6      1        0\n",
              "2017-07-06  -1      6      0        0"
            ]
          },
          "metadata": {
            "tags": []
          },
          "execution_count": 12
        }
      ]
    },
    {
      "cell_type": "markdown",
      "metadata": {
        "id": "ku0gmq3cqxVE"
      },
      "source": [
        "### **Reshaping**"
      ]
    },
    {
      "cell_type": "code",
      "metadata": {
        "id": "zPe_ZaAOq0-M"
      },
      "source": [
        "dataset = df_diff.values #numpy.ndarray\n",
        "dataset = dataset.astype('int')\n",
        "dataset = np.reshape(dataset, (-1, 1))\n",
        "scaler = MinMaxScaler(feature_range=(0, 1))\n",
        "dataset = scaler.fit_transform(dataset)"
      ],
      "execution_count": 13,
      "outputs": []
    },
    {
      "cell_type": "markdown",
      "metadata": {
        "id": "VGUGuwzqrF-E"
      },
      "source": [
        "### **Splitting Data**"
      ]
    },
    {
      "cell_type": "code",
      "metadata": {
        "colab": {
          "base_uri": "https://localhost:8080/"
        },
        "id": "35rmQMzwq-4E",
        "outputId": "334fb7eb-3339-4b20-d38d-64d2b079deae"
      },
      "source": [
        "train_size = int(len(dataset) * 0.80)\n",
        "test_size = len(dataset) - train_size\n",
        "train, test = dataset[0:train_size,:], dataset[train_size:len(dataset),:]\n",
        "print(len(train), len(test))"
      ],
      "execution_count": 14,
      "outputs": [
        {
          "output_type": "stream",
          "text": [
            "4310 1078\n"
          ],
          "name": "stdout"
        }
      ]
    },
    {
      "cell_type": "markdown",
      "metadata": {
        "id": "cz8_vvWargGj"
      },
      "source": [
        "### **Time Frames Lookbacks**"
      ]
    },
    {
      "cell_type": "code",
      "metadata": {
        "id": "oQELMqSXrNmU"
      },
      "source": [
        "''' Helper to create time frames with look backs '''\n",
        "def create_dataset(dataset, look_back=1):\n",
        "    dataX, dataY = [], []\n",
        "    for i in range(len(dataset) - look_back):\n",
        "        a = dataset[i:(i + look_back), 0]\n",
        "        dataX.append(a)\n",
        "        dataY.append(dataset[i + look_back, 0])\n",
        "    print(len(dataY))\n",
        "    return np.array(dataX), np.array(dataY)"
      ],
      "execution_count": 15,
      "outputs": []
    },
    {
      "cell_type": "code",
      "metadata": {
        "colab": {
          "base_uri": "https://localhost:8080/"
        },
        "id": "9kcdJADisFcS",
        "outputId": "14c6c20d-ecc9-415b-b30b-c500ad466131"
      },
      "source": [
        "''' Creating time frames with look backs '''\n",
        "look_back = 1\n",
        "trainX, trainY = create_dataset(train, look_back)\n",
        "testX, testY = create_dataset(test, look_back)"
      ],
      "execution_count": 16,
      "outputs": [
        {
          "output_type": "stream",
          "text": [
            "4309\n",
            "1077\n"
          ],
          "name": "stdout"
        }
      ]
    },
    {
      "cell_type": "code",
      "metadata": {
        "colab": {
          "base_uri": "https://localhost:8080/"
        },
        "id": "DuWoJ9V2tGqL",
        "outputId": "9247805b-e523-427b-f068-ba34f5a978ef"
      },
      "source": [
        "a = testX\n",
        "a.shape"
      ],
      "execution_count": 17,
      "outputs": [
        {
          "output_type": "execute_result",
          "data": {
            "text/plain": [
              "(1077, 1)"
            ]
          },
          "metadata": {
            "tags": []
          },
          "execution_count": 17
        }
      ]
    },
    {
      "cell_type": "code",
      "metadata": {
        "colab": {
          "base_uri": "https://localhost:8080/"
        },
        "id": "LRDilzrBsSkj",
        "outputId": "d35980c4-828c-4a3e-eb7d-5043f1708952"
      },
      "source": [
        "''' Re-shaping data for model requirement '''\n",
        "trainX = np.reshape(trainX, (trainX.shape[0], 1, trainX.shape[1]))\n",
        "testX = np.reshape(testX, (testX.shape[0], 1, testX.shape[1]))\n",
        "print('Training data size:',trainX.shape)\n",
        "print('Test data size:',testX.shape)"
      ],
      "execution_count": 18,
      "outputs": [
        {
          "output_type": "stream",
          "text": [
            "Training data size: (4309, 1, 1)\n",
            "Test data size: (1077, 1, 1)\n"
          ],
          "name": "stdout"
        }
      ]
    },
    {
      "cell_type": "markdown",
      "metadata": {
        "id": "Vjax8tZpsgMk"
      },
      "source": [
        "## **Step#3 Fitting and Training Model**"
      ]
    },
    {
      "cell_type": "code",
      "metadata": {
        "colab": {
          "base_uri": "https://localhost:8080/"
        },
        "id": "__WLpI6cshK0",
        "outputId": "2ad173be-3ba7-4da4-8c55-9d38bd768ae5"
      },
      "source": [
        "''' Fitting the data in LSTM Deep Learning model '''\n",
        "\n",
        "model = tf.keras.Sequential()\n",
        "model.add(LSTM(128, input_shape=(trainX.shape[1], trainX.shape[2])))\n",
        "model.add(tf.keras.layers.LeakyReLU(alpha=0.5)) \n",
        "model.add(tf.keras.layers.Dropout(0.5)) \n",
        "model.add(tf.keras.layers.Dense(1))\n",
        "model.compile(loss='mae', optimizer='adam')\n",
        "\n",
        "start = timer()\n",
        "history = model.fit(trainX, trainY, epochs=50, batch_size=100, validation_data=(testX, testY), verbose=1, shuffle=True)\n",
        "end = timer()\n",
        "\n",
        "# Training Phase\n",
        "model.summary()"
      ],
      "execution_count": 19,
      "outputs": [
        {
          "output_type": "stream",
          "text": [
            "Epoch 1/50\n",
            "44/44 [==============================] - 3s 17ms/step - loss: 0.2215 - val_loss: 0.0699\n",
            "Epoch 2/50\n",
            "44/44 [==============================] - 0s 6ms/step - loss: 0.0497 - val_loss: 0.0299\n",
            "Epoch 3/50\n",
            "44/44 [==============================] - 0s 6ms/step - loss: 0.0437 - val_loss: 0.0255\n",
            "Epoch 4/50\n",
            "44/44 [==============================] - 0s 6ms/step - loss: 0.0435 - val_loss: 0.0245\n",
            "Epoch 5/50\n",
            "44/44 [==============================] - 0s 6ms/step - loss: 0.0417 - val_loss: 0.0256\n",
            "Epoch 6/50\n",
            "44/44 [==============================] - 0s 6ms/step - loss: 0.0400 - val_loss: 0.0242\n",
            "Epoch 7/50\n",
            "44/44 [==============================] - 0s 7ms/step - loss: 0.0388 - val_loss: 0.0236\n",
            "Epoch 8/50\n",
            "44/44 [==============================] - 0s 6ms/step - loss: 0.0378 - val_loss: 0.0230\n",
            "Epoch 9/50\n",
            "44/44 [==============================] - 0s 6ms/step - loss: 0.0373 - val_loss: 0.0229\n",
            "Epoch 10/50\n",
            "44/44 [==============================] - 0s 7ms/step - loss: 0.0360 - val_loss: 0.0219\n",
            "Epoch 11/50\n",
            "44/44 [==============================] - 0s 8ms/step - loss: 0.0358 - val_loss: 0.0240\n",
            "Epoch 12/50\n",
            "44/44 [==============================] - 0s 6ms/step - loss: 0.0347 - val_loss: 0.0216\n",
            "Epoch 13/50\n",
            "44/44 [==============================] - 0s 7ms/step - loss: 0.0347 - val_loss: 0.0241\n",
            "Epoch 14/50\n",
            "44/44 [==============================] - 0s 6ms/step - loss: 0.0337 - val_loss: 0.0215\n",
            "Epoch 15/50\n",
            "44/44 [==============================] - 0s 7ms/step - loss: 0.0336 - val_loss: 0.0208\n",
            "Epoch 16/50\n",
            "44/44 [==============================] - 0s 6ms/step - loss: 0.0333 - val_loss: 0.0212\n",
            "Epoch 17/50\n",
            "44/44 [==============================] - 0s 6ms/step - loss: 0.0327 - val_loss: 0.0208\n",
            "Epoch 18/50\n",
            "44/44 [==============================] - 0s 7ms/step - loss: 0.0320 - val_loss: 0.0207\n",
            "Epoch 19/50\n",
            "44/44 [==============================] - 0s 6ms/step - loss: 0.0320 - val_loss: 0.0223\n",
            "Epoch 20/50\n",
            "44/44 [==============================] - 0s 6ms/step - loss: 0.0316 - val_loss: 0.0213\n",
            "Epoch 21/50\n",
            "44/44 [==============================] - 0s 6ms/step - loss: 0.0311 - val_loss: 0.0212\n",
            "Epoch 22/50\n",
            "44/44 [==============================] - 0s 7ms/step - loss: 0.0307 - val_loss: 0.0222\n",
            "Epoch 23/50\n",
            "44/44 [==============================] - 0s 6ms/step - loss: 0.0305 - val_loss: 0.0209\n",
            "Epoch 24/50\n",
            "44/44 [==============================] - 0s 7ms/step - loss: 0.0302 - val_loss: 0.0215\n",
            "Epoch 25/50\n",
            "44/44 [==============================] - 0s 7ms/step - loss: 0.0294 - val_loss: 0.0217\n",
            "Epoch 26/50\n",
            "44/44 [==============================] - 0s 6ms/step - loss: 0.0290 - val_loss: 0.0221\n",
            "Epoch 27/50\n",
            "44/44 [==============================] - 0s 6ms/step - loss: 0.0287 - val_loss: 0.0208\n",
            "Epoch 28/50\n",
            "44/44 [==============================] - 0s 6ms/step - loss: 0.0285 - val_loss: 0.0209\n",
            "Epoch 29/50\n",
            "44/44 [==============================] - 0s 6ms/step - loss: 0.0280 - val_loss: 0.0214\n",
            "Epoch 30/50\n",
            "44/44 [==============================] - 0s 6ms/step - loss: 0.0275 - val_loss: 0.0217\n",
            "Epoch 31/50\n",
            "44/44 [==============================] - 0s 6ms/step - loss: 0.0274 - val_loss: 0.0208\n",
            "Epoch 32/50\n",
            "44/44 [==============================] - 0s 6ms/step - loss: 0.0270 - val_loss: 0.0209\n",
            "Epoch 33/50\n",
            "44/44 [==============================] - 0s 6ms/step - loss: 0.0266 - val_loss: 0.0209\n",
            "Epoch 34/50\n",
            "44/44 [==============================] - 0s 6ms/step - loss: 0.0264 - val_loss: 0.0208\n",
            "Epoch 35/50\n",
            "44/44 [==============================] - 0s 6ms/step - loss: 0.0262 - val_loss: 0.0212\n",
            "Epoch 36/50\n",
            "44/44 [==============================] - 0s 7ms/step - loss: 0.0261 - val_loss: 0.0208\n",
            "Epoch 37/50\n",
            "44/44 [==============================] - 0s 6ms/step - loss: 0.0260 - val_loss: 0.0208\n",
            "Epoch 38/50\n",
            "44/44 [==============================] - 0s 8ms/step - loss: 0.0257 - val_loss: 0.0212\n",
            "Epoch 39/50\n",
            "44/44 [==============================] - 0s 7ms/step - loss: 0.0256 - val_loss: 0.0213\n",
            "Epoch 40/50\n",
            "44/44 [==============================] - 0s 7ms/step - loss: 0.0255 - val_loss: 0.0211\n",
            "Epoch 41/50\n",
            "44/44 [==============================] - 0s 6ms/step - loss: 0.0253 - val_loss: 0.0207\n",
            "Epoch 42/50\n",
            "44/44 [==============================] - 0s 7ms/step - loss: 0.0251 - val_loss: 0.0207\n",
            "Epoch 43/50\n",
            "44/44 [==============================] - 0s 6ms/step - loss: 0.0251 - val_loss: 0.0213\n",
            "Epoch 44/50\n",
            "44/44 [==============================] - 0s 7ms/step - loss: 0.0250 - val_loss: 0.0207\n",
            "Epoch 45/50\n",
            "44/44 [==============================] - 0s 6ms/step - loss: 0.0249 - val_loss: 0.0210\n",
            "Epoch 46/50\n",
            "44/44 [==============================] - 0s 7ms/step - loss: 0.0250 - val_loss: 0.0210\n",
            "Epoch 47/50\n",
            "44/44 [==============================] - 0s 7ms/step - loss: 0.0248 - val_loss: 0.0207\n",
            "Epoch 48/50\n",
            "44/44 [==============================] - 0s 6ms/step - loss: 0.0248 - val_loss: 0.0210\n",
            "Epoch 49/50\n",
            "44/44 [==============================] - 0s 6ms/step - loss: 0.0248 - val_loss: 0.0207\n",
            "Epoch 50/50\n",
            "44/44 [==============================] - 0s 7ms/step - loss: 0.0247 - val_loss: 0.0208\n",
            "Model: \"sequential\"\n",
            "_________________________________________________________________\n",
            "Layer (type)                 Output Shape              Param #   \n",
            "=================================================================\n",
            "module_wrapper (ModuleWrappe (None, 128)               66560     \n",
            "_________________________________________________________________\n",
            "leaky_re_lu (LeakyReLU)      (None, 128)               0         \n",
            "_________________________________________________________________\n",
            "dropout (Dropout)            (None, 128)               0         \n",
            "_________________________________________________________________\n",
            "dense (Dense)                (None, 1)                 129       \n",
            "=================================================================\n",
            "Total params: 66,689\n",
            "Trainable params: 66,689\n",
            "Non-trainable params: 0\n",
            "_________________________________________________________________\n"
          ],
          "name": "stdout"
        }
      ]
    },
    {
      "cell_type": "code",
      "metadata": {
        "colab": {
          "base_uri": "https://localhost:8080/"
        },
        "id": "ETpTKtwUsp2b",
        "outputId": "4a50d41f-c8fd-46fb-8f2c-831d4037d1be"
      },
      "source": [
        "print(\"Time Consumption\", end-start)"
      ],
      "execution_count": 20,
      "outputs": [
        {
          "output_type": "stream",
          "text": [
            "Time Consumption 17.812555092999986\n"
          ],
          "name": "stdout"
        }
      ]
    },
    {
      "cell_type": "markdown",
      "metadata": {
        "id": "Brq5lpKrsasc"
      },
      "source": [
        "## **Step#4 Actual vs Prediction Plot and Evaluation Metrics**"
      ]
    },
    {
      "cell_type": "code",
      "metadata": {
        "id": "eYZlingLsS9D"
      },
      "source": [
        "''' Predicting 1 years data based on 5 years of previous data '''\n",
        "yhat = model.predict(testX)"
      ],
      "execution_count": 21,
      "outputs": []
    },
    {
      "cell_type": "code",
      "metadata": {
        "colab": {
          "base_uri": "https://localhost:8080/",
          "height": 521
        },
        "id": "H8roY1TLswfL",
        "outputId": "4a56c621-9897-46d8-f751-c3dbd89ee7da"
      },
      "source": [
        "# plot history\n",
        "plt.plot(history.history['loss'], label='train')\n",
        "plt.plot(history.history['val_loss'], label='test')\n",
        "plt.legend()\n",
        "\n",
        "plt.title('model loss group test A',size=15)\n",
        "plt.ylabel('loss',size=15)\n",
        "plt.xlabel('epochs',size=15)\n",
        "plt.legend(loc='upper right',fontsize=15)\n",
        "\n",
        "plt.show()"
      ],
      "execution_count": 22,
      "outputs": [
        {
          "output_type": "display_data",
          "data": {
            "image/png": "[encoded data removed]",
            "text/plain": [
              "<Figure size 720x576 with 1 Axes>"
            ]
          },
          "metadata": {
            "tags": []
          }
        }
      ]
    },
    {
      "cell_type": "code",
      "metadata": {
        "colab": {
          "base_uri": "https://localhost:8080/",
          "height": 505
        },
        "id": "l5DkpdLrsyUz",
        "outputId": "f62018e0-7b5a-47ff-96a0-0489e2204321"
      },
      "source": [
        "''' Plotting the first 500 entries to see prediction '''\n",
        "\n",
        "plt.figure(figsize=(20,8))\n",
        "plt.plot(yhat, label='predict')\n",
        "plt.plot(a, label='true')\n",
        "plt.legend()\n",
        "\n",
        "plt.ylabel('Group test A', size=15)\n",
        "plt.xlabel('Time step', size=15)\n",
        "plt.legend(fontsize=15)\n",
        "\n",
        "plt.show()"
      ],
      "execution_count": 23,
      "outputs": [
        {
          "output_type": "display_data",
          "data": {
            "image/png": "[encoded data removed]",
            "text/plain": [
              "<Figure size 1440x576 with 1 Axes>"
            ]
          },
          "metadata": {
            "tags": []
          }
        }
      ]
    },
    {
      "cell_type": "code",
      "metadata": {
        "colab": {
          "base_uri": "https://localhost:8080/"
        },
        "id": "6WLfTcous0iy",
        "outputId": "47c26b7d-3c99-4890-eaef-4a7a64927f60"
      },
      "source": [
        "# RMSE\n",
        "print('MSE value :', mean_squared_error(a, yhat))\n",
        "print('RMSE value  : ', sqrt(mean_squared_error(a, yhat)))"
      ],
      "execution_count": 25,
      "outputs": [
        {
          "output_type": "stream",
          "text": [
            "MSE value : 0.002308526671104038\n",
            "RMSE value  :  0.04804712968642391\n"
          ],
          "name": "stdout"
        }
      ]
    }
  ]
}