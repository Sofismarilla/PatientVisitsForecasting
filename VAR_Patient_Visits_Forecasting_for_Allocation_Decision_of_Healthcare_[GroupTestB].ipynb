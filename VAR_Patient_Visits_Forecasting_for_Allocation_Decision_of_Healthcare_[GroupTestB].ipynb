{
  "nbformat": 4,
  "nbformat_minor": 0,
  "metadata": {
    "colab": {
      "name": "VAR Patient Visits Forecasting for Allocation Decision of Healthcare [GroupTestB] ",
      "provenance": [],
      "collapsed_sections": [],
      "mount_file_id": "1qfc01G4eB7KUxtEQJkGHTZKrDBUfBfm1",
      "authorship_tag": "ABX9TyOZpy9NzmxBhJZHXHAReVzA",
      "include_colab_link": true
    },
    "kernelspec": {
      "name": "python3",
      "display_name": "Python 3"
    },
    "language_info": {
      "name": "python"
    }
  },
  "cells": [
    {
      "cell_type": "markdown",
      "metadata": {
        "id": "view-in-github",
        "colab_type": "text"
      },
      "source": [
        "<a href=\"https://colab.research.google.com/github/Sofismarilla/PatientVisitsForecasting/blob/main/VAR_Patient_Visits_Forecasting_for_Allocation_Decision_of_Healthcare_%5BGroupTestB%5D.ipynb\" target=\"_parent\"><img src=\"https://colab.research.google.com/assets/colab-badge.svg\" alt=\"Open In Colab\"/></a>"
      ]
    },
    {
      "cell_type": "markdown",
      "metadata": {
        "id": "TbBOeBwGJOgs"
      },
      "source": [
        "# **Multivariate Time Series Forecasting using VAR Model based on Patient Visits Medical Laboratory Data (Group Test B)**"
      ]
    },
    {
      "cell_type": "markdown",
      "metadata": {
        "id": "VPtieU83JTiE"
      },
      "source": [
        "## **Step#0 Fire System**"
      ]
    },
    {
      "cell_type": "code",
      "metadata": {
        "colab": {
          "base_uri": "https://localhost:8080/"
        },
        "id": "VSdA7daqDQN_",
        "outputId": "eefa72e3-391b-460e-b8aa-8f741f3107a6"
      },
      "source": [
        "!pip install pmdarima\n",
        "!pip install shap\n",
        "!pip install --upgrade mxnet~=1.7 gluonts\n",
        "!pip install python-utils\n",
        "!pip install plotly==4.1.0\n",
        "!pip install -U scikit-learn\n",
        "!pip install statsmodels\n",
        "!pip install --user scipy==1.2.0\n",
        "!pip install -U statsmodels"
      ],
      "execution_count": 1,
      "outputs": [
        {
          "output_type": "stream",
          "text": [
            "Collecting pmdarima\n",
            "\u001b[?25l  Downloading https://files.pythonhosted.org/packages/f4/c2/2a94bce6bba1deac3c0b16dbb14f28de0b9035e3211919cae8448455aa65/pmdarima-1.8.2-cp37-cp37m-manylinux1_x86_64.whl (1.5MB)\n",
            "\u001b[K     |████████████████████████████████| 1.5MB 13.1MB/s \n",
            "\u001b[?25hRequirement already satisfied: scipy>=1.3.2 in /usr/local/lib/python3.7/dist-packages (from pmdarima) (1.4.1)\n",
            "Requirement already satisfied: joblib>=0.11 in /usr/local/lib/python3.7/dist-packages (from pmdarima) (1.0.1)\n",
            "Requirement already satisfied: Cython!=0.29.18,>=0.29 in /usr/local/lib/python3.7/dist-packages (from pmdarima) (0.29.23)\n",
            "Requirement already satisfied: setuptools!=50.0.0,>=38.6.0 in /usr/local/lib/python3.7/dist-packages (from pmdarima) (57.0.0)\n",
            "Requirement already satisfied: scikit-learn>=0.22 in /usr/local/lib/python3.7/dist-packages (from pmdarima) (0.22.2.post1)\n",
            "Collecting statsmodels!=0.12.0,>=0.11\n",
            "\u001b[?25l  Downloading https://files.pythonhosted.org/packages/da/69/8eef30a6237c54f3c0b524140e2975f4b1eea3489b45eb3339574fc8acee/statsmodels-0.12.2-cp37-cp37m-manylinux1_x86_64.whl (9.5MB)\n",
            "\u001b[K     |████████████████████████████████| 9.5MB 52.6MB/s \n",
            "\u001b[?25hRequirement already satisfied: urllib3 in /usr/local/lib/python3.7/dist-packages (from pmdarima) (1.24.3)\n",
            "Requirement already satisfied: pandas>=0.19 in /usr/local/lib/python3.7/dist-packages (from pmdarima) (1.1.5)\n",
            "Requirement already satisfied: numpy~=1.19.0 in /usr/local/lib/python3.7/dist-packages (from pmdarima) (1.19.5)\n",
            "Requirement already satisfied: patsy>=0.5 in /usr/local/lib/python3.7/dist-packages (from statsmodels!=0.12.0,>=0.11->pmdarima) (0.5.1)\n",
            "Requirement already satisfied: python-dateutil>=2.7.3 in /usr/local/lib/python3.7/dist-packages (from pandas>=0.19->pmdarima) (2.8.1)\n",
            "Requirement already satisfied: pytz>=2017.2 in /usr/local/lib/python3.7/dist-packages (from pandas>=0.19->pmdarima) (2018.9)\n",
            "Requirement already satisfied: six in /usr/local/lib/python3.7/dist-packages (from patsy>=0.5->statsmodels!=0.12.0,>=0.11->pmdarima) (1.15.0)\n",
            "Installing collected packages: statsmodels, pmdarima\n",
            "  Found existing installation: statsmodels 0.10.2\n",
            "    Uninstalling statsmodels-0.10.2:\n",
            "      Successfully uninstalled statsmodels-0.10.2\n",
            "Successfully installed pmdarima-1.8.2 statsmodels-0.12.2\n",
            "Collecting shap\n",
            "\u001b[?25l  Downloading https://files.pythonhosted.org/packages/b9/f4/c5b95cddae15be80f8e58b25edceca105aa83c0b8c86a1edad24a6af80d3/shap-0.39.0.tar.gz (356kB)\n",
            "\u001b[K     |████████████████████████████████| 358kB 13.5MB/s \n",
            "\u001b[?25hRequirement already satisfied: numpy in /usr/local/lib/python3.7/dist-packages (from shap) (1.19.5)\n",
            "Requirement already satisfied: scipy in /usr/local/lib/python3.7/dist-packages (from shap) (1.4.1)\n",
            "Requirement already satisfied: scikit-learn in /usr/local/lib/python3.7/dist-packages (from shap) (0.22.2.post1)\n",
            "Requirement already satisfied: pandas in /usr/local/lib/python3.7/dist-packages (from shap) (1.1.5)\n",
            "Requirement already satisfied: tqdm>4.25.0 in /usr/local/lib/python3.7/dist-packages (from shap) (4.41.1)\n",
            "Collecting slicer==0.0.7\n",
            "  Downloading https://files.pythonhosted.org/packages/78/c2/b3f55dfdb8af9812fdb9baf70cacf3b9e82e505b2bd4324d588888b81202/slicer-0.0.7-py3-none-any.whl\n",
            "Requirement already satisfied: numba in /usr/local/lib/python3.7/dist-packages (from shap) (0.51.2)\n",
            "Requirement already satisfied: cloudpickle in /usr/local/lib/python3.7/dist-packages (from shap) (1.3.0)\n",
            "Requirement already satisfied: joblib>=0.11 in /usr/local/lib/python3.7/dist-packages (from scikit-learn->shap) (1.0.1)\n",
            "Requirement already satisfied: python-dateutil>=2.7.3 in /usr/local/lib/python3.7/dist-packages (from pandas->shap) (2.8.1)\n",
            "Requirement already satisfied: pytz>=2017.2 in /usr/local/lib/python3.7/dist-packages (from pandas->shap) (2018.9)\n",
            "Requirement already satisfied: setuptools in /usr/local/lib/python3.7/dist-packages (from numba->shap) (57.0.0)\n",
            "Requirement already satisfied: llvmlite<0.35,>=0.34.0.dev0 in /usr/local/lib/python3.7/dist-packages (from numba->shap) (0.34.0)\n",
            "Requirement already satisfied: six>=1.5 in /usr/local/lib/python3.7/dist-packages (from python-dateutil>=2.7.3->pandas->shap) (1.15.0)\n",
            "Building wheels for collected packages: shap\n",
            "  Building wheel for shap (setup.py) ... \u001b[?25l\u001b[?25hdone\n",
            "  Created wheel for shap: filename=shap-0.39.0-cp37-cp37m-linux_x86_64.whl size=491620 sha256=95bd26e87a2a5caff9bc2a5931de2d3785919e30197dd93e9cfe57f4047b4b13\n",
            "  Stored in directory: /root/.cache/pip/wheels/15/27/f5/a8ab9da52fd159aae6477b5ede6eaaec69fd130fa0fa59f283\n",
            "Successfully built shap\n",
            "Installing collected packages: slicer, shap\n",
            "Successfully installed shap-0.39.0 slicer-0.0.7\n",
            "Collecting mxnet~=1.7\n",
            "\u001b[?25l  Downloading https://files.pythonhosted.org/packages/30/07/66174e78c12a3048db9039aaa09553e35035ef3a008ba3e0ed8d2aa3c47b/mxnet-1.8.0.post0-py2.py3-none-manylinux2014_x86_64.whl (46.9MB)\n",
            "\u001b[K     |████████████████████████████████| 46.9MB 68kB/s \n",
            "\u001b[?25hCollecting gluonts\n",
            "\u001b[?25l  Downloading https://files.pythonhosted.org/packages/1e/a3/69f1a2b97f8ac8ccbe1f9975e6eddc0a42470f27c75dbfe78d9332bab74f/gluonts-0.7.6-py3-none-any.whl (897kB)\n",
            "\u001b[K     |████████████████████████████████| 901kB 33.6MB/s \n",
            "\u001b[?25hCollecting graphviz<0.9.0,>=0.8.1\n",
            "  Downloading https://files.pythonhosted.org/packages/53/39/4ab213673844e0c004bed8a0781a0721a3f6bb23eb8854ee75c236428892/graphviz-0.8.4-py2.py3-none-any.whl\n",
            "Requirement already satisfied, skipping upgrade: numpy<2.0.0,>1.16.0 in /usr/local/lib/python3.7/dist-packages (from mxnet~=1.7) (1.19.5)\n",
            "Requirement already satisfied, skipping upgrade: requests<3,>=2.20.0 in /usr/local/lib/python3.7/dist-packages (from mxnet~=1.7) (2.23.0)\n",
            "Requirement already satisfied, skipping upgrade: pandas~=1.0 in /usr/local/lib/python3.7/dist-packages (from gluonts) (1.1.5)\n",
            "Requirement already satisfied, skipping upgrade: tqdm~=4.23 in /usr/local/lib/python3.7/dist-packages (from gluonts) (4.41.1)\n",
            "Requirement already satisfied, skipping upgrade: holidays>=0.9 in /usr/local/lib/python3.7/dist-packages (from gluonts) (0.10.5.2)\n",
            "Requirement already satisfied, skipping upgrade: toolz~=0.10 in /usr/local/lib/python3.7/dist-packages (from gluonts) (0.11.1)\n",
            "Collecting pydantic~=1.1\n",
            "\u001b[?25l  Downloading https://files.pythonhosted.org/packages/9f/f2/2d5425efe57f6c4e06cbe5e587c1fd16929dcf0eb90bd4d3d1e1c97d1151/pydantic-1.8.2-cp37-cp37m-manylinux2014_x86_64.whl (10.1MB)\n",
            "\u001b[K     |████████████████████████████████| 10.1MB 56.2MB/s \n",
            "\u001b[?25hRequirement already satisfied, skipping upgrade: matplotlib~=3.0 in /usr/local/lib/python3.7/dist-packages (from gluonts) (3.2.2)\n",
            "Requirement already satisfied, skipping upgrade: idna<3,>=2.5 in /usr/local/lib/python3.7/dist-packages (from requests<3,>=2.20.0->mxnet~=1.7) (2.10)\n",
            "Requirement already satisfied, skipping upgrade: chardet<4,>=3.0.2 in /usr/local/lib/python3.7/dist-packages (from requests<3,>=2.20.0->mxnet~=1.7) (3.0.4)\n",
            "Requirement already satisfied, skipping upgrade: urllib3!=1.25.0,!=1.25.1,<1.26,>=1.21.1 in /usr/local/lib/python3.7/dist-packages (from requests<3,>=2.20.0->mxnet~=1.7) (1.24.3)\n",
            "Requirement already satisfied, skipping upgrade: certifi>=2017.4.17 in /usr/local/lib/python3.7/dist-packages (from requests<3,>=2.20.0->mxnet~=1.7) (2021.5.30)\n",
            "Requirement already satisfied, skipping upgrade: pytz>=2017.2 in /usr/local/lib/python3.7/dist-packages (from pandas~=1.0->gluonts) (2018.9)\n",
            "Requirement already satisfied, skipping upgrade: python-dateutil>=2.7.3 in /usr/local/lib/python3.7/dist-packages (from pandas~=1.0->gluonts) (2.8.1)\n",
            "Requirement already satisfied, skipping upgrade: six in /usr/local/lib/python3.7/dist-packages (from holidays>=0.9->gluonts) (1.15.0)\n",
            "Requirement already satisfied, skipping upgrade: hijri-converter in /usr/local/lib/python3.7/dist-packages (from holidays>=0.9->gluonts) (2.1.2)\n",
            "Requirement already satisfied, skipping upgrade: korean-lunar-calendar in /usr/local/lib/python3.7/dist-packages (from holidays>=0.9->gluonts) (0.2.1)\n",
            "Requirement already satisfied, skipping upgrade: convertdate>=2.3.0 in /usr/local/lib/python3.7/dist-packages (from holidays>=0.9->gluonts) (2.3.2)\n",
            "Requirement already satisfied, skipping upgrade: typing-extensions>=3.7.4.3 in /usr/local/lib/python3.7/dist-packages (from pydantic~=1.1->gluonts) (3.7.4.3)\n",
            "Requirement already satisfied, skipping upgrade: cycler>=0.10 in /usr/local/lib/python3.7/dist-packages (from matplotlib~=3.0->gluonts) (0.10.0)\n",
            "Requirement already satisfied, skipping upgrade: kiwisolver>=1.0.1 in /usr/local/lib/python3.7/dist-packages (from matplotlib~=3.0->gluonts) (1.3.1)\n",
            "Requirement already satisfied, skipping upgrade: pyparsing!=2.0.4,!=2.1.2,!=2.1.6,>=2.0.1 in /usr/local/lib/python3.7/dist-packages (from matplotlib~=3.0->gluonts) (2.4.7)\n",
            "Requirement already satisfied, skipping upgrade: pymeeus<=1,>=0.3.13 in /usr/local/lib/python3.7/dist-packages (from convertdate>=2.3.0->holidays>=0.9->gluonts) (0.5.11)\n",
            "Installing collected packages: graphviz, mxnet, pydantic, gluonts\n",
            "  Found existing installation: graphviz 0.10.1\n",
            "    Uninstalling graphviz-0.10.1:\n",
            "      Successfully uninstalled graphviz-0.10.1\n",
            "Successfully installed gluonts-0.7.6 graphviz-0.8.4 mxnet-1.8.0.post0 pydantic-1.8.2\n",
            "Requirement already satisfied: python-utils in /usr/local/lib/python3.7/dist-packages (2.5.6)\n",
            "Requirement already satisfied: six in /usr/local/lib/python3.7/dist-packages (from python-utils) (1.15.0)\n",
            "Collecting plotly==4.1.0\n",
            "\u001b[?25l  Downloading https://files.pythonhosted.org/packages/63/2b/4ca10995bfbdefd65c4238f9a2d3fde33705d18dd50914dd13302ec1daf1/plotly-4.1.0-py2.py3-none-any.whl (7.1MB)\n",
            "\u001b[K     |████████████████████████████████| 7.1MB 13.1MB/s \n",
            "\u001b[?25hRequirement already satisfied: six in /usr/local/lib/python3.7/dist-packages (from plotly==4.1.0) (1.15.0)\n",
            "Requirement already satisfied: retrying>=1.3.3 in /usr/local/lib/python3.7/dist-packages (from plotly==4.1.0) (1.3.3)\n",
            "\u001b[31mERROR: cufflinks 0.17.3 has requirement plotly>=4.1.1, but you'll have plotly 4.1.0 which is incompatible.\u001b[0m\n",
            "Installing collected packages: plotly\n",
            "  Found existing installation: plotly 4.4.1\n",
            "    Uninstalling plotly-4.4.1:\n",
            "      Successfully uninstalled plotly-4.4.1\n",
            "Successfully installed plotly-4.1.0\n",
            "Collecting scikit-learn\n",
            "\u001b[?25l  Downloading https://files.pythonhosted.org/packages/a8/eb/a48f25c967526b66d5f1fa7a984594f0bf0a5afafa94a8c4dbc317744620/scikit_learn-0.24.2-cp37-cp37m-manylinux2010_x86_64.whl (22.3MB)\n",
            "\u001b[K     |████████████████████████████████| 22.3MB 1.3MB/s \n",
            "\u001b[?25hCollecting threadpoolctl>=2.0.0\n",
            "  Downloading https://files.pythonhosted.org/packages/f7/12/ec3f2e203afa394a149911729357aa48affc59c20e2c1c8297a60f33f133/threadpoolctl-2.1.0-py3-none-any.whl\n",
            "Requirement already satisfied, skipping upgrade: numpy>=1.13.3 in /usr/local/lib/python3.7/dist-packages (from scikit-learn) (1.19.5)\n",
            "Requirement already satisfied, skipping upgrade: scipy>=0.19.1 in /usr/local/lib/python3.7/dist-packages (from scikit-learn) (1.4.1)\n",
            "Requirement already satisfied, skipping upgrade: joblib>=0.11 in /usr/local/lib/python3.7/dist-packages (from scikit-learn) (1.0.1)\n",
            "Installing collected packages: threadpoolctl, scikit-learn\n",
            "  Found existing installation: scikit-learn 0.22.2.post1\n",
            "    Uninstalling scikit-learn-0.22.2.post1:\n",
            "      Successfully uninstalled scikit-learn-0.22.2.post1\n",
            "Successfully installed scikit-learn-0.24.2 threadpoolctl-2.1.0\n",
            "Requirement already satisfied: statsmodels in /usr/local/lib/python3.7/dist-packages (0.12.2)\n",
            "Requirement already satisfied: patsy>=0.5 in /usr/local/lib/python3.7/dist-packages (from statsmodels) (0.5.1)\n",
            "Requirement already satisfied: pandas>=0.21 in /usr/local/lib/python3.7/dist-packages (from statsmodels) (1.1.5)\n",
            "Requirement already satisfied: numpy>=1.15 in /usr/local/lib/python3.7/dist-packages (from statsmodels) (1.19.5)\n",
            "Requirement already satisfied: scipy>=1.1 in /usr/local/lib/python3.7/dist-packages (from statsmodels) (1.4.1)\n",
            "Requirement already satisfied: six in /usr/local/lib/python3.7/dist-packages (from patsy>=0.5->statsmodels) (1.15.0)\n",
            "Requirement already satisfied: pytz>=2017.2 in /usr/local/lib/python3.7/dist-packages (from pandas>=0.21->statsmodels) (2018.9)\n",
            "Requirement already satisfied: python-dateutil>=2.7.3 in /usr/local/lib/python3.7/dist-packages (from pandas>=0.21->statsmodels) (2.8.1)\n",
            "Collecting scipy==1.2.0\n",
            "\u001b[?25l  Downloading https://files.pythonhosted.org/packages/80/39/066ecde98f373430bf7a39a02d91c7075b01ef4fc928456e8e31577342d6/scipy-1.2.0-cp37-cp37m-manylinux1_x86_64.whl (26.6MB)\n",
            "\u001b[K     |████████████████████████████████| 26.6MB 126kB/s \n",
            "\u001b[?25hRequirement already satisfied: numpy>=1.8.2 in /usr/local/lib/python3.7/dist-packages (from scipy==1.2.0) (1.19.5)\n",
            "\u001b[31mERROR: pmdarima 1.8.2 has requirement scipy>=1.3.2, but you'll have scipy 1.2.0 which is incompatible.\u001b[0m\n",
            "\u001b[31mERROR: albumentations 0.1.12 has requirement imgaug<0.2.7,>=0.2.5, but you'll have imgaug 0.2.9 which is incompatible.\u001b[0m\n",
            "Installing collected packages: scipy\n",
            "Successfully installed scipy-1.2.0\n",
            "Requirement already up-to-date: statsmodels in /usr/local/lib/python3.7/dist-packages (0.12.2)\n",
            "Requirement already satisfied, skipping upgrade: scipy>=1.1 in /root/.local/lib/python3.7/site-packages (from statsmodels) (1.2.0)\n",
            "Requirement already satisfied, skipping upgrade: patsy>=0.5 in /usr/local/lib/python3.7/dist-packages (from statsmodels) (0.5.1)\n",
            "Requirement already satisfied, skipping upgrade: pandas>=0.21 in /usr/local/lib/python3.7/dist-packages (from statsmodels) (1.1.5)\n",
            "Requirement already satisfied, skipping upgrade: numpy>=1.15 in /usr/local/lib/python3.7/dist-packages (from statsmodels) (1.19.5)\n",
            "Requirement already satisfied, skipping upgrade: six in /usr/local/lib/python3.7/dist-packages (from patsy>=0.5->statsmodels) (1.15.0)\n",
            "Requirement already satisfied, skipping upgrade: python-dateutil>=2.7.3 in /usr/local/lib/python3.7/dist-packages (from pandas>=0.21->statsmodels) (2.8.1)\n",
            "Requirement already satisfied, skipping upgrade: pytz>=2017.2 in /usr/local/lib/python3.7/dist-packages (from pandas>=0.21->statsmodels) (2018.9)\n"
          ],
          "name": "stdout"
        }
      ]
    },
    {
      "cell_type": "code",
      "metadata": {
        "id": "Ed59Bl30JUjc"
      },
      "source": [
        "import warnings\n",
        "import numpy as np\n",
        "import pandas as pd\n",
        "\n",
        "# Data visualization\n",
        "import folium\n",
        "import datetime\n",
        "%matplotlib inline\n",
        "import seaborn as sns \n",
        "import matplotlib as mpl\n",
        "import plotly.express as px\n",
        "import plotly.graph_objs as go\n",
        "import matplotlib.ticker as tkr\n",
        "import matplotlib.pyplot as plt\n",
        "from matplotlib.pylab import rcParams\n",
        "from IPython.display import display, HTML, display_html\n",
        "\n",
        "# Method Requirement\n",
        "import keras\n",
        "import sklearn\n",
        "import tensorflow as tf\n",
        "from keras.layers import *\n",
        "from keras.layers import LSTM\n",
        "from keras.layers import Dense\n",
        "from keras.layers import Dropout\n",
        "from keras.models import Sequential\n",
        "from keras.callbacks import EarlyStopping\n",
        "from sklearn.model_selection import train_test_split\n",
        "from keras.preprocessing.sequence import TimeseriesGenerator\n",
        "from sklearn.preprocessing import MinMaxScaler, StandardScaler\n",
        "\n",
        "# Statistics \n",
        "import scipy\n",
        "from math import sqrt\n",
        "from time import time\n",
        "from scipy import stats\n",
        "import statsmodels as sms\n",
        "from timeit import default_timer as timer\n",
        "from statsmodels.tsa.stattools import adfuller\n",
        "from statsmodels.tsa.arima.model import ARIMA\n",
        "from sklearn.metrics import mean_squared_error\n",
        "from sklearn.metrics import mean_absolute_percentage_error\n",
        "from statsmodels.tsa.stattools import grangercausalitytests\n",
        "from statsmodels.graphics.tsaplots import plot_acf, plot_pacf\n",
        "\n",
        "sns.set_style('white')\n",
        "warnings.filterwarnings('ignore')\n",
        "plt.rcParams['axes.grid'] = False\n",
        "sns.set_context(\"paper\", font_scale=1.3)\n",
        "plt.rcParams['figure.figsize'] = (10, 8)\n",
        "pd.set_option('display.float_format', lambda x: '%.4f' % x)"
      ],
      "execution_count": 2,
      "outputs": []
    },
    {
      "cell_type": "markdown",
      "metadata": {
        "id": "XOiEfuZyJ0Q8"
      },
      "source": [
        "## **Step#1 Input Data**"
      ]
    },
    {
      "cell_type": "code",
      "metadata": {
        "id": "kpgTkTCaI3iA"
      },
      "source": [
        "data = pd.read_csv('/content/drive/MyDrive/THESIS/Dataset/dateset_patient.csv')"
      ],
      "execution_count": 11,
      "outputs": []
    },
    {
      "cell_type": "code",
      "metadata": {
        "colab": {
          "base_uri": "https://localhost:8080/",
          "height": 202
        },
        "id": "jdaUfUMSJ399",
        "outputId": "02ccd7ec-4415-403a-872d-6c59b96f858d"
      },
      "source": [
        "data.head()"
      ],
      "execution_count": 12,
      "outputs": [
        {
          "output_type": "execute_result",
          "data": {
            "text/html": [
              "<div>\n",
              "<style scoped>\n",
              "    .dataframe tbody tr th:only-of-type {\n",
              "        vertical-align: middle;\n",
              "    }\n",
              "\n",
              "    .dataframe tbody tr th {\n",
              "        vertical-align: top;\n",
              "    }\n",
              "\n",
              "    .dataframe thead th {\n",
              "        text-align: right;\n",
              "    }\n",
              "</style>\n",
              "<table border=\"1\" class=\"dataframe\">\n",
              "  <thead>\n",
              "    <tr style=\"text-align: right;\">\n",
              "      <th></th>\n",
              "      <th>date</th>\n",
              "      <th>hm</th>\n",
              "      <th>hm_aw</th>\n",
              "      <th>hm_am</th>\n",
              "      <th>cc</th>\n",
              "      <th>cc_aw</th>\n",
              "      <th>cc_am</th>\n",
              "      <th>day_week</th>\n",
              "    </tr>\n",
              "  </thead>\n",
              "  <tbody>\n",
              "    <tr>\n",
              "      <th>0</th>\n",
              "      <td>7/1/2017</td>\n",
              "      <td>66</td>\n",
              "      <td>48</td>\n",
              "      <td>63</td>\n",
              "      <td>44</td>\n",
              "      <td>37</td>\n",
              "      <td>45</td>\n",
              "      <td>6</td>\n",
              "    </tr>\n",
              "    <tr>\n",
              "      <th>1</th>\n",
              "      <td>7/2/2017</td>\n",
              "      <td>53</td>\n",
              "      <td>53</td>\n",
              "      <td>62</td>\n",
              "      <td>72</td>\n",
              "      <td>37</td>\n",
              "      <td>43</td>\n",
              "      <td>7</td>\n",
              "    </tr>\n",
              "    <tr>\n",
              "      <th>2</th>\n",
              "      <td>7/3/2017</td>\n",
              "      <td>74</td>\n",
              "      <td>54</td>\n",
              "      <td>59</td>\n",
              "      <td>87</td>\n",
              "      <td>42</td>\n",
              "      <td>44</td>\n",
              "      <td>1</td>\n",
              "    </tr>\n",
              "    <tr>\n",
              "      <th>3</th>\n",
              "      <td>7/4/2017</td>\n",
              "      <td>87</td>\n",
              "      <td>56</td>\n",
              "      <td>57</td>\n",
              "      <td>58</td>\n",
              "      <td>49</td>\n",
              "      <td>44</td>\n",
              "      <td>2</td>\n",
              "    </tr>\n",
              "    <tr>\n",
              "      <th>4</th>\n",
              "      <td>7/5/2017</td>\n",
              "      <td>95</td>\n",
              "      <td>62</td>\n",
              "      <td>58</td>\n",
              "      <td>72</td>\n",
              "      <td>53</td>\n",
              "      <td>44</td>\n",
              "      <td>3</td>\n",
              "    </tr>\n",
              "  </tbody>\n",
              "</table>\n",
              "</div>"
            ],
            "text/plain": [
              "       date  hm  hm_aw  hm_am  cc  cc_aw  cc_am  day_week\n",
              "0  7/1/2017  66     48     63  44     37     45         6\n",
              "1  7/2/2017  53     53     62  72     37     43         7\n",
              "2  7/3/2017  74     54     59  87     42     44         1\n",
              "3  7/4/2017  87     56     57  58     49     44         2\n",
              "4  7/5/2017  95     62     58  72     53     44         3"
            ]
          },
          "metadata": {
            "tags": []
          },
          "execution_count": 12
        }
      ]
    },
    {
      "cell_type": "code",
      "metadata": {
        "colab": {
          "base_uri": "https://localhost:8080/"
        },
        "id": "pR6mfnWHukdP",
        "outputId": "4bb32a74-a080-403a-d610-b54517372b33"
      },
      "source": [
        "data.info()"
      ],
      "execution_count": 13,
      "outputs": [
        {
          "output_type": "stream",
          "text": [
            "<class 'pandas.core.frame.DataFrame'>\n",
            "RangeIndex: 1348 entries, 0 to 1347\n",
            "Data columns (total 8 columns):\n",
            " #   Column    Non-Null Count  Dtype \n",
            "---  ------    --------------  ----- \n",
            " 0   date      1348 non-null   object\n",
            " 1   hm        1348 non-null   int64 \n",
            " 2   hm_aw     1348 non-null   int64 \n",
            " 3   hm_am     1348 non-null   int64 \n",
            " 4   cc        1348 non-null   int64 \n",
            " 5   cc_aw     1348 non-null   int64 \n",
            " 6   cc_am     1348 non-null   int64 \n",
            " 7   day_week  1348 non-null   int64 \n",
            "dtypes: int64(7), object(1)\n",
            "memory usage: 84.4+ KB\n"
          ],
          "name": "stdout"
        }
      ]
    },
    {
      "cell_type": "code",
      "metadata": {
        "id": "w7ZSI0AlumyP"
      },
      "source": [
        "data['date'] = pd.to_datetime(data['date'], infer_datetime_format=True)\n",
        "data['weekday']= data.apply(lambda row: row['date'].weekday(),axis=1)\n",
        "data['weekday'] = (data[\"weekday\"] < 5).astype(int)"
      ],
      "execution_count": 14,
      "outputs": []
    },
    {
      "cell_type": "code",
      "metadata": {
        "colab": {
          "base_uri": "https://localhost:8080/"
        },
        "id": "cFk7L2pLuosn",
        "outputId": "743d0a2c-be07-4128-fc63-1a3f71ef0b88"
      },
      "source": [
        "data.info()"
      ],
      "execution_count": 15,
      "outputs": [
        {
          "output_type": "stream",
          "text": [
            "<class 'pandas.core.frame.DataFrame'>\n",
            "RangeIndex: 1348 entries, 0 to 1347\n",
            "Data columns (total 9 columns):\n",
            " #   Column    Non-Null Count  Dtype         \n",
            "---  ------    --------------  -----         \n",
            " 0   date      1348 non-null   datetime64[ns]\n",
            " 1   hm        1348 non-null   int64         \n",
            " 2   hm_aw     1348 non-null   int64         \n",
            " 3   hm_am     1348 non-null   int64         \n",
            " 4   cc        1348 non-null   int64         \n",
            " 5   cc_aw     1348 non-null   int64         \n",
            " 6   cc_am     1348 non-null   int64         \n",
            " 7   day_week  1348 non-null   int64         \n",
            " 8   weekday   1348 non-null   int64         \n",
            "dtypes: datetime64[ns](1), int64(8)\n",
            "memory usage: 94.9 KB\n"
          ],
          "name": "stdout"
        }
      ]
    },
    {
      "cell_type": "code",
      "metadata": {
        "colab": {
          "base_uri": "https://localhost:8080/",
          "height": 202
        },
        "id": "j7vkin0gurIv",
        "outputId": "53873397-414e-4b8d-fe88-10dec3903f54"
      },
      "source": [
        "data.head(5)"
      ],
      "execution_count": 16,
      "outputs": [
        {
          "output_type": "execute_result",
          "data": {
            "text/html": [
              "<div>\n",
              "<style scoped>\n",
              "    .dataframe tbody tr th:only-of-type {\n",
              "        vertical-align: middle;\n",
              "    }\n",
              "\n",
              "    .dataframe tbody tr th {\n",
              "        vertical-align: top;\n",
              "    }\n",
              "\n",
              "    .dataframe thead th {\n",
              "        text-align: right;\n",
              "    }\n",
              "</style>\n",
              "<table border=\"1\" class=\"dataframe\">\n",
              "  <thead>\n",
              "    <tr style=\"text-align: right;\">\n",
              "      <th></th>\n",
              "      <th>date</th>\n",
              "      <th>hm</th>\n",
              "      <th>hm_aw</th>\n",
              "      <th>hm_am</th>\n",
              "      <th>cc</th>\n",
              "      <th>cc_aw</th>\n",
              "      <th>cc_am</th>\n",
              "      <th>day_week</th>\n",
              "      <th>weekday</th>\n",
              "    </tr>\n",
              "  </thead>\n",
              "  <tbody>\n",
              "    <tr>\n",
              "      <th>0</th>\n",
              "      <td>2017-07-01</td>\n",
              "      <td>66</td>\n",
              "      <td>48</td>\n",
              "      <td>63</td>\n",
              "      <td>44</td>\n",
              "      <td>37</td>\n",
              "      <td>45</td>\n",
              "      <td>6</td>\n",
              "      <td>0</td>\n",
              "    </tr>\n",
              "    <tr>\n",
              "      <th>1</th>\n",
              "      <td>2017-07-02</td>\n",
              "      <td>53</td>\n",
              "      <td>53</td>\n",
              "      <td>62</td>\n",
              "      <td>72</td>\n",
              "      <td>37</td>\n",
              "      <td>43</td>\n",
              "      <td>7</td>\n",
              "      <td>0</td>\n",
              "    </tr>\n",
              "    <tr>\n",
              "      <th>2</th>\n",
              "      <td>2017-07-03</td>\n",
              "      <td>74</td>\n",
              "      <td>54</td>\n",
              "      <td>59</td>\n",
              "      <td>87</td>\n",
              "      <td>42</td>\n",
              "      <td>44</td>\n",
              "      <td>1</td>\n",
              "      <td>1</td>\n",
              "    </tr>\n",
              "    <tr>\n",
              "      <th>3</th>\n",
              "      <td>2017-07-04</td>\n",
              "      <td>87</td>\n",
              "      <td>56</td>\n",
              "      <td>57</td>\n",
              "      <td>58</td>\n",
              "      <td>49</td>\n",
              "      <td>44</td>\n",
              "      <td>2</td>\n",
              "      <td>1</td>\n",
              "    </tr>\n",
              "    <tr>\n",
              "      <th>4</th>\n",
              "      <td>2017-07-05</td>\n",
              "      <td>95</td>\n",
              "      <td>62</td>\n",
              "      <td>58</td>\n",
              "      <td>72</td>\n",
              "      <td>53</td>\n",
              "      <td>44</td>\n",
              "      <td>3</td>\n",
              "      <td>1</td>\n",
              "    </tr>\n",
              "  </tbody>\n",
              "</table>\n",
              "</div>"
            ],
            "text/plain": [
              "        date  hm  hm_aw  hm_am  cc  cc_aw  cc_am  day_week  weekday\n",
              "0 2017-07-01  66     48     63  44     37     45         6        0\n",
              "1 2017-07-02  53     53     62  72     37     43         7        0\n",
              "2 2017-07-03  74     54     59  87     42     44         1        1\n",
              "3 2017-07-04  87     56     57  58     49     44         2        1\n",
              "4 2017-07-05  95     62     58  72     53     44         3        1"
            ]
          },
          "metadata": {
            "tags": []
          },
          "execution_count": 16
        }
      ]
    },
    {
      "cell_type": "markdown",
      "metadata": {
        "id": "gP-q3IvIJ8TU"
      },
      "source": [
        "## **Step#2 Data Processing**"
      ]
    },
    {
      "cell_type": "markdown",
      "metadata": {
        "id": "osdY7VKcKDuU"
      },
      "source": [
        "### **Picking Variable**"
      ]
    },
    {
      "cell_type": "code",
      "metadata": {
        "id": "q2rMOJ4QL3sV"
      },
      "source": [
        "df = data.replace([np.inf, -np.inf], np.nan)\n",
        "df = df.fillna(0)"
      ],
      "execution_count": 17,
      "outputs": []
    },
    {
      "cell_type": "code",
      "metadata": {
        "id": "-nSwJla_vF1O"
      },
      "source": [
        "cc = df['cc'].fillna(df['cc'].mean())\n",
        "cc_aw = df['cc_aw'].fillna(df['cc'].mean())\n",
        "cc_am = df['cc_am'].fillna(df['cc'].mean())\n",
        "weekday = df['weekday'].fillna(df['cc'].mean())"
      ],
      "execution_count": 18,
      "outputs": []
    },
    {
      "cell_type": "code",
      "metadata": {
        "colab": {
          "base_uri": "https://localhost:8080/"
        },
        "id": "TpZgLGfrvxSf",
        "outputId": "6e4f514e-3d36-442a-fafb-9b1e371de21e"
      },
      "source": [
        "df_cc = pd.DataFrame({'cc':cc, 'cc_aw':cc_aw, 'cc_am':cc_am, 'weekday':weekday})\n",
        "df.to_csv(\"cc.csv\")\n",
        "df_cc.info()"
      ],
      "execution_count": 19,
      "outputs": [
        {
          "output_type": "stream",
          "text": [
            "<class 'pandas.core.frame.DataFrame'>\n",
            "RangeIndex: 1348 entries, 0 to 1347\n",
            "Data columns (total 4 columns):\n",
            " #   Column   Non-Null Count  Dtype\n",
            "---  ------   --------------  -----\n",
            " 0   cc       1348 non-null   int64\n",
            " 1   cc_aw    1348 non-null   int64\n",
            " 2   cc_am    1348 non-null   int64\n",
            " 3   weekday  1348 non-null   int64\n",
            "dtypes: int64(4)\n",
            "memory usage: 42.2 KB\n"
          ],
          "name": "stdout"
        }
      ]
    },
    {
      "cell_type": "code",
      "metadata": {
        "colab": {
          "base_uri": "https://localhost:8080/",
          "height": 202
        },
        "id": "KMWGKV-DHZNJ",
        "outputId": "2d55604a-3791-4334-a072-49e9dc525634"
      },
      "source": [
        "df_cc.head(5)"
      ],
      "execution_count": 20,
      "outputs": [
        {
          "output_type": "execute_result",
          "data": {
            "text/html": [
              "<div>\n",
              "<style scoped>\n",
              "    .dataframe tbody tr th:only-of-type {\n",
              "        vertical-align: middle;\n",
              "    }\n",
              "\n",
              "    .dataframe tbody tr th {\n",
              "        vertical-align: top;\n",
              "    }\n",
              "\n",
              "    .dataframe thead th {\n",
              "        text-align: right;\n",
              "    }\n",
              "</style>\n",
              "<table border=\"1\" class=\"dataframe\">\n",
              "  <thead>\n",
              "    <tr style=\"text-align: right;\">\n",
              "      <th></th>\n",
              "      <th>cc</th>\n",
              "      <th>cc_aw</th>\n",
              "      <th>cc_am</th>\n",
              "      <th>weekday</th>\n",
              "    </tr>\n",
              "  </thead>\n",
              "  <tbody>\n",
              "    <tr>\n",
              "      <th>0</th>\n",
              "      <td>44</td>\n",
              "      <td>37</td>\n",
              "      <td>45</td>\n",
              "      <td>0</td>\n",
              "    </tr>\n",
              "    <tr>\n",
              "      <th>1</th>\n",
              "      <td>72</td>\n",
              "      <td>37</td>\n",
              "      <td>43</td>\n",
              "      <td>0</td>\n",
              "    </tr>\n",
              "    <tr>\n",
              "      <th>2</th>\n",
              "      <td>87</td>\n",
              "      <td>42</td>\n",
              "      <td>44</td>\n",
              "      <td>1</td>\n",
              "    </tr>\n",
              "    <tr>\n",
              "      <th>3</th>\n",
              "      <td>58</td>\n",
              "      <td>49</td>\n",
              "      <td>44</td>\n",
              "      <td>1</td>\n",
              "    </tr>\n",
              "    <tr>\n",
              "      <th>4</th>\n",
              "      <td>72</td>\n",
              "      <td>53</td>\n",
              "      <td>44</td>\n",
              "      <td>1</td>\n",
              "    </tr>\n",
              "  </tbody>\n",
              "</table>\n",
              "</div>"
            ],
            "text/plain": [
              "   cc  cc_aw  cc_am  weekday\n",
              "0  44     37     45        0\n",
              "1  72     37     43        0\n",
              "2  87     42     44        1\n",
              "3  58     49     44        1\n",
              "4  72     53     44        1"
            ]
          },
          "metadata": {
            "tags": []
          },
          "execution_count": 20
        }
      ]
    },
    {
      "cell_type": "markdown",
      "metadata": {
        "id": "TRt5hS1HHfVK"
      },
      "source": [
        "### **Stationary Test**"
      ]
    },
    {
      "cell_type": "code",
      "metadata": {
        "id": "n_jD26PzG9sA"
      },
      "source": [
        "#creating test for stationarity\n",
        "from statsmodels.tsa.stattools import adfuller\n",
        "def test_stationary(timeseries):\n",
        "\n",
        "  #Perform Dicky Fuller Test:\n",
        "  print ('Result of Dicky-Fuller Test:')\n",
        "  dftest = adfuller(timeseries, autolag='AIC')\n",
        "  dfoutput = pd.Series(dftest[0:4], \n",
        "                       index=['Test Statistic','p-value','#Lags Used',\n",
        "                              'Number of Observations Used'])\n",
        "  \n",
        "  for key,value in dftest[4].items():\n",
        "        dfoutput['Critical Value (%s)'%key] = value\n",
        "  print(dfoutput)"
      ],
      "execution_count": 21,
      "outputs": []
    },
    {
      "cell_type": "code",
      "metadata": {
        "colab": {
          "base_uri": "https://localhost:8080/"
        },
        "id": "1vYWzQIZG_8H",
        "outputId": "dce5facc-775d-4b65-b895-a022c1fc3f66"
      },
      "source": [
        "#Loop to check all columns of the DF\n",
        "import functools\n",
        "df_cc.apply(functools.partial(test_stationary))"
      ],
      "execution_count": 22,
      "outputs": [
        {
          "output_type": "stream",
          "text": [
            "Result of Dicky-Fuller Test:\n",
            "Test Statistic                  -3.0290\n",
            "p-value                          0.0323\n",
            "#Lags Used                      20.0000\n",
            "Number of Observations Used   1327.0000\n",
            "Critical Value (1%)             -3.4353\n",
            "Critical Value (5%)             -2.8637\n",
            "Critical Value (10%)            -2.5679\n",
            "dtype: float64\n",
            "Result of Dicky-Fuller Test:\n",
            "Test Statistic                  -2.7540\n",
            "p-value                          0.0651\n",
            "#Lags Used                      21.0000\n",
            "Number of Observations Used   1326.0000\n",
            "Critical Value (1%)             -3.4353\n",
            "Critical Value (5%)             -2.8637\n",
            "Critical Value (10%)            -2.5679\n",
            "dtype: float64\n",
            "Result of Dicky-Fuller Test:\n",
            "Test Statistic                  -2.9507\n",
            "p-value                          0.0398\n",
            "#Lags Used                      22.0000\n",
            "Number of Observations Used   1325.0000\n",
            "Critical Value (1%)             -3.4353\n",
            "Critical Value (5%)             -2.8637\n",
            "Critical Value (10%)            -2.5679\n",
            "dtype: float64\n",
            "Result of Dicky-Fuller Test:\n",
            "Test Statistic                   0.0000\n",
            "p-value                          0.9585\n",
            "#Lags Used                      10.0000\n",
            "Number of Observations Used   1337.0000\n",
            "Critical Value (1%)             -3.4353\n",
            "Critical Value (5%)             -2.8637\n",
            "Critical Value (10%)            -2.5679\n",
            "dtype: float64\n"
          ],
          "name": "stdout"
        },
        {
          "output_type": "execute_result",
          "data": {
            "text/plain": [
              "cc         None\n",
              "cc_aw      None\n",
              "cc_am      None\n",
              "weekday    None\n",
              "dtype: object"
            ]
          },
          "metadata": {
            "tags": []
          },
          "execution_count": 22
        }
      ]
    },
    {
      "cell_type": "markdown",
      "metadata": {
        "id": "9V1fd6JWIsE2"
      },
      "source": [
        "### **Differencing**"
      ]
    },
    {
      "cell_type": "code",
      "metadata": {
        "colab": {
          "base_uri": "https://localhost:8080/",
          "height": 202
        },
        "id": "lqUHqIUfFK7H",
        "outputId": "6f30bd0d-8619-4bee-e816-9e005b327a4c"
      },
      "source": [
        "df_diff = df_cc.diff().dropna()\n",
        "df_diff = df_diff.astype(int)\n",
        "df_diff.head()"
      ],
      "execution_count": 23,
      "outputs": [
        {
          "output_type": "execute_result",
          "data": {
            "text/html": [
              "<div>\n",
              "<style scoped>\n",
              "    .dataframe tbody tr th:only-of-type {\n",
              "        vertical-align: middle;\n",
              "    }\n",
              "\n",
              "    .dataframe tbody tr th {\n",
              "        vertical-align: top;\n",
              "    }\n",
              "\n",
              "    .dataframe thead th {\n",
              "        text-align: right;\n",
              "    }\n",
              "</style>\n",
              "<table border=\"1\" class=\"dataframe\">\n",
              "  <thead>\n",
              "    <tr style=\"text-align: right;\">\n",
              "      <th></th>\n",
              "      <th>cc</th>\n",
              "      <th>cc_aw</th>\n",
              "      <th>cc_am</th>\n",
              "      <th>weekday</th>\n",
              "    </tr>\n",
              "  </thead>\n",
              "  <tbody>\n",
              "    <tr>\n",
              "      <th>1</th>\n",
              "      <td>28</td>\n",
              "      <td>0</td>\n",
              "      <td>-2</td>\n",
              "      <td>0</td>\n",
              "    </tr>\n",
              "    <tr>\n",
              "      <th>2</th>\n",
              "      <td>15</td>\n",
              "      <td>5</td>\n",
              "      <td>1</td>\n",
              "      <td>1</td>\n",
              "    </tr>\n",
              "    <tr>\n",
              "      <th>3</th>\n",
              "      <td>-29</td>\n",
              "      <td>7</td>\n",
              "      <td>0</td>\n",
              "      <td>0</td>\n",
              "    </tr>\n",
              "    <tr>\n",
              "      <th>4</th>\n",
              "      <td>14</td>\n",
              "      <td>4</td>\n",
              "      <td>0</td>\n",
              "      <td>0</td>\n",
              "    </tr>\n",
              "    <tr>\n",
              "      <th>5</th>\n",
              "      <td>-13</td>\n",
              "      <td>5</td>\n",
              "      <td>0</td>\n",
              "      <td>0</td>\n",
              "    </tr>\n",
              "  </tbody>\n",
              "</table>\n",
              "</div>"
            ],
            "text/plain": [
              "   cc  cc_aw  cc_am  weekday\n",
              "1  28      0     -2        0\n",
              "2  15      5      1        1\n",
              "3 -29      7      0        0\n",
              "4  14      4      0        0\n",
              "5 -13      5      0        0"
            ]
          },
          "metadata": {
            "tags": []
          },
          "execution_count": 23
        }
      ]
    },
    {
      "cell_type": "code",
      "metadata": {
        "colab": {
          "base_uri": "https://localhost:8080/"
        },
        "id": "il_OpzwOKgEm",
        "outputId": "914a8ef8-83e7-44a8-a4b9-509fda5113dd"
      },
      "source": [
        "df_diff.info()"
      ],
      "execution_count": 24,
      "outputs": [
        {
          "output_type": "stream",
          "text": [
            "<class 'pandas.core.frame.DataFrame'>\n",
            "Int64Index: 1347 entries, 1 to 1347\n",
            "Data columns (total 4 columns):\n",
            " #   Column   Non-Null Count  Dtype\n",
            "---  ------   --------------  -----\n",
            " 0   cc       1347 non-null   int64\n",
            " 1   cc_aw    1347 non-null   int64\n",
            " 2   cc_am    1347 non-null   int64\n",
            " 3   weekday  1347 non-null   int64\n",
            "dtypes: int64(4)\n",
            "memory usage: 52.6 KB\n"
          ],
          "name": "stdout"
        }
      ]
    },
    {
      "cell_type": "markdown",
      "metadata": {
        "id": "cWA0DyoAMja0"
      },
      "source": [
        "### **Model Order Selection**"
      ]
    },
    {
      "cell_type": "code",
      "metadata": {
        "id": "TM8znrugFWff"
      },
      "source": [
        "#Creating the VAR model\n",
        "from statsmodels.tsa.vector_ar.var_model import VAR\n",
        "model = VAR(df_diff)"
      ],
      "execution_count": 26,
      "outputs": []
    },
    {
      "cell_type": "code",
      "metadata": {
        "colab": {
          "base_uri": "https://localhost:8080/",
          "height": 387
        },
        "id": "L6eYvZMNJFyQ",
        "outputId": "007b1f72-3ed2-4e06-cbc5-33fd22ba35f2"
      },
      "source": [
        "#Bestmodel order\n",
        "modsel = model.select_order(15)\n",
        "modsel.summary()"
      ],
      "execution_count": 30,
      "outputs": [
        {
          "output_type": "execute_result",
          "data": {
            "text/html": [
              "<table class=\"simpletable\">\n",
              "<caption>VAR Order Selection (* highlights the minimums)</caption>\n",
              "<tr>\n",
              "   <td></td>      <th>AIC</th>         <th>BIC</th>         <th>FPE</th>        <th>HQIC</th>    \n",
              "</tr>\n",
              "<tr>\n",
              "  <th>0</th>  <td>     4.871</td>  <td>     4.886</td>  <td>     130.4</td>  <td>     4.876</td> \n",
              "</tr>\n",
              "<tr>\n",
              "  <th>1</th>  <td>     4.237</td>  <td>     4.315</td>  <td>     69.19</td>  <td>     4.266</td> \n",
              "</tr>\n",
              "<tr>\n",
              "  <th>2</th>  <td>     3.282</td>  <td>     3.423</td>  <td>     26.63</td>  <td>     3.335</td> \n",
              "</tr>\n",
              "<tr>\n",
              "  <th>3</th>  <td>     3.095</td>  <td>     3.298</td>  <td>     22.09</td>  <td>     3.171</td> \n",
              "</tr>\n",
              "<tr>\n",
              "  <th>4</th>  <td>     2.496</td>  <td>     2.761</td>  <td>     12.14</td>  <td>     2.596</td> \n",
              "</tr>\n",
              "<tr>\n",
              "  <th>5</th>  <td>     1.538</td>  <td>     1.865</td>  <td>     4.655</td>  <td>     1.661</td> \n",
              "</tr>\n",
              "<tr>\n",
              "  <th>6</th>  <td>    -60.61</td>  <td>    -60.22</td>  <td> 4.743e-27</td>  <td>    -60.47</td> \n",
              "</tr>\n",
              "<tr>\n",
              "  <th>7</th>  <td>    -67.39*</td> <td>    -66.94*</td> <td> 5.396e-30*</td> <td>    -67.22*</td>\n",
              "</tr>\n",
              "<tr>\n",
              "  <th>8</th>  <td>    -65.28</td>  <td>    -64.76</td>  <td> 4.461e-29</td>  <td>    -65.09</td> \n",
              "</tr>\n",
              "<tr>\n",
              "  <th>9</th>  <td>    -65.75</td>  <td>    -65.17</td>  <td> 2.798e-29</td>  <td>    -65.53</td> \n",
              "</tr>\n",
              "<tr>\n",
              "  <th>10</th> <td>    -67.23</td>  <td>    -66.59</td>  <td> 6.376e-30</td>  <td>    -66.99</td> \n",
              "</tr>\n",
              "<tr>\n",
              "  <th>11</th> <td>    -64.87</td>  <td>    -64.16</td>  <td> 6.744e-29</td>  <td>    -64.60</td> \n",
              "</tr>\n",
              "<tr>\n",
              "  <th>12</th> <td>    -66.95</td>  <td>    -66.19</td>  <td> 8.357e-30</td>  <td>    -66.67</td> \n",
              "</tr>\n",
              "<tr>\n",
              "  <th>13</th> <td>    -64.47</td>  <td>    -63.65</td>  <td> 9.995e-29</td>  <td>    -64.16</td> \n",
              "</tr>\n",
              "<tr>\n",
              "  <th>14</th> <td>    -66.00</td>  <td>    -65.11</td>  <td> 2.170e-29</td>  <td>    -65.67</td> \n",
              "</tr>\n",
              "<tr>\n",
              "  <th>15</th> <td>    -64.57</td>  <td>    -63.62</td>  <td> 9.049e-29</td>  <td>    -64.22</td> \n",
              "</tr>\n",
              "</table>"
            ],
            "text/plain": [
              "<class 'statsmodels.iolib.table.SimpleTable'>"
            ]
          },
          "metadata": {
            "tags": []
          },
          "execution_count": 30
        }
      ]
    },
    {
      "cell_type": "markdown",
      "metadata": {
        "id": "rw4zwmGGMumN"
      },
      "source": [
        "### **Splitting Data**"
      ]
    },
    {
      "cell_type": "code",
      "metadata": {
        "id": "0lwWK7V0LW04"
      },
      "source": [
        "#creating the train and validation set\n",
        "train = df_diff[:int(0.8*(len(df_diff)))]\n",
        "test = df_diff[int(0.8*(len(df_diff))):]"
      ],
      "execution_count": 31,
      "outputs": []
    },
    {
      "cell_type": "code",
      "metadata": {
        "colab": {
          "base_uri": "https://localhost:8080/"
        },
        "id": "IPF-QBQ_M2BQ",
        "outputId": "7fc70df3-4113-4bb9-8edf-ee781f51af0f"
      },
      "source": [
        "train.shape"
      ],
      "execution_count": 32,
      "outputs": [
        {
          "output_type": "execute_result",
          "data": {
            "text/plain": [
              "(1077, 4)"
            ]
          },
          "metadata": {
            "tags": []
          },
          "execution_count": 32
        }
      ]
    },
    {
      "cell_type": "code",
      "metadata": {
        "colab": {
          "base_uri": "https://localhost:8080/"
        },
        "id": "kuRgW_RcM5vF",
        "outputId": "716a256b-6c57-4bdb-ed4f-87cf71638c39"
      },
      "source": [
        "test.shape"
      ],
      "execution_count": 33,
      "outputs": [
        {
          "output_type": "execute_result",
          "data": {
            "text/plain": [
              "(270, 4)"
            ]
          },
          "metadata": {
            "tags": []
          },
          "execution_count": 33
        }
      ]
    },
    {
      "cell_type": "markdown",
      "metadata": {
        "id": "wUEOr_xkNDBN"
      },
      "source": [
        "## **Step#3 Fitting and Training Model**"
      ]
    },
    {
      "cell_type": "code",
      "metadata": {
        "id": "R2QlAni8NJPu"
      },
      "source": [
        "#fit the model\n",
        "from statsmodels.tsa.vector_ar.var_model import VAR\n",
        "\n",
        "model = VAR(endog=train)\n",
        "model_fit = model.fit(7)"
      ],
      "execution_count": 35,
      "outputs": []
    },
    {
      "cell_type": "markdown",
      "metadata": {
        "id": "LwWSRQbjNV-F"
      },
      "source": [
        "## **Step#4 Actual vs Prediction Plot and Evaluation Metrics**"
      ]
    },
    {
      "cell_type": "code",
      "metadata": {
        "id": "S_cfarr_NQIH"
      },
      "source": [
        "# make prediction on validation\n",
        "prediction = model_fit.forecast(model_fit.y, steps=len(test))"
      ],
      "execution_count": 36,
      "outputs": []
    },
    {
      "cell_type": "code",
      "metadata": {
        "colab": {
          "base_uri": "https://localhost:8080/"
        },
        "id": "rzIG4JLANd9G",
        "outputId": "37286e00-9db6-46b4-a9d9-2102d31578c9"
      },
      "source": [
        "prediction.shape"
      ],
      "execution_count": 37,
      "outputs": [
        {
          "output_type": "execute_result",
          "data": {
            "text/plain": [
              "(270, 4)"
            ]
          },
          "metadata": {
            "tags": []
          },
          "execution_count": 37
        }
      ]
    },
    {
      "cell_type": "code",
      "metadata": {
        "colab": {
          "base_uri": "https://localhost:8080/",
          "height": 202
        },
        "id": "H4n9WjrTNghu",
        "outputId": "e8226b87-da65-4c0b-fe93-aac1da875681"
      },
      "source": [
        "pd.DataFrame(prediction).head()"
      ],
      "execution_count": 38,
      "outputs": [
        {
          "output_type": "execute_result",
          "data": {
            "text/html": [
              "<div>\n",
              "<style scoped>\n",
              "    .dataframe tbody tr th:only-of-type {\n",
              "        vertical-align: middle;\n",
              "    }\n",
              "\n",
              "    .dataframe tbody tr th {\n",
              "        vertical-align: top;\n",
              "    }\n",
              "\n",
              "    .dataframe thead th {\n",
              "        text-align: right;\n",
              "    }\n",
              "</style>\n",
              "<table border=\"1\" class=\"dataframe\">\n",
              "  <thead>\n",
              "    <tr style=\"text-align: right;\">\n",
              "      <th></th>\n",
              "      <th>0</th>\n",
              "      <th>1</th>\n",
              "      <th>2</th>\n",
              "      <th>3</th>\n",
              "    </tr>\n",
              "  </thead>\n",
              "  <tbody>\n",
              "    <tr>\n",
              "      <th>0</th>\n",
              "      <td>21.4318</td>\n",
              "      <td>-0.5696</td>\n",
              "      <td>-0.5889</td>\n",
              "      <td>-1.0000</td>\n",
              "    </tr>\n",
              "    <tr>\n",
              "      <th>1</th>\n",
              "      <td>0.1991</td>\n",
              "      <td>-0.5860</td>\n",
              "      <td>0.2988</td>\n",
              "      <td>0.0000</td>\n",
              "    </tr>\n",
              "    <tr>\n",
              "      <th>2</th>\n",
              "      <td>5.5522</td>\n",
              "      <td>-1.6768</td>\n",
              "      <td>0.7015</td>\n",
              "      <td>1.0000</td>\n",
              "    </tr>\n",
              "    <tr>\n",
              "      <th>3</th>\n",
              "      <td>-5.7383</td>\n",
              "      <td>2.0001</td>\n",
              "      <td>0.3035</td>\n",
              "      <td>-0.0000</td>\n",
              "    </tr>\n",
              "    <tr>\n",
              "      <th>4</th>\n",
              "      <td>-3.4517</td>\n",
              "      <td>0.1807</td>\n",
              "      <td>-0.0005</td>\n",
              "      <td>0.0000</td>\n",
              "    </tr>\n",
              "  </tbody>\n",
              "</table>\n",
              "</div>"
            ],
            "text/plain": [
              "        0       1       2       3\n",
              "0 21.4318 -0.5696 -0.5889 -1.0000\n",
              "1  0.1991 -0.5860  0.2988  0.0000\n",
              "2  5.5522 -1.6768  0.7015  1.0000\n",
              "3 -5.7383  2.0001  0.3035 -0.0000\n",
              "4 -3.4517  0.1807 -0.0005  0.0000"
            ]
          },
          "metadata": {
            "tags": []
          },
          "execution_count": 38
        }
      ]
    },
    {
      "cell_type": "code",
      "metadata": {
        "colab": {
          "base_uri": "https://localhost:8080/"
        },
        "id": "OvQAw4cuNieu",
        "outputId": "cd4ae2f1-7bfa-433c-f0b7-f23e47071578"
      },
      "source": [
        "df2 = pd.DataFrame(prediction)[0]\n",
        "df2.head(30)"
      ],
      "execution_count": 39,
      "outputs": [
        {
          "output_type": "execute_result",
          "data": {
            "text/plain": [
              "0     21.4318\n",
              "1      0.1991\n",
              "2      5.5522\n",
              "3     -5.7383\n",
              "4     -3.4517\n",
              "5     -6.5376\n",
              "6    -10.3655\n",
              "7     20.8027\n",
              "8      0.3248\n",
              "9      3.9760\n",
              "10    -6.2930\n",
              "11    -1.7919\n",
              "12    -7.1264\n",
              "13   -11.0946\n",
              "14    22.2387\n",
              "15    -0.6559\n",
              "16     5.3619\n",
              "17    -7.0382\n",
              "18    -2.0784\n",
              "19    -6.6212\n",
              "20   -11.2728\n",
              "21    22.1896\n",
              "22    -0.6779\n",
              "23     5.4136\n",
              "24    -7.1886\n",
              "25    -1.9268\n",
              "26    -6.6558\n",
              "27   -11.3971\n",
              "28    22.3966\n",
              "29    -0.7885\n",
              "Name: 0, dtype: float64"
            ]
          },
          "metadata": {
            "tags": []
          },
          "execution_count": 39
        }
      ]
    },
    {
      "cell_type": "code",
      "metadata": {
        "colab": {
          "base_uri": "https://localhost:8080/",
          "height": 414
        },
        "id": "rOxxW2BtN6tn",
        "outputId": "e8b8b418-d4a8-449f-e0dd-ce307bbc9dea"
      },
      "source": [
        "df.head(1077)"
      ],
      "execution_count": 40,
      "outputs": [
        {
          "output_type": "execute_result",
          "data": {
            "text/html": [
              "<div>\n",
              "<style scoped>\n",
              "    .dataframe tbody tr th:only-of-type {\n",
              "        vertical-align: middle;\n",
              "    }\n",
              "\n",
              "    .dataframe tbody tr th {\n",
              "        vertical-align: top;\n",
              "    }\n",
              "\n",
              "    .dataframe thead th {\n",
              "        text-align: right;\n",
              "    }\n",
              "</style>\n",
              "<table border=\"1\" class=\"dataframe\">\n",
              "  <thead>\n",
              "    <tr style=\"text-align: right;\">\n",
              "      <th></th>\n",
              "      <th>date</th>\n",
              "      <th>hm</th>\n",
              "      <th>hm_aw</th>\n",
              "      <th>hm_am</th>\n",
              "      <th>cc</th>\n",
              "      <th>cc_aw</th>\n",
              "      <th>cc_am</th>\n",
              "      <th>day_week</th>\n",
              "      <th>weekday</th>\n",
              "    </tr>\n",
              "  </thead>\n",
              "  <tbody>\n",
              "    <tr>\n",
              "      <th>0</th>\n",
              "      <td>2017-07-01</td>\n",
              "      <td>66</td>\n",
              "      <td>48</td>\n",
              "      <td>63</td>\n",
              "      <td>44</td>\n",
              "      <td>37</td>\n",
              "      <td>45</td>\n",
              "      <td>6</td>\n",
              "      <td>0</td>\n",
              "    </tr>\n",
              "    <tr>\n",
              "      <th>1</th>\n",
              "      <td>2017-07-02</td>\n",
              "      <td>53</td>\n",
              "      <td>53</td>\n",
              "      <td>62</td>\n",
              "      <td>72</td>\n",
              "      <td>37</td>\n",
              "      <td>43</td>\n",
              "      <td>7</td>\n",
              "      <td>0</td>\n",
              "    </tr>\n",
              "    <tr>\n",
              "      <th>2</th>\n",
              "      <td>2017-07-03</td>\n",
              "      <td>74</td>\n",
              "      <td>54</td>\n",
              "      <td>59</td>\n",
              "      <td>87</td>\n",
              "      <td>42</td>\n",
              "      <td>44</td>\n",
              "      <td>1</td>\n",
              "      <td>1</td>\n",
              "    </tr>\n",
              "    <tr>\n",
              "      <th>3</th>\n",
              "      <td>2017-07-04</td>\n",
              "      <td>87</td>\n",
              "      <td>56</td>\n",
              "      <td>57</td>\n",
              "      <td>58</td>\n",
              "      <td>49</td>\n",
              "      <td>44</td>\n",
              "      <td>2</td>\n",
              "      <td>1</td>\n",
              "    </tr>\n",
              "    <tr>\n",
              "      <th>4</th>\n",
              "      <td>2017-07-05</td>\n",
              "      <td>95</td>\n",
              "      <td>62</td>\n",
              "      <td>58</td>\n",
              "      <td>72</td>\n",
              "      <td>53</td>\n",
              "      <td>44</td>\n",
              "      <td>3</td>\n",
              "      <td>1</td>\n",
              "    </tr>\n",
              "    <tr>\n",
              "      <th>...</th>\n",
              "      <td>...</td>\n",
              "      <td>...</td>\n",
              "      <td>...</td>\n",
              "      <td>...</td>\n",
              "      <td>...</td>\n",
              "      <td>...</td>\n",
              "      <td>...</td>\n",
              "      <td>...</td>\n",
              "      <td>...</td>\n",
              "    </tr>\n",
              "    <tr>\n",
              "      <th>1072</th>\n",
              "      <td>2020-06-07</td>\n",
              "      <td>39</td>\n",
              "      <td>56</td>\n",
              "      <td>47</td>\n",
              "      <td>57</td>\n",
              "      <td>46</td>\n",
              "      <td>39</td>\n",
              "      <td>7</td>\n",
              "      <td>0</td>\n",
              "    </tr>\n",
              "    <tr>\n",
              "      <th>1073</th>\n",
              "      <td>2020-06-08</td>\n",
              "      <td>65</td>\n",
              "      <td>54</td>\n",
              "      <td>48</td>\n",
              "      <td>36</td>\n",
              "      <td>47</td>\n",
              "      <td>40</td>\n",
              "      <td>1</td>\n",
              "      <td>1</td>\n",
              "    </tr>\n",
              "    <tr>\n",
              "      <th>1074</th>\n",
              "      <td>2020-06-09</td>\n",
              "      <td>62</td>\n",
              "      <td>58</td>\n",
              "      <td>48</td>\n",
              "      <td>43</td>\n",
              "      <td>45</td>\n",
              "      <td>40</td>\n",
              "      <td>2</td>\n",
              "      <td>1</td>\n",
              "    </tr>\n",
              "    <tr>\n",
              "      <th>1075</th>\n",
              "      <td>2020-06-10</td>\n",
              "      <td>48</td>\n",
              "      <td>57</td>\n",
              "      <td>49</td>\n",
              "      <td>44</td>\n",
              "      <td>44</td>\n",
              "      <td>40</td>\n",
              "      <td>3</td>\n",
              "      <td>1</td>\n",
              "    </tr>\n",
              "    <tr>\n",
              "      <th>1076</th>\n",
              "      <td>2020-06-11</td>\n",
              "      <td>63</td>\n",
              "      <td>54</td>\n",
              "      <td>49</td>\n",
              "      <td>32</td>\n",
              "      <td>42</td>\n",
              "      <td>40</td>\n",
              "      <td>4</td>\n",
              "      <td>1</td>\n",
              "    </tr>\n",
              "  </tbody>\n",
              "</table>\n",
              "<p>1077 rows × 9 columns</p>\n",
              "</div>"
            ],
            "text/plain": [
              "           date  hm  hm_aw  hm_am  cc  cc_aw  cc_am  day_week  weekday\n",
              "0    2017-07-01  66     48     63  44     37     45         6        0\n",
              "1    2017-07-02  53     53     62  72     37     43         7        0\n",
              "2    2017-07-03  74     54     59  87     42     44         1        1\n",
              "3    2017-07-04  87     56     57  58     49     44         2        1\n",
              "4    2017-07-05  95     62     58  72     53     44         3        1\n",
              "...         ...  ..    ...    ...  ..    ...    ...       ...      ...\n",
              "1072 2020-06-07  39     56     47  57     46     39         7        0\n",
              "1073 2020-06-08  65     54     48  36     47     40         1        1\n",
              "1074 2020-06-09  62     58     48  43     45     40         2        1\n",
              "1075 2020-06-10  48     57     49  44     44     40         3        1\n",
              "1076 2020-06-11  63     54     49  32     42     40         4        1\n",
              "\n",
              "[1077 rows x 9 columns]"
            ]
          },
          "metadata": {
            "tags": []
          },
          "execution_count": 40
        }
      ]
    },
    {
      "cell_type": "code",
      "metadata": {
        "colab": {
          "base_uri": "https://localhost:8080/",
          "height": 968
        },
        "id": "z1NtU9K2NuW3",
        "outputId": "96b17322-57fd-45af-c33e-baf6259514f4"
      },
      "source": [
        "#Convert to original data, 42 from the last train data (cc) values\n",
        "df_diff_pred = np.cumsum(df2) + 42\n",
        "pred = pd.DataFrame(df_diff_pred.astype(int))\n",
        "pred = pred.rename(columns={0:'pred'})\n",
        "pred.head(30)"
      ],
      "execution_count": 48,
      "outputs": [
        {
          "output_type": "execute_result",
          "data": {
            "text/html": [
              "<div>\n",
              "<style scoped>\n",
              "    .dataframe tbody tr th:only-of-type {\n",
              "        vertical-align: middle;\n",
              "    }\n",
              "\n",
              "    .dataframe tbody tr th {\n",
              "        vertical-align: top;\n",
              "    }\n",
              "\n",
              "    .dataframe thead th {\n",
              "        text-align: right;\n",
              "    }\n",
              "</style>\n",
              "<table border=\"1\" class=\"dataframe\">\n",
              "  <thead>\n",
              "    <tr style=\"text-align: right;\">\n",
              "      <th></th>\n",
              "      <th>pred</th>\n",
              "    </tr>\n",
              "  </thead>\n",
              "  <tbody>\n",
              "    <tr>\n",
              "      <th>0</th>\n",
              "      <td>63</td>\n",
              "    </tr>\n",
              "    <tr>\n",
              "      <th>1</th>\n",
              "      <td>63</td>\n",
              "    </tr>\n",
              "    <tr>\n",
              "      <th>2</th>\n",
              "      <td>69</td>\n",
              "    </tr>\n",
              "    <tr>\n",
              "      <th>3</th>\n",
              "      <td>63</td>\n",
              "    </tr>\n",
              "    <tr>\n",
              "      <th>4</th>\n",
              "      <td>59</td>\n",
              "    </tr>\n",
              "    <tr>\n",
              "      <th>5</th>\n",
              "      <td>53</td>\n",
              "    </tr>\n",
              "    <tr>\n",
              "      <th>6</th>\n",
              "      <td>43</td>\n",
              "    </tr>\n",
              "    <tr>\n",
              "      <th>7</th>\n",
              "      <td>63</td>\n",
              "    </tr>\n",
              "    <tr>\n",
              "      <th>8</th>\n",
              "      <td>64</td>\n",
              "    </tr>\n",
              "    <tr>\n",
              "      <th>9</th>\n",
              "      <td>68</td>\n",
              "    </tr>\n",
              "    <tr>\n",
              "      <th>10</th>\n",
              "      <td>61</td>\n",
              "    </tr>\n",
              "    <tr>\n",
              "      <th>11</th>\n",
              "      <td>60</td>\n",
              "    </tr>\n",
              "    <tr>\n",
              "      <th>12</th>\n",
              "      <td>52</td>\n",
              "    </tr>\n",
              "    <tr>\n",
              "      <th>13</th>\n",
              "      <td>41</td>\n",
              "    </tr>\n",
              "    <tr>\n",
              "      <th>14</th>\n",
              "      <td>64</td>\n",
              "    </tr>\n",
              "    <tr>\n",
              "      <th>15</th>\n",
              "      <td>63</td>\n",
              "    </tr>\n",
              "    <tr>\n",
              "      <th>16</th>\n",
              "      <td>68</td>\n",
              "    </tr>\n",
              "    <tr>\n",
              "      <th>17</th>\n",
              "      <td>61</td>\n",
              "    </tr>\n",
              "    <tr>\n",
              "      <th>18</th>\n",
              "      <td>59</td>\n",
              "    </tr>\n",
              "    <tr>\n",
              "      <th>19</th>\n",
              "      <td>53</td>\n",
              "    </tr>\n",
              "    <tr>\n",
              "      <th>20</th>\n",
              "      <td>41</td>\n",
              "    </tr>\n",
              "    <tr>\n",
              "      <th>21</th>\n",
              "      <td>64</td>\n",
              "    </tr>\n",
              "    <tr>\n",
              "      <th>22</th>\n",
              "      <td>63</td>\n",
              "    </tr>\n",
              "    <tr>\n",
              "      <th>23</th>\n",
              "      <td>68</td>\n",
              "    </tr>\n",
              "    <tr>\n",
              "      <th>24</th>\n",
              "      <td>61</td>\n",
              "    </tr>\n",
              "    <tr>\n",
              "      <th>25</th>\n",
              "      <td>59</td>\n",
              "    </tr>\n",
              "    <tr>\n",
              "      <th>26</th>\n",
              "      <td>52</td>\n",
              "    </tr>\n",
              "    <tr>\n",
              "      <th>27</th>\n",
              "      <td>41</td>\n",
              "    </tr>\n",
              "    <tr>\n",
              "      <th>28</th>\n",
              "      <td>63</td>\n",
              "    </tr>\n",
              "    <tr>\n",
              "      <th>29</th>\n",
              "      <td>63</td>\n",
              "    </tr>\n",
              "  </tbody>\n",
              "</table>\n",
              "</div>"
            ],
            "text/plain": [
              "    pred\n",
              "0     63\n",
              "1     63\n",
              "2     69\n",
              "3     63\n",
              "4     59\n",
              "5     53\n",
              "6     43\n",
              "7     63\n",
              "8     64\n",
              "9     68\n",
              "10    61\n",
              "11    60\n",
              "12    52\n",
              "13    41\n",
              "14    64\n",
              "15    63\n",
              "16    68\n",
              "17    61\n",
              "18    59\n",
              "19    53\n",
              "20    41\n",
              "21    64\n",
              "22    63\n",
              "23    68\n",
              "24    61\n",
              "25    59\n",
              "26    52\n",
              "27    41\n",
              "28    63\n",
              "29    63"
            ]
          },
          "metadata": {
            "tags": []
          },
          "execution_count": 48
        }
      ]
    },
    {
      "cell_type": "code",
      "metadata": {
        "colab": {
          "base_uri": "https://localhost:8080/",
          "height": 968
        },
        "id": "-Ww3es5LOIzf",
        "outputId": "9948a961-f24d-4e38-d357-2bdc44a6487e"
      },
      "source": [
        "#Take an original data\n",
        "actual = np.cumsum(test.cc) + 42\n",
        "actual = pd.DataFrame(actual)\n",
        "actual['pred'] = pred['pred'].values\n",
        "actual.head(30)"
      ],
      "execution_count": 49,
      "outputs": [
        {
          "output_type": "execute_result",
          "data": {
            "text/html": [
              "<div>\n",
              "<style scoped>\n",
              "    .dataframe tbody tr th:only-of-type {\n",
              "        vertical-align: middle;\n",
              "    }\n",
              "\n",
              "    .dataframe tbody tr th {\n",
              "        vertical-align: top;\n",
              "    }\n",
              "\n",
              "    .dataframe thead th {\n",
              "        text-align: right;\n",
              "    }\n",
              "</style>\n",
              "<table border=\"1\" class=\"dataframe\">\n",
              "  <thead>\n",
              "    <tr style=\"text-align: right;\">\n",
              "      <th></th>\n",
              "      <th>cc</th>\n",
              "      <th>pred</th>\n",
              "    </tr>\n",
              "  </thead>\n",
              "  <tbody>\n",
              "    <tr>\n",
              "      <th>1078</th>\n",
              "      <td>70</td>\n",
              "      <td>63</td>\n",
              "    </tr>\n",
              "    <tr>\n",
              "      <th>1079</th>\n",
              "      <td>67</td>\n",
              "      <td>63</td>\n",
              "    </tr>\n",
              "    <tr>\n",
              "      <th>1080</th>\n",
              "      <td>63</td>\n",
              "      <td>69</td>\n",
              "    </tr>\n",
              "    <tr>\n",
              "      <th>1081</th>\n",
              "      <td>80</td>\n",
              "      <td>63</td>\n",
              "    </tr>\n",
              "    <tr>\n",
              "      <th>1082</th>\n",
              "      <td>52</td>\n",
              "      <td>59</td>\n",
              "    </tr>\n",
              "    <tr>\n",
              "      <th>1083</th>\n",
              "      <td>54</td>\n",
              "      <td>53</td>\n",
              "    </tr>\n",
              "    <tr>\n",
              "      <th>1084</th>\n",
              "      <td>54</td>\n",
              "      <td>43</td>\n",
              "    </tr>\n",
              "    <tr>\n",
              "      <th>1085</th>\n",
              "      <td>65</td>\n",
              "      <td>63</td>\n",
              "    </tr>\n",
              "    <tr>\n",
              "      <th>1086</th>\n",
              "      <td>57</td>\n",
              "      <td>64</td>\n",
              "    </tr>\n",
              "    <tr>\n",
              "      <th>1087</th>\n",
              "      <td>86</td>\n",
              "      <td>68</td>\n",
              "    </tr>\n",
              "    <tr>\n",
              "      <th>1088</th>\n",
              "      <td>68</td>\n",
              "      <td>61</td>\n",
              "    </tr>\n",
              "    <tr>\n",
              "      <th>1089</th>\n",
              "      <td>70</td>\n",
              "      <td>60</td>\n",
              "    </tr>\n",
              "    <tr>\n",
              "      <th>1090</th>\n",
              "      <td>54</td>\n",
              "      <td>52</td>\n",
              "    </tr>\n",
              "    <tr>\n",
              "      <th>1091</th>\n",
              "      <td>47</td>\n",
              "      <td>41</td>\n",
              "    </tr>\n",
              "    <tr>\n",
              "      <th>1092</th>\n",
              "      <td>61</td>\n",
              "      <td>64</td>\n",
              "    </tr>\n",
              "    <tr>\n",
              "      <th>1093</th>\n",
              "      <td>80</td>\n",
              "      <td>63</td>\n",
              "    </tr>\n",
              "    <tr>\n",
              "      <th>1094</th>\n",
              "      <td>79</td>\n",
              "      <td>68</td>\n",
              "    </tr>\n",
              "    <tr>\n",
              "      <th>1095</th>\n",
              "      <td>66</td>\n",
              "      <td>61</td>\n",
              "    </tr>\n",
              "    <tr>\n",
              "      <th>1096</th>\n",
              "      <td>68</td>\n",
              "      <td>59</td>\n",
              "    </tr>\n",
              "    <tr>\n",
              "      <th>1097</th>\n",
              "      <td>60</td>\n",
              "      <td>53</td>\n",
              "    </tr>\n",
              "    <tr>\n",
              "      <th>1098</th>\n",
              "      <td>50</td>\n",
              "      <td>41</td>\n",
              "    </tr>\n",
              "    <tr>\n",
              "      <th>1099</th>\n",
              "      <td>66</td>\n",
              "      <td>64</td>\n",
              "    </tr>\n",
              "    <tr>\n",
              "      <th>1100</th>\n",
              "      <td>65</td>\n",
              "      <td>63</td>\n",
              "    </tr>\n",
              "    <tr>\n",
              "      <th>1101</th>\n",
              "      <td>72</td>\n",
              "      <td>68</td>\n",
              "    </tr>\n",
              "    <tr>\n",
              "      <th>1102</th>\n",
              "      <td>78</td>\n",
              "      <td>61</td>\n",
              "    </tr>\n",
              "    <tr>\n",
              "      <th>1103</th>\n",
              "      <td>68</td>\n",
              "      <td>59</td>\n",
              "    </tr>\n",
              "    <tr>\n",
              "      <th>1104</th>\n",
              "      <td>53</td>\n",
              "      <td>52</td>\n",
              "    </tr>\n",
              "    <tr>\n",
              "      <th>1105</th>\n",
              "      <td>53</td>\n",
              "      <td>41</td>\n",
              "    </tr>\n",
              "    <tr>\n",
              "      <th>1106</th>\n",
              "      <td>69</td>\n",
              "      <td>63</td>\n",
              "    </tr>\n",
              "    <tr>\n",
              "      <th>1107</th>\n",
              "      <td>57</td>\n",
              "      <td>63</td>\n",
              "    </tr>\n",
              "  </tbody>\n",
              "</table>\n",
              "</div>"
            ],
            "text/plain": [
              "      cc  pred\n",
              "1078  70    63\n",
              "1079  67    63\n",
              "1080  63    69\n",
              "1081  80    63\n",
              "1082  52    59\n",
              "1083  54    53\n",
              "1084  54    43\n",
              "1085  65    63\n",
              "1086  57    64\n",
              "1087  86    68\n",
              "1088  68    61\n",
              "1089  70    60\n",
              "1090  54    52\n",
              "1091  47    41\n",
              "1092  61    64\n",
              "1093  80    63\n",
              "1094  79    68\n",
              "1095  66    61\n",
              "1096  68    59\n",
              "1097  60    53\n",
              "1098  50    41\n",
              "1099  66    64\n",
              "1100  65    63\n",
              "1101  72    68\n",
              "1102  78    61\n",
              "1103  68    59\n",
              "1104  53    52\n",
              "1105  53    41\n",
              "1106  69    63\n",
              "1107  57    63"
            ]
          },
          "metadata": {
            "tags": []
          },
          "execution_count": 49
        }
      ]
    },
    {
      "cell_type": "code",
      "metadata": {
        "colab": {
          "base_uri": "https://localhost:8080/",
          "height": 501
        },
        "id": "T9pfAY0GcEia",
        "outputId": "fb78f86e-6a3c-4e1c-d649-85252d0c0fea"
      },
      "source": [
        "plt.plot(actual['cc'], label='actual')\n",
        "plt.plot(actual['pred'], label='forecast')"
      ],
      "execution_count": 50,
      "outputs": [
        {
          "output_type": "execute_result",
          "data": {
            "text/plain": [
              "[<matplotlib.lines.Line2D at 0x7fe9645eecd0>]"
            ]
          },
          "metadata": {
            "tags": []
          },
          "execution_count": 50
        },
        {
          "output_type": "display_data",
          "data": {
            "image/png": "[encoded data removed]",
            "text/plain": [
              "<Figure size 720x576 with 1 Axes>"
            ]
          },
          "metadata": {
            "tags": []
          }
        }
      ]
    },
    {
      "cell_type": "code",
      "metadata": {
        "colab": {
          "base_uri": "https://localhost:8080/"
        },
        "id": "WxnK_GGWPDtD",
        "outputId": "40adecd8-1f8f-41fb-aa7e-42390ed8b54a"
      },
      "source": [
        "# MSE and RMSE Score\n",
        "print('MSE value :', mean_squared_error(actual['cc'], actual['pred']))\n",
        "print('RMSE value  : ', sqrt(mean_squared_error(actual['cc'], actual['pred'])))"
      ],
      "execution_count": 51,
      "outputs": [
        {
          "output_type": "stream",
          "text": [
            "MSE value : 87.52222222222223\n",
            "RMSE value  :  9.355331219268628\n"
          ],
          "name": "stdout"
        }
      ]
    }
  ]
}