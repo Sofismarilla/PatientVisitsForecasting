{
  "nbformat": 4,
  "nbformat_minor": 0,
  "metadata": {
    "colab": {
      "name": "VAR Patient Visits Forecasting for Allocation Decision of Healthcare [GroupTestA] ",
      "provenance": [],
      "collapsed_sections": [],
      "toc_visible": true,
      "mount_file_id": "1CMtnhIniPcBpnBR0BD_dD_FcY5vE9ZXM",
      "authorship_tag": "ABX9TyPyeRuF3Fq2WYihecfJZhDT",
      "include_colab_link": true
    },
    "kernelspec": {
      "name": "python3",
      "display_name": "Python 3"
    },
    "language_info": {
      "name": "python"
    }
  },
  "cells": [
    {
      "cell_type": "markdown",
      "metadata": {
        "id": "view-in-github",
        "colab_type": "text"
      },
      "source": [
        "<a href=\"https://colab.research.google.com/github/Sofismarilla/PatientVisitsForecasting/blob/main/VAR_Patient_Visits_Forecasting_for_Allocation_Decision_of_Healthcare_%5BGroupTestA%5D.ipynb\" target=\"_parent\"><img src=\"https://colab.research.google.com/assets/colab-badge.svg\" alt=\"Open In Colab\"/></a>"
      ]
    },
    {
      "cell_type": "markdown",
      "metadata": {
        "id": "TbBOeBwGJOgs"
      },
      "source": [
        "# **Multivariate Time Series Forecasting using VAR Model based on Patient Visits Medical Laboratory Data (Group Test A)**"
      ]
    },
    {
      "cell_type": "markdown",
      "metadata": {
        "id": "VPtieU83JTiE"
      },
      "source": [
        "## **Step#0 Fire System**"
      ]
    },
    {
      "cell_type": "code",
      "metadata": {
        "colab": {
          "base_uri": "https://localhost:8080/"
        },
        "id": "VSdA7daqDQN_",
        "outputId": "ae958ba0-e18f-49ca-9bf5-98233234437d"
      },
      "source": [
        "!pip install pmdarima\n",
        "!pip install shap\n",
        "!pip install --upgrade mxnet~=1.7 gluonts\n",
        "!pip install python-utils\n",
        "!pip install plotly==4.1.0\n",
        "!pip install -U scikit-learn\n",
        "!pip install statsmodels\n",
        "!pip install --user scipy==1.2.0\n",
        "!pip install -U statsmodels"
      ],
      "execution_count": 1,
      "outputs": [
        {
          "output_type": "stream",
          "text": [
            "Collecting pmdarima\n",
            "\u001b[?25l  Downloading https://files.pythonhosted.org/packages/f4/c2/2a94bce6bba1deac3c0b16dbb14f28de0b9035e3211919cae8448455aa65/pmdarima-1.8.2-cp37-cp37m-manylinux1_x86_64.whl (1.5MB)\n",
            "\u001b[K     |████████████████████████████████| 1.5MB 5.4MB/s \n",
            "\u001b[?25hRequirement already satisfied: setuptools!=50.0.0,>=38.6.0 in /usr/local/lib/python3.7/dist-packages (from pmdarima) (57.0.0)\n",
            "Requirement already satisfied: scipy>=1.3.2 in /usr/local/lib/python3.7/dist-packages (from pmdarima) (1.4.1)\n",
            "Requirement already satisfied: Cython!=0.29.18,>=0.29 in /usr/local/lib/python3.7/dist-packages (from pmdarima) (0.29.23)\n",
            "Requirement already satisfied: numpy~=1.19.0 in /usr/local/lib/python3.7/dist-packages (from pmdarima) (1.19.5)\n",
            "Requirement already satisfied: joblib>=0.11 in /usr/local/lib/python3.7/dist-packages (from pmdarima) (1.0.1)\n",
            "Requirement already satisfied: urllib3 in /usr/local/lib/python3.7/dist-packages (from pmdarima) (1.24.3)\n",
            "Requirement already satisfied: scikit-learn>=0.22 in /usr/local/lib/python3.7/dist-packages (from pmdarima) (0.22.2.post1)\n",
            "Requirement already satisfied: pandas>=0.19 in /usr/local/lib/python3.7/dist-packages (from pmdarima) (1.1.5)\n",
            "Collecting statsmodels!=0.12.0,>=0.11\n",
            "\u001b[?25l  Downloading https://files.pythonhosted.org/packages/da/69/8eef30a6237c54f3c0b524140e2975f4b1eea3489b45eb3339574fc8acee/statsmodels-0.12.2-cp37-cp37m-manylinux1_x86_64.whl (9.5MB)\n",
            "\u001b[K     |████████████████████████████████| 9.5MB 15.9MB/s \n",
            "\u001b[?25hRequirement already satisfied: python-dateutil>=2.7.3 in /usr/local/lib/python3.7/dist-packages (from pandas>=0.19->pmdarima) (2.8.1)\n",
            "Requirement already satisfied: pytz>=2017.2 in /usr/local/lib/python3.7/dist-packages (from pandas>=0.19->pmdarima) (2018.9)\n",
            "Requirement already satisfied: patsy>=0.5 in /usr/local/lib/python3.7/dist-packages (from statsmodels!=0.12.0,>=0.11->pmdarima) (0.5.1)\n",
            "Requirement already satisfied: six>=1.5 in /usr/local/lib/python3.7/dist-packages (from python-dateutil>=2.7.3->pandas>=0.19->pmdarima) (1.15.0)\n",
            "Installing collected packages: statsmodels, pmdarima\n",
            "  Found existing installation: statsmodels 0.10.2\n",
            "    Uninstalling statsmodels-0.10.2:\n",
            "      Successfully uninstalled statsmodels-0.10.2\n",
            "Successfully installed pmdarima-1.8.2 statsmodels-0.12.2\n",
            "Collecting shap\n",
            "\u001b[?25l  Downloading https://files.pythonhosted.org/packages/b9/f4/c5b95cddae15be80f8e58b25edceca105aa83c0b8c86a1edad24a6af80d3/shap-0.39.0.tar.gz (356kB)\n",
            "\u001b[K     |████████████████████████████████| 358kB 5.0MB/s \n",
            "\u001b[?25hRequirement already satisfied: numpy in /usr/local/lib/python3.7/dist-packages (from shap) (1.19.5)\n",
            "Requirement already satisfied: scipy in /usr/local/lib/python3.7/dist-packages (from shap) (1.4.1)\n",
            "Requirement already satisfied: scikit-learn in /usr/local/lib/python3.7/dist-packages (from shap) (0.22.2.post1)\n",
            "Requirement already satisfied: pandas in /usr/local/lib/python3.7/dist-packages (from shap) (1.1.5)\n",
            "Requirement already satisfied: tqdm>4.25.0 in /usr/local/lib/python3.7/dist-packages (from shap) (4.41.1)\n",
            "Collecting slicer==0.0.7\n",
            "  Downloading https://files.pythonhosted.org/packages/78/c2/b3f55dfdb8af9812fdb9baf70cacf3b9e82e505b2bd4324d588888b81202/slicer-0.0.7-py3-none-any.whl\n",
            "Requirement already satisfied: numba in /usr/local/lib/python3.7/dist-packages (from shap) (0.51.2)\n",
            "Requirement already satisfied: cloudpickle in /usr/local/lib/python3.7/dist-packages (from shap) (1.3.0)\n",
            "Requirement already satisfied: joblib>=0.11 in /usr/local/lib/python3.7/dist-packages (from scikit-learn->shap) (1.0.1)\n",
            "Requirement already satisfied: pytz>=2017.2 in /usr/local/lib/python3.7/dist-packages (from pandas->shap) (2018.9)\n",
            "Requirement already satisfied: python-dateutil>=2.7.3 in /usr/local/lib/python3.7/dist-packages (from pandas->shap) (2.8.1)\n",
            "Requirement already satisfied: llvmlite<0.35,>=0.34.0.dev0 in /usr/local/lib/python3.7/dist-packages (from numba->shap) (0.34.0)\n",
            "Requirement already satisfied: setuptools in /usr/local/lib/python3.7/dist-packages (from numba->shap) (57.0.0)\n",
            "Requirement already satisfied: six>=1.5 in /usr/local/lib/python3.7/dist-packages (from python-dateutil>=2.7.3->pandas->shap) (1.15.0)\n",
            "Building wheels for collected packages: shap\n",
            "  Building wheel for shap (setup.py) ... \u001b[?25l\u001b[?25hdone\n",
            "  Created wheel for shap: filename=shap-0.39.0-cp37-cp37m-linux_x86_64.whl size=491641 sha256=3909a2fafe8ad86e59dabe798f71f03b37a8e84c4e73f2ec075cdd894f28e0d5\n",
            "  Stored in directory: /root/.cache/pip/wheels/15/27/f5/a8ab9da52fd159aae6477b5ede6eaaec69fd130fa0fa59f283\n",
            "Successfully built shap\n",
            "Installing collected packages: slicer, shap\n",
            "Successfully installed shap-0.39.0 slicer-0.0.7\n",
            "Collecting mxnet~=1.7\n",
            "\u001b[?25l  Downloading https://files.pythonhosted.org/packages/30/07/66174e78c12a3048db9039aaa09553e35035ef3a008ba3e0ed8d2aa3c47b/mxnet-1.8.0.post0-py2.py3-none-manylinux2014_x86_64.whl (46.9MB)\n",
            "\u001b[K     |████████████████████████████████| 46.9MB 66kB/s \n",
            "\u001b[?25hCollecting gluonts\n",
            "\u001b[?25l  Downloading https://files.pythonhosted.org/packages/1e/a3/69f1a2b97f8ac8ccbe1f9975e6eddc0a42470f27c75dbfe78d9332bab74f/gluonts-0.7.6-py3-none-any.whl (897kB)\n",
            "\u001b[K     |████████████████████████████████| 901kB 42.5MB/s \n",
            "\u001b[?25hRequirement already satisfied, skipping upgrade: numpy<2.0.0,>1.16.0 in /usr/local/lib/python3.7/dist-packages (from mxnet~=1.7) (1.19.5)\n",
            "Requirement already satisfied, skipping upgrade: requests<3,>=2.20.0 in /usr/local/lib/python3.7/dist-packages (from mxnet~=1.7) (2.23.0)\n",
            "Collecting graphviz<0.9.0,>=0.8.1\n",
            "  Downloading https://files.pythonhosted.org/packages/53/39/4ab213673844e0c004bed8a0781a0721a3f6bb23eb8854ee75c236428892/graphviz-0.8.4-py2.py3-none-any.whl\n",
            "Requirement already satisfied, skipping upgrade: tqdm~=4.23 in /usr/local/lib/python3.7/dist-packages (from gluonts) (4.41.1)\n",
            "Requirement already satisfied, skipping upgrade: toolz~=0.10 in /usr/local/lib/python3.7/dist-packages (from gluonts) (0.11.1)\n",
            "Requirement already satisfied, skipping upgrade: pandas~=1.0 in /usr/local/lib/python3.7/dist-packages (from gluonts) (1.1.5)\n",
            "Requirement already satisfied, skipping upgrade: holidays>=0.9 in /usr/local/lib/python3.7/dist-packages (from gluonts) (0.10.5.2)\n",
            "Collecting pydantic~=1.1\n",
            "\u001b[?25l  Downloading https://files.pythonhosted.org/packages/9f/f2/2d5425efe57f6c4e06cbe5e587c1fd16929dcf0eb90bd4d3d1e1c97d1151/pydantic-1.8.2-cp37-cp37m-manylinux2014_x86_64.whl (10.1MB)\n",
            "\u001b[K     |████████████████████████████████| 10.1MB 28.3MB/s \n",
            "\u001b[?25hRequirement already satisfied, skipping upgrade: matplotlib~=3.0 in /usr/local/lib/python3.7/dist-packages (from gluonts) (3.2.2)\n",
            "Requirement already satisfied, skipping upgrade: chardet<4,>=3.0.2 in /usr/local/lib/python3.7/dist-packages (from requests<3,>=2.20.0->mxnet~=1.7) (3.0.4)\n",
            "Requirement already satisfied, skipping upgrade: urllib3!=1.25.0,!=1.25.1,<1.26,>=1.21.1 in /usr/local/lib/python3.7/dist-packages (from requests<3,>=2.20.0->mxnet~=1.7) (1.24.3)\n",
            "Requirement already satisfied, skipping upgrade: certifi>=2017.4.17 in /usr/local/lib/python3.7/dist-packages (from requests<3,>=2.20.0->mxnet~=1.7) (2021.5.30)\n",
            "Requirement already satisfied, skipping upgrade: idna<3,>=2.5 in /usr/local/lib/python3.7/dist-packages (from requests<3,>=2.20.0->mxnet~=1.7) (2.10)\n",
            "Requirement already satisfied, skipping upgrade: python-dateutil>=2.7.3 in /usr/local/lib/python3.7/dist-packages (from pandas~=1.0->gluonts) (2.8.1)\n",
            "Requirement already satisfied, skipping upgrade: pytz>=2017.2 in /usr/local/lib/python3.7/dist-packages (from pandas~=1.0->gluonts) (2018.9)\n",
            "Requirement already satisfied, skipping upgrade: six in /usr/local/lib/python3.7/dist-packages (from holidays>=0.9->gluonts) (1.15.0)\n",
            "Requirement already satisfied, skipping upgrade: convertdate>=2.3.0 in /usr/local/lib/python3.7/dist-packages (from holidays>=0.9->gluonts) (2.3.2)\n",
            "Requirement already satisfied, skipping upgrade: hijri-converter in /usr/local/lib/python3.7/dist-packages (from holidays>=0.9->gluonts) (2.1.2)\n",
            "Requirement already satisfied, skipping upgrade: korean-lunar-calendar in /usr/local/lib/python3.7/dist-packages (from holidays>=0.9->gluonts) (0.2.1)\n",
            "Requirement already satisfied, skipping upgrade: typing-extensions>=3.7.4.3 in /usr/local/lib/python3.7/dist-packages (from pydantic~=1.1->gluonts) (3.7.4.3)\n",
            "Requirement already satisfied, skipping upgrade: kiwisolver>=1.0.1 in /usr/local/lib/python3.7/dist-packages (from matplotlib~=3.0->gluonts) (1.3.1)\n",
            "Requirement already satisfied, skipping upgrade: cycler>=0.10 in /usr/local/lib/python3.7/dist-packages (from matplotlib~=3.0->gluonts) (0.10.0)\n",
            "Requirement already satisfied, skipping upgrade: pyparsing!=2.0.4,!=2.1.2,!=2.1.6,>=2.0.1 in /usr/local/lib/python3.7/dist-packages (from matplotlib~=3.0->gluonts) (2.4.7)\n",
            "Requirement already satisfied, skipping upgrade: pymeeus<=1,>=0.3.13 in /usr/local/lib/python3.7/dist-packages (from convertdate>=2.3.0->holidays>=0.9->gluonts) (0.5.11)\n",
            "Installing collected packages: graphviz, mxnet, pydantic, gluonts\n",
            "  Found existing installation: graphviz 0.10.1\n",
            "    Uninstalling graphviz-0.10.1:\n",
            "      Successfully uninstalled graphviz-0.10.1\n",
            "Successfully installed gluonts-0.7.6 graphviz-0.8.4 mxnet-1.8.0.post0 pydantic-1.8.2\n",
            "Requirement already satisfied: python-utils in /usr/local/lib/python3.7/dist-packages (2.5.6)\n",
            "Requirement already satisfied: six in /usr/local/lib/python3.7/dist-packages (from python-utils) (1.15.0)\n",
            "Collecting plotly==4.1.0\n",
            "\u001b[?25l  Downloading https://files.pythonhosted.org/packages/63/2b/4ca10995bfbdefd65c4238f9a2d3fde33705d18dd50914dd13302ec1daf1/plotly-4.1.0-py2.py3-none-any.whl (7.1MB)\n",
            "\u001b[K     |████████████████████████████████| 7.1MB 5.4MB/s \n",
            "\u001b[?25hRequirement already satisfied: six in /usr/local/lib/python3.7/dist-packages (from plotly==4.1.0) (1.15.0)\n",
            "Requirement already satisfied: retrying>=1.3.3 in /usr/local/lib/python3.7/dist-packages (from plotly==4.1.0) (1.3.3)\n",
            "\u001b[31mERROR: cufflinks 0.17.3 has requirement plotly>=4.1.1, but you'll have plotly 4.1.0 which is incompatible.\u001b[0m\n",
            "Installing collected packages: plotly\n",
            "  Found existing installation: plotly 4.4.1\n",
            "    Uninstalling plotly-4.4.1:\n",
            "      Successfully uninstalled plotly-4.4.1\n",
            "Successfully installed plotly-4.1.0\n",
            "Collecting scikit-learn\n",
            "\u001b[?25l  Downloading https://files.pythonhosted.org/packages/a8/eb/a48f25c967526b66d5f1fa7a984594f0bf0a5afafa94a8c4dbc317744620/scikit_learn-0.24.2-cp37-cp37m-manylinux2010_x86_64.whl (22.3MB)\n",
            "\u001b[K     |████████████████████████████████| 22.3MB 93kB/s \n",
            "\u001b[?25hCollecting threadpoolctl>=2.0.0\n",
            "  Downloading https://files.pythonhosted.org/packages/f7/12/ec3f2e203afa394a149911729357aa48affc59c20e2c1c8297a60f33f133/threadpoolctl-2.1.0-py3-none-any.whl\n",
            "Requirement already satisfied, skipping upgrade: joblib>=0.11 in /usr/local/lib/python3.7/dist-packages (from scikit-learn) (1.0.1)\n",
            "Requirement already satisfied, skipping upgrade: numpy>=1.13.3 in /usr/local/lib/python3.7/dist-packages (from scikit-learn) (1.19.5)\n",
            "Requirement already satisfied, skipping upgrade: scipy>=0.19.1 in /usr/local/lib/python3.7/dist-packages (from scikit-learn) (1.4.1)\n",
            "Installing collected packages: threadpoolctl, scikit-learn\n",
            "  Found existing installation: scikit-learn 0.22.2.post1\n",
            "    Uninstalling scikit-learn-0.22.2.post1:\n",
            "      Successfully uninstalled scikit-learn-0.22.2.post1\n",
            "Successfully installed scikit-learn-0.24.2 threadpoolctl-2.1.0\n",
            "Requirement already satisfied: statsmodels in /usr/local/lib/python3.7/dist-packages (0.12.2)\n",
            "Requirement already satisfied: scipy>=1.1 in /usr/local/lib/python3.7/dist-packages (from statsmodels) (1.4.1)\n",
            "Requirement already satisfied: pandas>=0.21 in /usr/local/lib/python3.7/dist-packages (from statsmodels) (1.1.5)\n",
            "Requirement already satisfied: patsy>=0.5 in /usr/local/lib/python3.7/dist-packages (from statsmodels) (0.5.1)\n",
            "Requirement already satisfied: numpy>=1.15 in /usr/local/lib/python3.7/dist-packages (from statsmodels) (1.19.5)\n",
            "Requirement already satisfied: pytz>=2017.2 in /usr/local/lib/python3.7/dist-packages (from pandas>=0.21->statsmodels) (2018.9)\n",
            "Requirement already satisfied: python-dateutil>=2.7.3 in /usr/local/lib/python3.7/dist-packages (from pandas>=0.21->statsmodels) (2.8.1)\n",
            "Requirement already satisfied: six in /usr/local/lib/python3.7/dist-packages (from patsy>=0.5->statsmodels) (1.15.0)\n",
            "Collecting scipy==1.2.0\n",
            "\u001b[?25l  Downloading https://files.pythonhosted.org/packages/80/39/066ecde98f373430bf7a39a02d91c7075b01ef4fc928456e8e31577342d6/scipy-1.2.0-cp37-cp37m-manylinux1_x86_64.whl (26.6MB)\n",
            "\u001b[K     |████████████████████████████████| 26.6MB 123kB/s \n",
            "\u001b[?25hRequirement already satisfied: numpy>=1.8.2 in /usr/local/lib/python3.7/dist-packages (from scipy==1.2.0) (1.19.5)\n",
            "\u001b[31mERROR: pmdarima 1.8.2 has requirement scipy>=1.3.2, but you'll have scipy 1.2.0 which is incompatible.\u001b[0m\n",
            "\u001b[31mERROR: albumentations 0.1.12 has requirement imgaug<0.2.7,>=0.2.5, but you'll have imgaug 0.2.9 which is incompatible.\u001b[0m\n",
            "Installing collected packages: scipy\n",
            "Successfully installed scipy-1.2.0\n",
            "Requirement already up-to-date: statsmodels in /usr/local/lib/python3.7/dist-packages (0.12.2)\n",
            "Requirement already satisfied, skipping upgrade: pandas>=0.21 in /usr/local/lib/python3.7/dist-packages (from statsmodels) (1.1.5)\n",
            "Requirement already satisfied, skipping upgrade: scipy>=1.1 in /root/.local/lib/python3.7/site-packages (from statsmodels) (1.2.0)\n",
            "Requirement already satisfied, skipping upgrade: numpy>=1.15 in /usr/local/lib/python3.7/dist-packages (from statsmodels) (1.19.5)\n",
            "Requirement already satisfied, skipping upgrade: patsy>=0.5 in /usr/local/lib/python3.7/dist-packages (from statsmodels) (0.5.1)\n",
            "Requirement already satisfied, skipping upgrade: pytz>=2017.2 in /usr/local/lib/python3.7/dist-packages (from pandas>=0.21->statsmodels) (2018.9)\n",
            "Requirement already satisfied, skipping upgrade: python-dateutil>=2.7.3 in /usr/local/lib/python3.7/dist-packages (from pandas>=0.21->statsmodels) (2.8.1)\n",
            "Requirement already satisfied, skipping upgrade: six in /usr/local/lib/python3.7/dist-packages (from patsy>=0.5->statsmodels) (1.15.0)\n"
          ],
          "name": "stdout"
        }
      ]
    },
    {
      "cell_type": "code",
      "metadata": {
        "id": "Ed59Bl30JUjc"
      },
      "source": [
        "import warnings\n",
        "import numpy as np\n",
        "import pandas as pd\n",
        "\n",
        "# Data visualization\n",
        "import folium\n",
        "import datetime\n",
        "%matplotlib inline\n",
        "import seaborn as sns \n",
        "import matplotlib as mpl\n",
        "import plotly.express as px\n",
        "import plotly.graph_objs as go\n",
        "import matplotlib.ticker as tkr\n",
        "import matplotlib.pyplot as plt\n",
        "from matplotlib.pylab import rcParams\n",
        "from IPython.display import display, HTML, display_html\n",
        "\n",
        "# Method Requirement\n",
        "import keras\n",
        "import sklearn\n",
        "import tensorflow as tf\n",
        "from keras.layers import *\n",
        "from keras.layers import LSTM\n",
        "from keras.layers import Dense\n",
        "from keras.layers import Dropout\n",
        "from keras.models import Sequential\n",
        "from keras.callbacks import EarlyStopping\n",
        "from sklearn.model_selection import train_test_split\n",
        "from keras.preprocessing.sequence import TimeseriesGenerator\n",
        "from sklearn.preprocessing import MinMaxScaler, StandardScaler\n",
        "\n",
        "# Statistics \n",
        "import scipy\n",
        "from math import sqrt\n",
        "from time import time\n",
        "from scipy import stats\n",
        "import statsmodels as sms\n",
        "from timeit import default_timer as timer\n",
        "from statsmodels.tsa.stattools import adfuller\n",
        "from statsmodels.tsa.arima.model import ARIMA\n",
        "from sklearn.metrics import mean_squared_error\n",
        "from sklearn.metrics import mean_absolute_percentage_error\n",
        "from statsmodels.tsa.stattools import grangercausalitytests\n",
        "from statsmodels.graphics.tsaplots import plot_acf, plot_pacf\n",
        "\n",
        "sns.set_style('white')\n",
        "warnings.filterwarnings('ignore')\n",
        "plt.rcParams['axes.grid'] = False\n",
        "sns.set_context(\"paper\", font_scale=1.3)\n",
        "plt.rcParams['figure.figsize'] = (10, 8)\n",
        "pd.set_option('display.float_format', lambda x: '%.4f' % x)"
      ],
      "execution_count": 2,
      "outputs": []
    },
    {
      "cell_type": "markdown",
      "metadata": {
        "id": "XOiEfuZyJ0Q8"
      },
      "source": [
        "## **Step#1 Input Data**"
      ]
    },
    {
      "cell_type": "code",
      "metadata": {
        "id": "kpgTkTCaI3iA"
      },
      "source": [
        "data = pd.read_csv('/content/drive/MyDrive/THESIS/Dataset/dateset_patient.csv')"
      ],
      "execution_count": 28,
      "outputs": []
    },
    {
      "cell_type": "code",
      "metadata": {
        "colab": {
          "base_uri": "https://localhost:8080/",
          "height": 202
        },
        "id": "jdaUfUMSJ399",
        "outputId": "55ebc13d-d243-4249-b64e-5e3fa190293b"
      },
      "source": [
        "data.head()"
      ],
      "execution_count": 29,
      "outputs": [
        {
          "output_type": "execute_result",
          "data": {
            "text/html": [
              "<div>\n",
              "<style scoped>\n",
              "    .dataframe tbody tr th:only-of-type {\n",
              "        vertical-align: middle;\n",
              "    }\n",
              "\n",
              "    .dataframe tbody tr th {\n",
              "        vertical-align: top;\n",
              "    }\n",
              "\n",
              "    .dataframe thead th {\n",
              "        text-align: right;\n",
              "    }\n",
              "</style>\n",
              "<table border=\"1\" class=\"dataframe\">\n",
              "  <thead>\n",
              "    <tr style=\"text-align: right;\">\n",
              "      <th></th>\n",
              "      <th>date</th>\n",
              "      <th>hm</th>\n",
              "      <th>hm_aw</th>\n",
              "      <th>hm_am</th>\n",
              "      <th>cc</th>\n",
              "      <th>cc_aw</th>\n",
              "      <th>cc_am</th>\n",
              "      <th>day_week</th>\n",
              "    </tr>\n",
              "  </thead>\n",
              "  <tbody>\n",
              "    <tr>\n",
              "      <th>0</th>\n",
              "      <td>7/1/2017</td>\n",
              "      <td>66</td>\n",
              "      <td>48</td>\n",
              "      <td>63</td>\n",
              "      <td>44</td>\n",
              "      <td>37</td>\n",
              "      <td>45</td>\n",
              "      <td>6</td>\n",
              "    </tr>\n",
              "    <tr>\n",
              "      <th>1</th>\n",
              "      <td>7/2/2017</td>\n",
              "      <td>53</td>\n",
              "      <td>53</td>\n",
              "      <td>62</td>\n",
              "      <td>72</td>\n",
              "      <td>37</td>\n",
              "      <td>43</td>\n",
              "      <td>7</td>\n",
              "    </tr>\n",
              "    <tr>\n",
              "      <th>2</th>\n",
              "      <td>7/3/2017</td>\n",
              "      <td>74</td>\n",
              "      <td>54</td>\n",
              "      <td>59</td>\n",
              "      <td>87</td>\n",
              "      <td>42</td>\n",
              "      <td>44</td>\n",
              "      <td>1</td>\n",
              "    </tr>\n",
              "    <tr>\n",
              "      <th>3</th>\n",
              "      <td>7/4/2017</td>\n",
              "      <td>87</td>\n",
              "      <td>56</td>\n",
              "      <td>57</td>\n",
              "      <td>58</td>\n",
              "      <td>49</td>\n",
              "      <td>44</td>\n",
              "      <td>2</td>\n",
              "    </tr>\n",
              "    <tr>\n",
              "      <th>4</th>\n",
              "      <td>7/5/2017</td>\n",
              "      <td>95</td>\n",
              "      <td>62</td>\n",
              "      <td>58</td>\n",
              "      <td>72</td>\n",
              "      <td>53</td>\n",
              "      <td>44</td>\n",
              "      <td>3</td>\n",
              "    </tr>\n",
              "  </tbody>\n",
              "</table>\n",
              "</div>"
            ],
            "text/plain": [
              "       date  hm  hm_aw  hm_am  cc  cc_aw  cc_am  day_week\n",
              "0  7/1/2017  66     48     63  44     37     45         6\n",
              "1  7/2/2017  53     53     62  72     37     43         7\n",
              "2  7/3/2017  74     54     59  87     42     44         1\n",
              "3  7/4/2017  87     56     57  58     49     44         2\n",
              "4  7/5/2017  95     62     58  72     53     44         3"
            ]
          },
          "metadata": {
            "tags": []
          },
          "execution_count": 29
        }
      ]
    },
    {
      "cell_type": "code",
      "metadata": {
        "colab": {
          "base_uri": "https://localhost:8080/"
        },
        "id": "pR6mfnWHukdP",
        "outputId": "fe0bb96d-9bba-431a-f09f-11c90bb57fc6"
      },
      "source": [
        "data.info()"
      ],
      "execution_count": 30,
      "outputs": [
        {
          "output_type": "stream",
          "text": [
            "<class 'pandas.core.frame.DataFrame'>\n",
            "RangeIndex: 1348 entries, 0 to 1347\n",
            "Data columns (total 8 columns):\n",
            " #   Column    Non-Null Count  Dtype \n",
            "---  ------    --------------  ----- \n",
            " 0   date      1348 non-null   object\n",
            " 1   hm        1348 non-null   int64 \n",
            " 2   hm_aw     1348 non-null   int64 \n",
            " 3   hm_am     1348 non-null   int64 \n",
            " 4   cc        1348 non-null   int64 \n",
            " 5   cc_aw     1348 non-null   int64 \n",
            " 6   cc_am     1348 non-null   int64 \n",
            " 7   day_week  1348 non-null   int64 \n",
            "dtypes: int64(7), object(1)\n",
            "memory usage: 84.4+ KB\n"
          ],
          "name": "stdout"
        }
      ]
    },
    {
      "cell_type": "code",
      "metadata": {
        "id": "w7ZSI0AlumyP"
      },
      "source": [
        "data['date'] = pd.to_datetime(data['date'], infer_datetime_format=True)\n",
        "data['weekday']= data.apply(lambda row: row['date'].weekday(),axis=1)\n",
        "data['weekday'] = (data[\"weekday\"] < 5).astype(int)"
      ],
      "execution_count": 31,
      "outputs": []
    },
    {
      "cell_type": "code",
      "metadata": {
        "colab": {
          "base_uri": "https://localhost:8080/"
        },
        "id": "cFk7L2pLuosn",
        "outputId": "e65d94bf-d67a-4043-ad6c-093c1921f01a"
      },
      "source": [
        "data.info()"
      ],
      "execution_count": 32,
      "outputs": [
        {
          "output_type": "stream",
          "text": [
            "<class 'pandas.core.frame.DataFrame'>\n",
            "RangeIndex: 1348 entries, 0 to 1347\n",
            "Data columns (total 9 columns):\n",
            " #   Column    Non-Null Count  Dtype         \n",
            "---  ------    --------------  -----         \n",
            " 0   date      1348 non-null   datetime64[ns]\n",
            " 1   hm        1348 non-null   int64         \n",
            " 2   hm_aw     1348 non-null   int64         \n",
            " 3   hm_am     1348 non-null   int64         \n",
            " 4   cc        1348 non-null   int64         \n",
            " 5   cc_aw     1348 non-null   int64         \n",
            " 6   cc_am     1348 non-null   int64         \n",
            " 7   day_week  1348 non-null   int64         \n",
            " 8   weekday   1348 non-null   int64         \n",
            "dtypes: datetime64[ns](1), int64(8)\n",
            "memory usage: 94.9 KB\n"
          ],
          "name": "stdout"
        }
      ]
    },
    {
      "cell_type": "code",
      "metadata": {
        "colab": {
          "base_uri": "https://localhost:8080/",
          "height": 202
        },
        "id": "j7vkin0gurIv",
        "outputId": "19d5f497-18dd-40d4-c39d-13335621caf0"
      },
      "source": [
        "data.head(5)"
      ],
      "execution_count": 33,
      "outputs": [
        {
          "output_type": "execute_result",
          "data": {
            "text/html": [
              "<div>\n",
              "<style scoped>\n",
              "    .dataframe tbody tr th:only-of-type {\n",
              "        vertical-align: middle;\n",
              "    }\n",
              "\n",
              "    .dataframe tbody tr th {\n",
              "        vertical-align: top;\n",
              "    }\n",
              "\n",
              "    .dataframe thead th {\n",
              "        text-align: right;\n",
              "    }\n",
              "</style>\n",
              "<table border=\"1\" class=\"dataframe\">\n",
              "  <thead>\n",
              "    <tr style=\"text-align: right;\">\n",
              "      <th></th>\n",
              "      <th>date</th>\n",
              "      <th>hm</th>\n",
              "      <th>hm_aw</th>\n",
              "      <th>hm_am</th>\n",
              "      <th>cc</th>\n",
              "      <th>cc_aw</th>\n",
              "      <th>cc_am</th>\n",
              "      <th>day_week</th>\n",
              "      <th>weekday</th>\n",
              "    </tr>\n",
              "  </thead>\n",
              "  <tbody>\n",
              "    <tr>\n",
              "      <th>0</th>\n",
              "      <td>2017-07-01</td>\n",
              "      <td>66</td>\n",
              "      <td>48</td>\n",
              "      <td>63</td>\n",
              "      <td>44</td>\n",
              "      <td>37</td>\n",
              "      <td>45</td>\n",
              "      <td>6</td>\n",
              "      <td>0</td>\n",
              "    </tr>\n",
              "    <tr>\n",
              "      <th>1</th>\n",
              "      <td>2017-07-02</td>\n",
              "      <td>53</td>\n",
              "      <td>53</td>\n",
              "      <td>62</td>\n",
              "      <td>72</td>\n",
              "      <td>37</td>\n",
              "      <td>43</td>\n",
              "      <td>7</td>\n",
              "      <td>0</td>\n",
              "    </tr>\n",
              "    <tr>\n",
              "      <th>2</th>\n",
              "      <td>2017-07-03</td>\n",
              "      <td>74</td>\n",
              "      <td>54</td>\n",
              "      <td>59</td>\n",
              "      <td>87</td>\n",
              "      <td>42</td>\n",
              "      <td>44</td>\n",
              "      <td>1</td>\n",
              "      <td>1</td>\n",
              "    </tr>\n",
              "    <tr>\n",
              "      <th>3</th>\n",
              "      <td>2017-07-04</td>\n",
              "      <td>87</td>\n",
              "      <td>56</td>\n",
              "      <td>57</td>\n",
              "      <td>58</td>\n",
              "      <td>49</td>\n",
              "      <td>44</td>\n",
              "      <td>2</td>\n",
              "      <td>1</td>\n",
              "    </tr>\n",
              "    <tr>\n",
              "      <th>4</th>\n",
              "      <td>2017-07-05</td>\n",
              "      <td>95</td>\n",
              "      <td>62</td>\n",
              "      <td>58</td>\n",
              "      <td>72</td>\n",
              "      <td>53</td>\n",
              "      <td>44</td>\n",
              "      <td>3</td>\n",
              "      <td>1</td>\n",
              "    </tr>\n",
              "  </tbody>\n",
              "</table>\n",
              "</div>"
            ],
            "text/plain": [
              "        date  hm  hm_aw  hm_am  cc  cc_aw  cc_am  day_week  weekday\n",
              "0 2017-07-01  66     48     63  44     37     45         6        0\n",
              "1 2017-07-02  53     53     62  72     37     43         7        0\n",
              "2 2017-07-03  74     54     59  87     42     44         1        1\n",
              "3 2017-07-04  87     56     57  58     49     44         2        1\n",
              "4 2017-07-05  95     62     58  72     53     44         3        1"
            ]
          },
          "metadata": {
            "tags": []
          },
          "execution_count": 33
        }
      ]
    },
    {
      "cell_type": "markdown",
      "metadata": {
        "id": "gP-q3IvIJ8TU"
      },
      "source": [
        "## **Step#2 Data Processing**"
      ]
    },
    {
      "cell_type": "markdown",
      "metadata": {
        "id": "osdY7VKcKDuU"
      },
      "source": [
        "### **Picking Variable**"
      ]
    },
    {
      "cell_type": "code",
      "metadata": {
        "id": "q2rMOJ4QL3sV"
      },
      "source": [
        "df = data.replace([np.inf, -np.inf], np.nan)\n",
        "df = df.fillna(0)"
      ],
      "execution_count": 23,
      "outputs": []
    },
    {
      "cell_type": "code",
      "metadata": {
        "id": "-nSwJla_vF1O"
      },
      "source": [
        "hm = df['hm'].fillna(df['hm'].mean())\n",
        "hm_aw = df['hm_aw'].fillna(df['hm'].mean())\n",
        "hm_am = df['hm_am'].fillna(df['hm'].mean())\n",
        "weekday = df['weekday'].fillna(df['hm'].mean())"
      ],
      "execution_count": 34,
      "outputs": []
    },
    {
      "cell_type": "code",
      "metadata": {
        "colab": {
          "base_uri": "https://localhost:8080/"
        },
        "id": "TpZgLGfrvxSf",
        "outputId": "3c9ce399-2732-49b0-bef1-0ce30729e335"
      },
      "source": [
        "df_hm = pd.DataFrame({'hm':hm, 'hm_aw':hm_aw, 'hm_am':hm_am, 'weekday':weekday})\n",
        "df.to_csv(\"hm.csv\")\n",
        "df_hm.info()"
      ],
      "execution_count": 35,
      "outputs": [
        {
          "output_type": "stream",
          "text": [
            "<class 'pandas.core.frame.DataFrame'>\n",
            "RangeIndex: 1348 entries, 0 to 1347\n",
            "Data columns (total 4 columns):\n",
            " #   Column   Non-Null Count  Dtype\n",
            "---  ------   --------------  -----\n",
            " 0   hm       1348 non-null   int64\n",
            " 1   hm_aw    1348 non-null   int64\n",
            " 2   hm_am    1348 non-null   int64\n",
            " 3   weekday  1348 non-null   int64\n",
            "dtypes: int64(4)\n",
            "memory usage: 42.2 KB\n"
          ],
          "name": "stdout"
        }
      ]
    },
    {
      "cell_type": "code",
      "metadata": {
        "colab": {
          "base_uri": "https://localhost:8080/",
          "height": 202
        },
        "id": "KMWGKV-DHZNJ",
        "outputId": "eb030268-d6d2-4ba9-d108-4a525c109987"
      },
      "source": [
        "df_hm.head(5)"
      ],
      "execution_count": 36,
      "outputs": [
        {
          "output_type": "execute_result",
          "data": {
            "text/html": [
              "<div>\n",
              "<style scoped>\n",
              "    .dataframe tbody tr th:only-of-type {\n",
              "        vertical-align: middle;\n",
              "    }\n",
              "\n",
              "    .dataframe tbody tr th {\n",
              "        vertical-align: top;\n",
              "    }\n",
              "\n",
              "    .dataframe thead th {\n",
              "        text-align: right;\n",
              "    }\n",
              "</style>\n",
              "<table border=\"1\" class=\"dataframe\">\n",
              "  <thead>\n",
              "    <tr style=\"text-align: right;\">\n",
              "      <th></th>\n",
              "      <th>hm</th>\n",
              "      <th>hm_aw</th>\n",
              "      <th>hm_am</th>\n",
              "      <th>weekday</th>\n",
              "    </tr>\n",
              "  </thead>\n",
              "  <tbody>\n",
              "    <tr>\n",
              "      <th>0</th>\n",
              "      <td>66</td>\n",
              "      <td>48</td>\n",
              "      <td>63</td>\n",
              "      <td>0</td>\n",
              "    </tr>\n",
              "    <tr>\n",
              "      <th>1</th>\n",
              "      <td>53</td>\n",
              "      <td>53</td>\n",
              "      <td>62</td>\n",
              "      <td>0</td>\n",
              "    </tr>\n",
              "    <tr>\n",
              "      <th>2</th>\n",
              "      <td>74</td>\n",
              "      <td>54</td>\n",
              "      <td>59</td>\n",
              "      <td>1</td>\n",
              "    </tr>\n",
              "    <tr>\n",
              "      <th>3</th>\n",
              "      <td>87</td>\n",
              "      <td>56</td>\n",
              "      <td>57</td>\n",
              "      <td>1</td>\n",
              "    </tr>\n",
              "    <tr>\n",
              "      <th>4</th>\n",
              "      <td>95</td>\n",
              "      <td>62</td>\n",
              "      <td>58</td>\n",
              "      <td>1</td>\n",
              "    </tr>\n",
              "  </tbody>\n",
              "</table>\n",
              "</div>"
            ],
            "text/plain": [
              "   hm  hm_aw  hm_am  weekday\n",
              "0  66     48     63        0\n",
              "1  53     53     62        0\n",
              "2  74     54     59        1\n",
              "3  87     56     57        1\n",
              "4  95     62     58        1"
            ]
          },
          "metadata": {
            "tags": []
          },
          "execution_count": 36
        }
      ]
    },
    {
      "cell_type": "markdown",
      "metadata": {
        "id": "TRt5hS1HHfVK"
      },
      "source": [
        "### **Stationary Test**"
      ]
    },
    {
      "cell_type": "code",
      "metadata": {
        "id": "n_jD26PzG9sA"
      },
      "source": [
        "#creating test for stationarity\n",
        "from statsmodels.tsa.stattools import adfuller\n",
        "def test_stationary(timeseries):\n",
        "\n",
        "  #Perform Dicky Fuller Test:\n",
        "  print ('Result of Dicky-Fuller Test:')\n",
        "  dftest = adfuller(timeseries, autolag='AIC')\n",
        "  dfoutput = pd.Series(dftest[0:4], \n",
        "                       index=['Test Statistic','p-value','#Lags Used',\n",
        "                              'Number of Observations Used'])\n",
        "  \n",
        "  for key,value in dftest[4].items():\n",
        "        dfoutput['Critical Value (%s)'%key] = value\n",
        "  print(dfoutput)"
      ],
      "execution_count": 42,
      "outputs": []
    },
    {
      "cell_type": "code",
      "metadata": {
        "colab": {
          "base_uri": "https://localhost:8080/"
        },
        "id": "1vYWzQIZG_8H",
        "outputId": "eaf2cd41-4593-4129-9402-fadabd756c4a"
      },
      "source": [
        "#Loop to check all columns of the DF\n",
        "import functools\n",
        "df_hm.apply(functools.partial(test_stationary))"
      ],
      "execution_count": 48,
      "outputs": [
        {
          "output_type": "stream",
          "text": [
            "Result of Dicky-Fuller Test:\n",
            "Test Statistic                  -2.5335\n",
            "p-value                          0.1075\n",
            "#Lags Used                      20.0000\n",
            "Number of Observations Used   1327.0000\n",
            "Critical Value (1%)             -3.4353\n",
            "Critical Value (5%)             -2.8637\n",
            "Critical Value (10%)            -2.5679\n",
            "dtype: float64\n",
            "Result of Dicky-Fuller Test:\n",
            "Test Statistic                  -2.7086\n",
            "p-value                          0.0726\n",
            "#Lags Used                      23.0000\n",
            "Number of Observations Used   1324.0000\n",
            "Critical Value (1%)             -3.4353\n",
            "Critical Value (5%)             -2.8637\n",
            "Critical Value (10%)            -2.5679\n",
            "dtype: float64\n",
            "Result of Dicky-Fuller Test:\n",
            "Test Statistic                  -2.8019\n",
            "p-value                          0.0580\n",
            "#Lags Used                      23.0000\n",
            "Number of Observations Used   1324.0000\n",
            "Critical Value (1%)             -3.4353\n",
            "Critical Value (5%)             -2.8637\n",
            "Critical Value (10%)            -2.5679\n",
            "dtype: float64\n",
            "Result of Dicky-Fuller Test:\n",
            "Test Statistic                   0.0000\n",
            "p-value                          0.9585\n",
            "#Lags Used                      10.0000\n",
            "Number of Observations Used   1337.0000\n",
            "Critical Value (1%)             -3.4353\n",
            "Critical Value (5%)             -2.8637\n",
            "Critical Value (10%)            -2.5679\n",
            "dtype: float64\n"
          ],
          "name": "stdout"
        },
        {
          "output_type": "execute_result",
          "data": {
            "text/plain": [
              "hm         None\n",
              "hm_aw      None\n",
              "hm_am      None\n",
              "weekday    None\n",
              "dtype: object"
            ]
          },
          "metadata": {
            "tags": []
          },
          "execution_count": 48
        }
      ]
    },
    {
      "cell_type": "markdown",
      "metadata": {
        "id": "9V1fd6JWIsE2"
      },
      "source": [
        "### **Differencing**"
      ]
    },
    {
      "cell_type": "code",
      "metadata": {
        "colab": {
          "base_uri": "https://localhost:8080/",
          "height": 202
        },
        "id": "lqUHqIUfFK7H",
        "outputId": "f587a31d-3ac4-40cf-d13d-79daebb93d23"
      },
      "source": [
        "df_diff = df_hm.diff().dropna()\n",
        "df_diff = df_diff.astype(int)\n",
        "df_diff.head()"
      ],
      "execution_count": 49,
      "outputs": [
        {
          "output_type": "execute_result",
          "data": {
            "text/html": [
              "<div>\n",
              "<style scoped>\n",
              "    .dataframe tbody tr th:only-of-type {\n",
              "        vertical-align: middle;\n",
              "    }\n",
              "\n",
              "    .dataframe tbody tr th {\n",
              "        vertical-align: top;\n",
              "    }\n",
              "\n",
              "    .dataframe thead th {\n",
              "        text-align: right;\n",
              "    }\n",
              "</style>\n",
              "<table border=\"1\" class=\"dataframe\">\n",
              "  <thead>\n",
              "    <tr style=\"text-align: right;\">\n",
              "      <th></th>\n",
              "      <th>hm</th>\n",
              "      <th>hm_aw</th>\n",
              "      <th>hm_am</th>\n",
              "      <th>weekday</th>\n",
              "    </tr>\n",
              "  </thead>\n",
              "  <tbody>\n",
              "    <tr>\n",
              "      <th>1</th>\n",
              "      <td>-13</td>\n",
              "      <td>5</td>\n",
              "      <td>-1</td>\n",
              "      <td>0</td>\n",
              "    </tr>\n",
              "    <tr>\n",
              "      <th>2</th>\n",
              "      <td>21</td>\n",
              "      <td>1</td>\n",
              "      <td>-3</td>\n",
              "      <td>1</td>\n",
              "    </tr>\n",
              "    <tr>\n",
              "      <th>3</th>\n",
              "      <td>13</td>\n",
              "      <td>2</td>\n",
              "      <td>-2</td>\n",
              "      <td>0</td>\n",
              "    </tr>\n",
              "    <tr>\n",
              "      <th>4</th>\n",
              "      <td>8</td>\n",
              "      <td>6</td>\n",
              "      <td>1</td>\n",
              "      <td>0</td>\n",
              "    </tr>\n",
              "    <tr>\n",
              "      <th>5</th>\n",
              "      <td>-1</td>\n",
              "      <td>6</td>\n",
              "      <td>0</td>\n",
              "      <td>0</td>\n",
              "    </tr>\n",
              "  </tbody>\n",
              "</table>\n",
              "</div>"
            ],
            "text/plain": [
              "   hm  hm_aw  hm_am  weekday\n",
              "1 -13      5     -1        0\n",
              "2  21      1     -3        1\n",
              "3  13      2     -2        0\n",
              "4   8      6      1        0\n",
              "5  -1      6      0        0"
            ]
          },
          "metadata": {
            "tags": []
          },
          "execution_count": 49
        }
      ]
    },
    {
      "cell_type": "code",
      "metadata": {
        "colab": {
          "base_uri": "https://localhost:8080/"
        },
        "id": "il_OpzwOKgEm",
        "outputId": "5b07253a-b639-44dd-efcd-cd76c1ef9320"
      },
      "source": [
        "df_diff.info()"
      ],
      "execution_count": 50,
      "outputs": [
        {
          "output_type": "stream",
          "text": [
            "<class 'pandas.core.frame.DataFrame'>\n",
            "Int64Index: 1347 entries, 1 to 1347\n",
            "Data columns (total 4 columns):\n",
            " #   Column   Non-Null Count  Dtype\n",
            "---  ------   --------------  -----\n",
            " 0   hm       1347 non-null   int64\n",
            " 1   hm_aw    1347 non-null   int64\n",
            " 2   hm_am    1347 non-null   int64\n",
            " 3   weekday  1347 non-null   int64\n",
            "dtypes: int64(4)\n",
            "memory usage: 52.6 KB\n"
          ],
          "name": "stdout"
        }
      ]
    },
    {
      "cell_type": "markdown",
      "metadata": {
        "id": "cWA0DyoAMja0"
      },
      "source": [
        "### **Model Order Selection**"
      ]
    },
    {
      "cell_type": "code",
      "metadata": {
        "id": "TM8znrugFWff"
      },
      "source": [
        "#Creating the VAR model\n",
        "from statsmodels.tsa.vector_ar.var_model import VAR\n",
        "model = VAR(df_diff)"
      ],
      "execution_count": 51,
      "outputs": []
    },
    {
      "cell_type": "code",
      "metadata": {
        "colab": {
          "base_uri": "https://localhost:8080/",
          "height": 387
        },
        "id": "L6eYvZMNJFyQ",
        "outputId": "0991c369-3cef-4b6d-83cc-a73dc0fe9537"
      },
      "source": [
        "#Bestmodel order\n",
        "modsel = model.select_order(15)\n",
        "modsel.summary()"
      ],
      "execution_count": 52,
      "outputs": [
        {
          "output_type": "execute_result",
          "data": {
            "text/html": [
              "<table class=\"simpletable\">\n",
              "<caption>VAR Order Selection (* highlights the minimums)</caption>\n",
              "<tr>\n",
              "   <td></td>      <th>AIC</th>         <th>BIC</th>         <th>FPE</th>        <th>HQIC</th>    \n",
              "</tr>\n",
              "<tr>\n",
              "  <th>0</th>  <td>     6.014</td>  <td>     6.030</td>  <td>     409.1</td>  <td>     6.020</td> \n",
              "</tr>\n",
              "<tr>\n",
              "  <th>1</th>  <td>     5.114</td>  <td>     5.192</td>  <td>     166.4</td>  <td>     5.143</td> \n",
              "</tr>\n",
              "<tr>\n",
              "  <th>2</th>  <td>     4.231</td>  <td>     4.371</td>  <td>     68.79</td>  <td>     4.284</td> \n",
              "</tr>\n",
              "<tr>\n",
              "  <th>3</th>  <td>     3.916</td>  <td>     4.119</td>  <td>     50.21</td>  <td>     3.992</td> \n",
              "</tr>\n",
              "<tr>\n",
              "  <th>4</th>  <td>     3.592</td>  <td>     3.858</td>  <td>     36.32</td>  <td>     3.692</td> \n",
              "</tr>\n",
              "<tr>\n",
              "  <th>5</th>  <td>     2.563</td>  <td>     2.890</td>  <td>     12.97</td>  <td>     2.685</td> \n",
              "</tr>\n",
              "<tr>\n",
              "  <th>6</th>  <td>    -59.94</td>  <td>    -59.55</td>  <td> 9.341e-27</td>  <td>    -59.79</td> \n",
              "</tr>\n",
              "<tr>\n",
              "  <th>7</th>  <td>    -66.21</td>  <td>    -65.76</td>  <td> 1.763e-29</td>  <td>    -66.04</td> \n",
              "</tr>\n",
              "<tr>\n",
              "  <th>8</th>  <td>    -67.14</td>  <td>    -66.63</td>  <td> 6.916e-30</td>  <td>    -66.95</td> \n",
              "</tr>\n",
              "<tr>\n",
              "  <th>9</th>  <td>    -67.37*</td> <td>    -66.79*</td> <td> 5.515e-30*</td> <td>    -67.15*</td>\n",
              "</tr>\n",
              "<tr>\n",
              "  <th>10</th> <td>    -66.01</td>  <td>    -65.37</td>  <td> 2.158e-29</td>  <td>    -65.77</td> \n",
              "</tr>\n",
              "<tr>\n",
              "  <th>11</th> <td>    -66.28</td>  <td>    -65.58</td>  <td> 1.637e-29</td>  <td>    -66.02</td> \n",
              "</tr>\n",
              "<tr>\n",
              "  <th>12</th> <td>    -65.97</td>  <td>    -65.21</td>  <td> 2.232e-29</td>  <td>    -65.69</td> \n",
              "</tr>\n",
              "<tr>\n",
              "  <th>13</th> <td>    -63.95</td>  <td>    -63.12</td>  <td> 1.687e-28</td>  <td>    -63.64</td> \n",
              "</tr>\n",
              "<tr>\n",
              "  <th>14</th> <td>    -64.79</td>  <td>    -63.90</td>  <td> 7.306e-29</td>  <td>    -64.45</td> \n",
              "</tr>\n",
              "<tr>\n",
              "  <th>15</th> <td>    -64.10</td>  <td>    -63.15</td>  <td> 1.452e-28</td>  <td>    -63.74</td> \n",
              "</tr>\n",
              "</table>"
            ],
            "text/plain": [
              "<class 'statsmodels.iolib.table.SimpleTable'>"
            ]
          },
          "metadata": {
            "tags": []
          },
          "execution_count": 52
        }
      ]
    },
    {
      "cell_type": "code",
      "metadata": {
        "colab": {
          "base_uri": "https://localhost:8080/"
        },
        "id": "byh0kxstxCA4",
        "outputId": "05209db3-0a58-437f-811b-5d2b96221ce3"
      },
      "source": [
        "#Automated model order selection\n",
        "results = model.fit(maxlags=15, ic='aic')\n",
        "results.summary()"
      ],
      "execution_count": 53,
      "outputs": [
        {
          "output_type": "execute_result",
          "data": {
            "text/plain": [
              "  Summary of Regression Results   \n",
              "==================================\n",
              "Model:                         VAR\n",
              "Method:                        OLS\n",
              "Date:           Mon, 21, Jun, 2021\n",
              "Time:                     04:11:51\n",
              "--------------------------------------------------------------------\n",
              "No. of Equations:         4.00000    BIC:                   -64.7772\n",
              "Nobs:                     1338.00    HQIC:                  -65.1368\n",
              "Log likelihood:           36274.5    FPE:                4.14870e-29\n",
              "AIC:                     -65.3522    Det(Omega_mle):     3.71985e-29\n",
              "--------------------------------------------------------------------\n",
              "Results for equation hm\n",
              "==============================================================================\n",
              "                coefficient        std. error           t-stat            prob\n",
              "------------------------------------------------------------------------------\n",
              "const             -0.105599          0.357635           -0.295           0.768\n",
              "L1.hm             -0.746128          0.027723          -26.914           0.000\n",
              "L1.hm_aw           0.646553          1.039045            0.622           0.534\n",
              "L1.hm_am           0.441548          0.588013            0.751           0.453\n",
              "L1.weekday         3.617649  490856459.132640            0.000           1.000\n",
              "L2.hm             -0.743576          0.153805           -4.835           0.000\n",
              "L2.hm_aw           1.181682          1.046055            1.130           0.259\n",
              "L2.hm_am          -0.540711          0.588816           -0.918           0.358\n",
              "L2.weekday        -1.373302               NAN              NAN             NAN\n",
              "L3.hm             -0.852359          0.263180           -3.239           0.001\n",
              "L3.hm_aw           0.273052          0.197672            1.381           0.167\n",
              "L3.hm_am          -0.595449          0.589229           -1.011           0.312\n",
              "L3.weekday         2.361566               NAN              NAN             NAN\n",
              "L4.hm             -0.814471          0.268825           -3.030           0.002\n",
              "L4.hm_aw          -0.361983          0.194966           -1.857           0.063\n",
              "L4.hm_am          -0.627903          0.586153           -1.071           0.284\n",
              "L4.weekday        -7.806436               NAN              NAN             NAN\n",
              "L5.hm             -0.648421          0.267484           -2.424           0.015\n",
              "L5.hm_aw          -0.178186          0.194735           -0.915           0.360\n",
              "L5.hm_am           0.227408          0.582348            0.391           0.696\n",
              "L5.weekday         1.750246               NAN              NAN             NAN\n",
              "L6.hm             -0.576862          0.265580           -2.172           0.030\n",
              "L6.hm_aw          -0.574002          0.194398           -2.953           0.003\n",
              "L6.hm_am          -1.299811          0.583999           -2.226           0.026\n",
              "L6.weekday        -7.634936               NAN              NAN             NAN\n",
              "L7.hm             -0.305549          0.267353           -1.143           0.253\n",
              "L7.hm_aw           0.001065          0.194641            0.005           0.996\n",
              "L7.hm_am          -0.440808          0.583129           -0.756           0.450\n",
              "L7.weekday         9.085214               NAN              NAN             NAN\n",
              "L8.hm             -0.301219          0.266915           -1.129           0.259\n",
              "L8.hm_aw          -0.177732          0.193829           -0.917           0.359\n",
              "L8.hm_am           0.379166          0.575180            0.659           0.510\n",
              "L8.weekday         3.617649  407144647.108236            0.000           1.000\n",
              "L9.hm             -0.167977          0.156148           -1.076           0.282\n",
              "L9.hm_aw           0.052537          0.189425            0.277           0.782\n",
              "L9.hm_am           0.143274          0.574718            0.249           0.803\n",
              "L9.weekday        -1.373302               NAN              NAN             NAN\n",
              "==============================================================================\n",
              "\n",
              "Results for equation hm_aw\n",
              "=============================================================================\n",
              "                coefficient       std. error           t-stat            prob\n",
              "-----------------------------------------------------------------------------\n",
              "const             -0.000304         0.009016           -0.034           0.973\n",
              "L1.hm              0.143427         0.000699          205.214           0.000\n",
              "L1.hm_aw          -0.683435         0.026195          -26.090           0.000\n",
              "L1.hm_am           0.027876         0.014824            1.880           0.060\n",
              "L1.weekday        -0.008675  12374714.266872           -0.000           1.000\n",
              "L2.hm              0.240753         0.003877           62.090           0.000\n",
              "L2.hm_aw          -0.341545         0.026372          -12.951           0.000\n",
              "L2.hm_am          -0.027711         0.014844           -1.867           0.062\n",
              "L2.weekday        -0.025011              NAN              NAN             NAN\n",
              "L3.hm              0.289672         0.006635           43.659           0.000\n",
              "L3.hm_aw           0.000921         0.004983            0.185           0.853\n",
              "L3.hm_am          -0.003024         0.014855           -0.204           0.839\n",
              "L3.weekday        -0.026904              NAN              NAN             NAN\n",
              "L4.hm              0.288515         0.006777           42.571           0.000\n",
              "L4.hm_aw          -0.000867         0.004915           -0.176           0.860\n",
              "L4.hm_am           0.010398         0.014777            0.704           0.482\n",
              "L4.weekday         0.022585              NAN              NAN             NAN\n",
              "L5.hm              0.287909         0.006743           42.695           0.000\n",
              "L5.hm_aw          -0.002629         0.004909           -0.536           0.592\n",
              "L5.hm_am          -0.009914         0.014681           -0.675           0.499\n",
              "L5.weekday         0.036136              NAN              NAN             NAN\n",
              "L6.hm              0.289184         0.006695           43.192           0.000\n",
              "L6.hm_aw           0.000545         0.004901            0.111           0.911\n",
              "L6.hm_am          -0.021220         0.014723           -1.441           0.150\n",
              "L6.weekday         0.002143              NAN              NAN             NAN\n",
              "L7.hm              0.289887         0.006740           43.009           0.000\n",
              "L7.hm_aw           0.006087         0.004907            1.241           0.215\n",
              "L7.hm_am           0.009244         0.014701            0.629           0.529\n",
              "L7.weekday        -0.000274              NAN              NAN             NAN\n",
              "L8.hm              0.145557         0.006729           21.631           0.000\n",
              "L8.hm_aw          -0.004325         0.004887           -0.885           0.376\n",
              "L8.hm_am           0.005266         0.014501            0.363           0.716\n",
              "L8.weekday        -0.008675  10264301.466367           -0.000           1.000\n",
              "L9.hm              0.048033         0.003937           12.202           0.000\n",
              "L9.hm_aw          -0.005821         0.004775           -1.219           0.223\n",
              "L9.hm_am           0.009402         0.014489            0.649           0.516\n",
              "L9.weekday        -0.025011              NAN              NAN             NAN\n",
              "=============================================================================\n",
              "\n",
              "Results for equation hm_am\n",
              "=============================================================================\n",
              "                coefficient       std. error           t-stat            prob\n",
              "-----------------------------------------------------------------------------\n",
              "const              0.001339         0.016787            0.080           0.936\n",
              "L1.hm              0.032895         0.001301           25.278           0.000\n",
              "L1.hm_aw           0.055926         0.048772            1.147           0.252\n",
              "L1.hm_am          -0.100367         0.027601           -3.636           0.000\n",
              "L1.weekday         0.049322  23040523.183525            0.000           1.000\n",
              "L2.hm              0.029059         0.007220            4.025           0.000\n",
              "L2.hm_aw           0.051128         0.049101            1.041           0.298\n",
              "L2.hm_am           0.121202         0.027639            4.385           0.000\n",
              "L2.weekday         0.143996              NAN              NAN             NAN\n",
              "L3.hm              0.016810         0.012354            1.361           0.174\n",
              "L3.hm_aw           0.010012         0.009279            1.079           0.281\n",
              "L3.hm_am           0.079488         0.027658            2.874           0.004\n",
              "L3.weekday        -0.119076              NAN              NAN             NAN\n",
              "L4.hm              0.012295         0.012618            0.974           0.330\n",
              "L4.hm_aw           0.014107         0.009152            1.541           0.123\n",
              "L4.hm_am           0.074694         0.027514            2.715           0.007\n",
              "L4.weekday        -0.304074              NAN              NAN             NAN\n",
              "L5.hm              0.007996         0.012556            0.637           0.524\n",
              "L5.hm_aw          -0.006309         0.009141           -0.690           0.490\n",
              "L5.hm_am           0.119509         0.027335            4.372           0.000\n",
              "L5.weekday         0.070925              NAN              NAN             NAN\n",
              "L6.hm              0.005050         0.012466            0.405           0.685\n",
              "L6.hm_aw          -0.007214         0.009125           -0.791           0.429\n",
              "L6.hm_am           0.124765         0.027413            4.551           0.000\n",
              "L6.weekday        -0.101478              NAN              NAN             NAN\n",
              "L7.hm             -0.000343         0.012549           -0.027           0.978\n",
              "L7.hm_aw           0.008355         0.009136            0.914           0.360\n",
              "L7.hm_am           0.118573         0.027372            4.332           0.000\n",
              "L7.weekday         0.260386              NAN              NAN             NAN\n",
              "L8.hm             -0.004864         0.012529           -0.388           0.698\n",
              "L8.hm_aw           0.003929         0.009098            0.432           0.666\n",
              "L8.hm_am           0.055715         0.026999            2.064           0.039\n",
              "L8.weekday         0.049322  19111138.309806            0.000           1.000\n",
              "L9.hm             -0.001729         0.007330           -0.236           0.814\n",
              "L9.hm_aw           0.028866         0.008892            3.246           0.001\n",
              "L9.hm_am           0.024936         0.026977            0.924           0.355\n",
              "L9.weekday         0.143996              NAN              NAN             NAN\n",
              "=============================================================================\n",
              "\n",
              "Results for equation weekday\n",
              "=============================================================================\n",
              "                coefficient       std. error           t-stat            prob\n",
              "-----------------------------------------------------------------------------\n",
              "const              0.000000         0.000000            0.167           0.867\n",
              "L1.hm              0.000000         0.000000            0.397           0.691\n",
              "L1.hm_aw          -0.000000         0.000000           -1.144           0.253\n",
              "L1.hm_am          -0.000000         0.000000           -1.607           0.108\n",
              "L1.weekday        -0.083333         0.000000      -960837.571           0.000\n",
              "L2.hm              0.000000         0.000000            2.855           0.004\n",
              "L2.hm_aw          -0.000000         0.000000           -0.258           0.797\n",
              "L2.hm_am           0.000000         0.000000            3.569           0.000\n",
              "L2.weekday        -0.083333              NAN              NAN             NAN\n",
              "L3.hm              0.000000         0.000000            1.003           0.316\n",
              "L3.hm_aw           0.000000         0.000000           10.723           0.000\n",
              "L3.hm_am          -0.000000         0.000000           -0.898           0.369\n",
              "L3.weekday        -0.166667              NAN              NAN             NAN\n",
              "L4.hm             -0.000000         0.000000           -0.765           0.444\n",
              "L4.hm_aw          -0.000000         0.000000          -13.985           0.000\n",
              "L4.hm_am          -0.000000         0.000000           -5.554           0.000\n",
              "L4.weekday        -0.166667              NAN              NAN             NAN\n",
              "L5.hm              0.000000         0.000000            1.196           0.232\n",
              "L5.hm_aw           0.000000         0.000000            9.314           0.000\n",
              "L5.hm_am          -0.000000         0.000000           -6.442           0.000\n",
              "L5.weekday        -0.166667              NAN              NAN             NAN\n",
              "L6.hm              0.000000         0.000000            1.593           0.111\n",
              "L6.hm_aw          -0.000000         0.000000           -5.149           0.000\n",
              "L6.hm_am           0.000000         0.000000            0.364           0.716\n",
              "L6.weekday        -0.166667              NAN              NAN             NAN\n",
              "L7.hm              0.000000         0.000000            1.640           0.101\n",
              "L7.hm_aw           0.000000         0.000000            0.455           0.649\n",
              "L7.hm_am          -0.000000         0.000000           -2.782           0.005\n",
              "L7.weekday         0.833333              NAN              NAN             NAN\n",
              "L8.hm              0.000000         0.000000            1.214           0.225\n",
              "L8.hm_aw           0.000000         0.000000           13.667           0.000\n",
              "L8.hm_am           0.000000         0.000000            1.325           0.185\n",
              "L8.weekday        -0.083333         0.000000     -1158392.555           0.000\n",
              "L9.hm             -0.000000         0.000000           -0.183           0.855\n",
              "L9.hm_aw          -0.000000         0.000000           -9.955           0.000\n",
              "L9.hm_am           0.000000         0.000000            5.828           0.000\n",
              "L9.weekday        -0.083333              NAN              NAN             NAN\n",
              "=============================================================================\n",
              "\n",
              "Correlation matrix of residuals\n",
              "                 hm     hm_aw     hm_am   weekday\n",
              "hm         1.000000  0.044342 -0.010873 -0.000466\n",
              "hm_aw      0.044342  1.000000  0.053555  0.000297\n",
              "hm_am     -0.010873  0.053555  1.000000 -0.000037\n",
              "weekday   -0.000466  0.000297 -0.000037  1.000000\n",
              "\n"
            ]
          },
          "metadata": {
            "tags": []
          },
          "execution_count": 53
        }
      ]
    },
    {
      "cell_type": "markdown",
      "metadata": {
        "id": "rw4zwmGGMumN"
      },
      "source": [
        "### **Splitting Data**"
      ]
    },
    {
      "cell_type": "code",
      "metadata": {
        "id": "0lwWK7V0LW04"
      },
      "source": [
        "#creating the train and validation set\n",
        "train = df_diff[:int(0.8*(len(df_diff)))]\n",
        "test = df_diff[int(0.8*(len(df_diff))):]"
      ],
      "execution_count": 54,
      "outputs": []
    },
    {
      "cell_type": "code",
      "metadata": {
        "colab": {
          "base_uri": "https://localhost:8080/"
        },
        "id": "IPF-QBQ_M2BQ",
        "outputId": "bfe28f1f-2ffe-4bda-a28c-9f3e1c8ed842"
      },
      "source": [
        "train.shape"
      ],
      "execution_count": 55,
      "outputs": [
        {
          "output_type": "execute_result",
          "data": {
            "text/plain": [
              "(1077, 4)"
            ]
          },
          "metadata": {
            "tags": []
          },
          "execution_count": 55
        }
      ]
    },
    {
      "cell_type": "code",
      "metadata": {
        "colab": {
          "base_uri": "https://localhost:8080/"
        },
        "id": "kuRgW_RcM5vF",
        "outputId": "fa5ede3d-4f33-4909-d6a9-b2fc615d720f"
      },
      "source": [
        "test.shape"
      ],
      "execution_count": 56,
      "outputs": [
        {
          "output_type": "execute_result",
          "data": {
            "text/plain": [
              "(270, 4)"
            ]
          },
          "metadata": {
            "tags": []
          },
          "execution_count": 56
        }
      ]
    },
    {
      "cell_type": "markdown",
      "metadata": {
        "id": "wUEOr_xkNDBN"
      },
      "source": [
        "## **Step#3 Fitting and Training Model**"
      ]
    },
    {
      "cell_type": "code",
      "metadata": {
        "id": "R2QlAni8NJPu"
      },
      "source": [
        "#fit the model\n",
        "from statsmodels.tsa.vector_ar.var_model import VAR\n",
        "\n",
        "model = VAR(endog=train)\n",
        "model_fit = model.fit(9)"
      ],
      "execution_count": 58,
      "outputs": []
    },
    {
      "cell_type": "markdown",
      "metadata": {
        "id": "LwWSRQbjNV-F"
      },
      "source": [
        "## **Step#4 Actual vs Prediction Plot and Evaluation Metrics**"
      ]
    },
    {
      "cell_type": "code",
      "metadata": {
        "id": "S_cfarr_NQIH"
      },
      "source": [
        "# make prediction on validation\n",
        "prediction = model_fit.forecast(model_fit.y, steps=len(test))"
      ],
      "execution_count": 59,
      "outputs": []
    },
    {
      "cell_type": "code",
      "metadata": {
        "colab": {
          "base_uri": "https://localhost:8080/"
        },
        "id": "rzIG4JLANd9G",
        "outputId": "4cefeedc-5913-47ea-e9aa-5f88f354535b"
      },
      "source": [
        "prediction.shape"
      ],
      "execution_count": 60,
      "outputs": [
        {
          "output_type": "execute_result",
          "data": {
            "text/plain": [
              "(270, 4)"
            ]
          },
          "metadata": {
            "tags": []
          },
          "execution_count": 60
        }
      ]
    },
    {
      "cell_type": "code",
      "metadata": {
        "colab": {
          "base_uri": "https://localhost:8080/",
          "height": 202
        },
        "id": "H4n9WjrTNghu",
        "outputId": "e6a0decc-04ed-43bf-ccd3-72aca6291e8b"
      },
      "source": [
        "pd.DataFrame(prediction).head()"
      ],
      "execution_count": 61,
      "outputs": [
        {
          "output_type": "execute_result",
          "data": {
            "text/html": [
              "<div>\n",
              "<style scoped>\n",
              "    .dataframe tbody tr th:only-of-type {\n",
              "        vertical-align: middle;\n",
              "    }\n",
              "\n",
              "    .dataframe tbody tr th {\n",
              "        vertical-align: top;\n",
              "    }\n",
              "\n",
              "    .dataframe thead th {\n",
              "        text-align: right;\n",
              "    }\n",
              "</style>\n",
              "<table border=\"1\" class=\"dataframe\">\n",
              "  <thead>\n",
              "    <tr style=\"text-align: right;\">\n",
              "      <th></th>\n",
              "      <th>0</th>\n",
              "      <th>1</th>\n",
              "      <th>2</th>\n",
              "      <th>3</th>\n",
              "    </tr>\n",
              "  </thead>\n",
              "  <tbody>\n",
              "    <tr>\n",
              "      <th>0</th>\n",
              "      <td>-7.4202</td>\n",
              "      <td>-3.9154</td>\n",
              "      <td>-0.0135</td>\n",
              "      <td>-1.0000</td>\n",
              "    </tr>\n",
              "    <tr>\n",
              "      <th>1</th>\n",
              "      <td>-9.0986</td>\n",
              "      <td>0.9450</td>\n",
              "      <td>-0.5874</td>\n",
              "      <td>0.0000</td>\n",
              "    </tr>\n",
              "    <tr>\n",
              "      <th>2</th>\n",
              "      <td>25.1169</td>\n",
              "      <td>-0.6049</td>\n",
              "      <td>-0.3847</td>\n",
              "      <td>1.0000</td>\n",
              "    </tr>\n",
              "    <tr>\n",
              "      <th>3</th>\n",
              "      <td>-0.8363</td>\n",
              "      <td>-0.8038</td>\n",
              "      <td>0.5053</td>\n",
              "      <td>0.0000</td>\n",
              "    </tr>\n",
              "    <tr>\n",
              "      <th>4</th>\n",
              "      <td>4.2358</td>\n",
              "      <td>-0.4696</td>\n",
              "      <td>0.8434</td>\n",
              "      <td>0.0000</td>\n",
              "    </tr>\n",
              "  </tbody>\n",
              "</table>\n",
              "</div>"
            ],
            "text/plain": [
              "        0       1       2       3\n",
              "0 -7.4202 -3.9154 -0.0135 -1.0000\n",
              "1 -9.0986  0.9450 -0.5874  0.0000\n",
              "2 25.1169 -0.6049 -0.3847  1.0000\n",
              "3 -0.8363 -0.8038  0.5053  0.0000\n",
              "4  4.2358 -0.4696  0.8434  0.0000"
            ]
          },
          "metadata": {
            "tags": []
          },
          "execution_count": 61
        }
      ]
    },
    {
      "cell_type": "code",
      "metadata": {
        "colab": {
          "base_uri": "https://localhost:8080/"
        },
        "id": "OvQAw4cuNieu",
        "outputId": "646deb31-61e8-4b40-f401-4b478dd69776"
      },
      "source": [
        "df2 = pd.DataFrame(prediction)[0]\n",
        "df2.head(30)"
      ],
      "execution_count": 62,
      "outputs": [
        {
          "output_type": "execute_result",
          "data": {
            "text/plain": [
              "0     -7.4202\n",
              "1     -9.0986\n",
              "2     25.1169\n",
              "3     -0.8363\n",
              "4      4.2358\n",
              "5     -6.1019\n",
              "6     -4.4400\n",
              "7     -7.9129\n",
              "8    -11.3566\n",
              "9     27.9884\n",
              "10    -2.3655\n",
              "11     3.1440\n",
              "12    -5.3100\n",
              "13    -5.2105\n",
              "14    -7.2976\n",
              "15   -12.3309\n",
              "16    29.6895\n",
              "17    -3.2561\n",
              "18     4.4468\n",
              "19    -5.9811\n",
              "20    -5.7602\n",
              "21    -6.9345\n",
              "22   -12.5588\n",
              "23    30.1391\n",
              "24    -3.5778\n",
              "25     4.6779\n",
              "26    -6.1756\n",
              "27    -5.8262\n",
              "28    -6.8065\n",
              "29   -12.7966\n",
              "Name: 0, dtype: float64"
            ]
          },
          "metadata": {
            "tags": []
          },
          "execution_count": 62
        }
      ]
    },
    {
      "cell_type": "code",
      "metadata": {
        "colab": {
          "base_uri": "https://localhost:8080/",
          "height": 414
        },
        "id": "rOxxW2BtN6tn",
        "outputId": "866d3abb-68f1-4b8a-886f-cacc473fc1c1"
      },
      "source": [
        "df.head(1077)"
      ],
      "execution_count": 63,
      "outputs": [
        {
          "output_type": "execute_result",
          "data": {
            "text/html": [
              "<div>\n",
              "<style scoped>\n",
              "    .dataframe tbody tr th:only-of-type {\n",
              "        vertical-align: middle;\n",
              "    }\n",
              "\n",
              "    .dataframe tbody tr th {\n",
              "        vertical-align: top;\n",
              "    }\n",
              "\n",
              "    .dataframe thead th {\n",
              "        text-align: right;\n",
              "    }\n",
              "</style>\n",
              "<table border=\"1\" class=\"dataframe\">\n",
              "  <thead>\n",
              "    <tr style=\"text-align: right;\">\n",
              "      <th></th>\n",
              "      <th>date</th>\n",
              "      <th>hm</th>\n",
              "      <th>hm_aw</th>\n",
              "      <th>hm_am</th>\n",
              "      <th>cc</th>\n",
              "      <th>cc_aw</th>\n",
              "      <th>cc_am</th>\n",
              "      <th>day_week</th>\n",
              "      <th>weekday</th>\n",
              "    </tr>\n",
              "  </thead>\n",
              "  <tbody>\n",
              "    <tr>\n",
              "      <th>0</th>\n",
              "      <td>2017-07-01</td>\n",
              "      <td>66</td>\n",
              "      <td>48</td>\n",
              "      <td>63</td>\n",
              "      <td>44</td>\n",
              "      <td>37</td>\n",
              "      <td>45</td>\n",
              "      <td>6</td>\n",
              "      <td>0</td>\n",
              "    </tr>\n",
              "    <tr>\n",
              "      <th>1</th>\n",
              "      <td>2017-07-02</td>\n",
              "      <td>53</td>\n",
              "      <td>53</td>\n",
              "      <td>62</td>\n",
              "      <td>72</td>\n",
              "      <td>37</td>\n",
              "      <td>43</td>\n",
              "      <td>7</td>\n",
              "      <td>0</td>\n",
              "    </tr>\n",
              "    <tr>\n",
              "      <th>2</th>\n",
              "      <td>2017-07-03</td>\n",
              "      <td>74</td>\n",
              "      <td>54</td>\n",
              "      <td>59</td>\n",
              "      <td>87</td>\n",
              "      <td>42</td>\n",
              "      <td>44</td>\n",
              "      <td>1</td>\n",
              "      <td>1</td>\n",
              "    </tr>\n",
              "    <tr>\n",
              "      <th>3</th>\n",
              "      <td>2017-07-04</td>\n",
              "      <td>87</td>\n",
              "      <td>56</td>\n",
              "      <td>57</td>\n",
              "      <td>58</td>\n",
              "      <td>49</td>\n",
              "      <td>44</td>\n",
              "      <td>2</td>\n",
              "      <td>1</td>\n",
              "    </tr>\n",
              "    <tr>\n",
              "      <th>4</th>\n",
              "      <td>2017-07-05</td>\n",
              "      <td>95</td>\n",
              "      <td>62</td>\n",
              "      <td>58</td>\n",
              "      <td>72</td>\n",
              "      <td>53</td>\n",
              "      <td>44</td>\n",
              "      <td>3</td>\n",
              "      <td>1</td>\n",
              "    </tr>\n",
              "    <tr>\n",
              "      <th>...</th>\n",
              "      <td>...</td>\n",
              "      <td>...</td>\n",
              "      <td>...</td>\n",
              "      <td>...</td>\n",
              "      <td>...</td>\n",
              "      <td>...</td>\n",
              "      <td>...</td>\n",
              "      <td>...</td>\n",
              "      <td>...</td>\n",
              "    </tr>\n",
              "    <tr>\n",
              "      <th>1072</th>\n",
              "      <td>2020-06-07</td>\n",
              "      <td>39</td>\n",
              "      <td>56</td>\n",
              "      <td>47</td>\n",
              "      <td>57</td>\n",
              "      <td>46</td>\n",
              "      <td>39</td>\n",
              "      <td>7</td>\n",
              "      <td>0</td>\n",
              "    </tr>\n",
              "    <tr>\n",
              "      <th>1073</th>\n",
              "      <td>2020-06-08</td>\n",
              "      <td>65</td>\n",
              "      <td>54</td>\n",
              "      <td>48</td>\n",
              "      <td>36</td>\n",
              "      <td>47</td>\n",
              "      <td>40</td>\n",
              "      <td>1</td>\n",
              "      <td>1</td>\n",
              "    </tr>\n",
              "    <tr>\n",
              "      <th>1074</th>\n",
              "      <td>2020-06-09</td>\n",
              "      <td>62</td>\n",
              "      <td>58</td>\n",
              "      <td>48</td>\n",
              "      <td>43</td>\n",
              "      <td>45</td>\n",
              "      <td>40</td>\n",
              "      <td>2</td>\n",
              "      <td>1</td>\n",
              "    </tr>\n",
              "    <tr>\n",
              "      <th>1075</th>\n",
              "      <td>2020-06-10</td>\n",
              "      <td>48</td>\n",
              "      <td>57</td>\n",
              "      <td>49</td>\n",
              "      <td>44</td>\n",
              "      <td>44</td>\n",
              "      <td>40</td>\n",
              "      <td>3</td>\n",
              "      <td>1</td>\n",
              "    </tr>\n",
              "    <tr>\n",
              "      <th>1076</th>\n",
              "      <td>2020-06-11</td>\n",
              "      <td>63</td>\n",
              "      <td>54</td>\n",
              "      <td>49</td>\n",
              "      <td>32</td>\n",
              "      <td>42</td>\n",
              "      <td>40</td>\n",
              "      <td>4</td>\n",
              "      <td>1</td>\n",
              "    </tr>\n",
              "  </tbody>\n",
              "</table>\n",
              "<p>1077 rows × 9 columns</p>\n",
              "</div>"
            ],
            "text/plain": [
              "           date  hm  hm_aw  hm_am  cc  cc_aw  cc_am  day_week  weekday\n",
              "0    2017-07-01  66     48     63  44     37     45         6        0\n",
              "1    2017-07-02  53     53     62  72     37     43         7        0\n",
              "2    2017-07-03  74     54     59  87     42     44         1        1\n",
              "3    2017-07-04  87     56     57  58     49     44         2        1\n",
              "4    2017-07-05  95     62     58  72     53     44         3        1\n",
              "...         ...  ..    ...    ...  ..    ...    ...       ...      ...\n",
              "1072 2020-06-07  39     56     47  57     46     39         7        0\n",
              "1073 2020-06-08  65     54     48  36     47     40         1        1\n",
              "1074 2020-06-09  62     58     48  43     45     40         2        1\n",
              "1075 2020-06-10  48     57     49  44     44     40         3        1\n",
              "1076 2020-06-11  63     54     49  32     42     40         4        1\n",
              "\n",
              "[1077 rows x 9 columns]"
            ]
          },
          "metadata": {
            "tags": []
          },
          "execution_count": 63
        }
      ]
    },
    {
      "cell_type": "code",
      "metadata": {
        "colab": {
          "base_uri": "https://localhost:8080/",
          "height": 968
        },
        "id": "z1NtU9K2NuW3",
        "outputId": "9bcf1a04-03ea-41f4-edc4-748c295e349e"
      },
      "source": [
        "#Convert to original data, 63 from the last train data (hm) values\n",
        "df_diff_pred = np.cumsum(df2) + 63\n",
        "pred = pd.DataFrame(df_diff_pred.astype(int))\n",
        "pred = pred.rename(columns={0:'pred'})\n",
        "pred.head(30)"
      ],
      "execution_count": 64,
      "outputs": [
        {
          "output_type": "execute_result",
          "data": {
            "text/html": [
              "<div>\n",
              "<style scoped>\n",
              "    .dataframe tbody tr th:only-of-type {\n",
              "        vertical-align: middle;\n",
              "    }\n",
              "\n",
              "    .dataframe tbody tr th {\n",
              "        vertical-align: top;\n",
              "    }\n",
              "\n",
              "    .dataframe thead th {\n",
              "        text-align: right;\n",
              "    }\n",
              "</style>\n",
              "<table border=\"1\" class=\"dataframe\">\n",
              "  <thead>\n",
              "    <tr style=\"text-align: right;\">\n",
              "      <th></th>\n",
              "      <th>pred</th>\n",
              "    </tr>\n",
              "  </thead>\n",
              "  <tbody>\n",
              "    <tr>\n",
              "      <th>0</th>\n",
              "      <td>55</td>\n",
              "    </tr>\n",
              "    <tr>\n",
              "      <th>1</th>\n",
              "      <td>46</td>\n",
              "    </tr>\n",
              "    <tr>\n",
              "      <th>2</th>\n",
              "      <td>71</td>\n",
              "    </tr>\n",
              "    <tr>\n",
              "      <th>3</th>\n",
              "      <td>70</td>\n",
              "    </tr>\n",
              "    <tr>\n",
              "      <th>4</th>\n",
              "      <td>74</td>\n",
              "    </tr>\n",
              "    <tr>\n",
              "      <th>5</th>\n",
              "      <td>68</td>\n",
              "    </tr>\n",
              "    <tr>\n",
              "      <th>6</th>\n",
              "      <td>64</td>\n",
              "    </tr>\n",
              "    <tr>\n",
              "      <th>7</th>\n",
              "      <td>56</td>\n",
              "    </tr>\n",
              "    <tr>\n",
              "      <th>8</th>\n",
              "      <td>45</td>\n",
              "    </tr>\n",
              "    <tr>\n",
              "      <th>9</th>\n",
              "      <td>73</td>\n",
              "    </tr>\n",
              "    <tr>\n",
              "      <th>10</th>\n",
              "      <td>70</td>\n",
              "    </tr>\n",
              "    <tr>\n",
              "      <th>11</th>\n",
              "      <td>73</td>\n",
              "    </tr>\n",
              "    <tr>\n",
              "      <th>12</th>\n",
              "      <td>68</td>\n",
              "    </tr>\n",
              "    <tr>\n",
              "      <th>13</th>\n",
              "      <td>63</td>\n",
              "    </tr>\n",
              "    <tr>\n",
              "      <th>14</th>\n",
              "      <td>56</td>\n",
              "    </tr>\n",
              "    <tr>\n",
              "      <th>15</th>\n",
              "      <td>43</td>\n",
              "    </tr>\n",
              "    <tr>\n",
              "      <th>16</th>\n",
              "      <td>73</td>\n",
              "    </tr>\n",
              "    <tr>\n",
              "      <th>17</th>\n",
              "      <td>70</td>\n",
              "    </tr>\n",
              "    <tr>\n",
              "      <th>18</th>\n",
              "      <td>74</td>\n",
              "    </tr>\n",
              "    <tr>\n",
              "      <th>19</th>\n",
              "      <td>68</td>\n",
              "    </tr>\n",
              "    <tr>\n",
              "      <th>20</th>\n",
              "      <td>62</td>\n",
              "    </tr>\n",
              "    <tr>\n",
              "      <th>21</th>\n",
              "      <td>56</td>\n",
              "    </tr>\n",
              "    <tr>\n",
              "      <th>22</th>\n",
              "      <td>43</td>\n",
              "    </tr>\n",
              "    <tr>\n",
              "      <th>23</th>\n",
              "      <td>73</td>\n",
              "    </tr>\n",
              "    <tr>\n",
              "      <th>24</th>\n",
              "      <td>70</td>\n",
              "    </tr>\n",
              "    <tr>\n",
              "      <th>25</th>\n",
              "      <td>74</td>\n",
              "    </tr>\n",
              "    <tr>\n",
              "      <th>26</th>\n",
              "      <td>68</td>\n",
              "    </tr>\n",
              "    <tr>\n",
              "      <th>27</th>\n",
              "      <td>62</td>\n",
              "    </tr>\n",
              "    <tr>\n",
              "      <th>28</th>\n",
              "      <td>55</td>\n",
              "    </tr>\n",
              "    <tr>\n",
              "      <th>29</th>\n",
              "      <td>43</td>\n",
              "    </tr>\n",
              "  </tbody>\n",
              "</table>\n",
              "</div>"
            ],
            "text/plain": [
              "    pred\n",
              "0     55\n",
              "1     46\n",
              "2     71\n",
              "3     70\n",
              "4     74\n",
              "5     68\n",
              "6     64\n",
              "7     56\n",
              "8     45\n",
              "9     73\n",
              "10    70\n",
              "11    73\n",
              "12    68\n",
              "13    63\n",
              "14    56\n",
              "15    43\n",
              "16    73\n",
              "17    70\n",
              "18    74\n",
              "19    68\n",
              "20    62\n",
              "21    56\n",
              "22    43\n",
              "23    73\n",
              "24    70\n",
              "25    74\n",
              "26    68\n",
              "27    62\n",
              "28    55\n",
              "29    43"
            ]
          },
          "metadata": {
            "tags": []
          },
          "execution_count": 64
        }
      ]
    },
    {
      "cell_type": "code",
      "metadata": {
        "colab": {
          "base_uri": "https://localhost:8080/",
          "height": 968
        },
        "id": "-Ww3es5LOIzf",
        "outputId": "9c949cca-2fa2-4ac1-9672-40eaeb2d279c"
      },
      "source": [
        "#Take an original data\n",
        "actual = np.cumsum(test.hm) + 63\n",
        "actual = pd.DataFrame(actual)\n",
        "actual['pred'] = pred['pred'].values\n",
        "actual.head(30)"
      ],
      "execution_count": 65,
      "outputs": [
        {
          "output_type": "execute_result",
          "data": {
            "text/html": [
              "<div>\n",
              "<style scoped>\n",
              "    .dataframe tbody tr th:only-of-type {\n",
              "        vertical-align: middle;\n",
              "    }\n",
              "\n",
              "    .dataframe tbody tr th {\n",
              "        vertical-align: top;\n",
              "    }\n",
              "\n",
              "    .dataframe thead th {\n",
              "        text-align: right;\n",
              "    }\n",
              "</style>\n",
              "<table border=\"1\" class=\"dataframe\">\n",
              "  <thead>\n",
              "    <tr style=\"text-align: right;\">\n",
              "      <th></th>\n",
              "      <th>hm</th>\n",
              "      <th>pred</th>\n",
              "    </tr>\n",
              "  </thead>\n",
              "  <tbody>\n",
              "    <tr>\n",
              "      <th>1078</th>\n",
              "      <td>50</td>\n",
              "      <td>55</td>\n",
              "    </tr>\n",
              "    <tr>\n",
              "      <th>1079</th>\n",
              "      <td>49</td>\n",
              "      <td>46</td>\n",
              "    </tr>\n",
              "    <tr>\n",
              "      <th>1080</th>\n",
              "      <td>94</td>\n",
              "      <td>71</td>\n",
              "    </tr>\n",
              "    <tr>\n",
              "      <th>1081</th>\n",
              "      <td>73</td>\n",
              "      <td>70</td>\n",
              "    </tr>\n",
              "    <tr>\n",
              "      <th>1082</th>\n",
              "      <td>61</td>\n",
              "      <td>74</td>\n",
              "    </tr>\n",
              "    <tr>\n",
              "      <th>1083</th>\n",
              "      <td>85</td>\n",
              "      <td>68</td>\n",
              "    </tr>\n",
              "    <tr>\n",
              "      <th>1084</th>\n",
              "      <td>65</td>\n",
              "      <td>64</td>\n",
              "    </tr>\n",
              "    <tr>\n",
              "      <th>1085</th>\n",
              "      <td>56</td>\n",
              "      <td>56</td>\n",
              "    </tr>\n",
              "    <tr>\n",
              "      <th>1086</th>\n",
              "      <td>55</td>\n",
              "      <td>45</td>\n",
              "    </tr>\n",
              "    <tr>\n",
              "      <th>1087</th>\n",
              "      <td>70</td>\n",
              "      <td>73</td>\n",
              "    </tr>\n",
              "    <tr>\n",
              "      <th>1088</th>\n",
              "      <td>70</td>\n",
              "      <td>70</td>\n",
              "    </tr>\n",
              "    <tr>\n",
              "      <th>1089</th>\n",
              "      <td>86</td>\n",
              "      <td>73</td>\n",
              "    </tr>\n",
              "    <tr>\n",
              "      <th>1090</th>\n",
              "      <td>99</td>\n",
              "      <td>68</td>\n",
              "    </tr>\n",
              "    <tr>\n",
              "      <th>1091</th>\n",
              "      <td>95</td>\n",
              "      <td>63</td>\n",
              "    </tr>\n",
              "    <tr>\n",
              "      <th>1092</th>\n",
              "      <td>69</td>\n",
              "      <td>56</td>\n",
              "    </tr>\n",
              "    <tr>\n",
              "      <th>1093</th>\n",
              "      <td>46</td>\n",
              "      <td>43</td>\n",
              "    </tr>\n",
              "    <tr>\n",
              "      <th>1094</th>\n",
              "      <td>98</td>\n",
              "      <td>73</td>\n",
              "    </tr>\n",
              "    <tr>\n",
              "      <th>1095</th>\n",
              "      <td>84</td>\n",
              "      <td>70</td>\n",
              "    </tr>\n",
              "    <tr>\n",
              "      <th>1096</th>\n",
              "      <td>137</td>\n",
              "      <td>74</td>\n",
              "    </tr>\n",
              "    <tr>\n",
              "      <th>1097</th>\n",
              "      <td>71</td>\n",
              "      <td>68</td>\n",
              "    </tr>\n",
              "    <tr>\n",
              "      <th>1098</th>\n",
              "      <td>74</td>\n",
              "      <td>62</td>\n",
              "    </tr>\n",
              "    <tr>\n",
              "      <th>1099</th>\n",
              "      <td>68</td>\n",
              "      <td>56</td>\n",
              "    </tr>\n",
              "    <tr>\n",
              "      <th>1100</th>\n",
              "      <td>47</td>\n",
              "      <td>43</td>\n",
              "    </tr>\n",
              "    <tr>\n",
              "      <th>1101</th>\n",
              "      <td>110</td>\n",
              "      <td>73</td>\n",
              "    </tr>\n",
              "    <tr>\n",
              "      <th>1102</th>\n",
              "      <td>71</td>\n",
              "      <td>70</td>\n",
              "    </tr>\n",
              "    <tr>\n",
              "      <th>1103</th>\n",
              "      <td>72</td>\n",
              "      <td>74</td>\n",
              "    </tr>\n",
              "    <tr>\n",
              "      <th>1104</th>\n",
              "      <td>85</td>\n",
              "      <td>68</td>\n",
              "    </tr>\n",
              "    <tr>\n",
              "      <th>1105</th>\n",
              "      <td>59</td>\n",
              "      <td>62</td>\n",
              "    </tr>\n",
              "    <tr>\n",
              "      <th>1106</th>\n",
              "      <td>61</td>\n",
              "      <td>55</td>\n",
              "    </tr>\n",
              "    <tr>\n",
              "      <th>1107</th>\n",
              "      <td>49</td>\n",
              "      <td>43</td>\n",
              "    </tr>\n",
              "  </tbody>\n",
              "</table>\n",
              "</div>"
            ],
            "text/plain": [
              "       hm  pred\n",
              "1078   50    55\n",
              "1079   49    46\n",
              "1080   94    71\n",
              "1081   73    70\n",
              "1082   61    74\n",
              "1083   85    68\n",
              "1084   65    64\n",
              "1085   56    56\n",
              "1086   55    45\n",
              "1087   70    73\n",
              "1088   70    70\n",
              "1089   86    73\n",
              "1090   99    68\n",
              "1091   95    63\n",
              "1092   69    56\n",
              "1093   46    43\n",
              "1094   98    73\n",
              "1095   84    70\n",
              "1096  137    74\n",
              "1097   71    68\n",
              "1098   74    62\n",
              "1099   68    56\n",
              "1100   47    43\n",
              "1101  110    73\n",
              "1102   71    70\n",
              "1103   72    74\n",
              "1104   85    68\n",
              "1105   59    62\n",
              "1106   61    55\n",
              "1107   49    43"
            ]
          },
          "metadata": {
            "tags": []
          },
          "execution_count": 65
        }
      ]
    },
    {
      "cell_type": "code",
      "metadata": {
        "colab": {
          "base_uri": "https://localhost:8080/",
          "height": 501
        },
        "id": "T9pfAY0GcEia",
        "outputId": "12cc7827-9581-42c6-d114-759ba7822579"
      },
      "source": [
        "plt.plot(actual['hm'], label='actual')\n",
        "plt.plot(actual['pred'], label='forecast')"
      ],
      "execution_count": 66,
      "outputs": [
        {
          "output_type": "execute_result",
          "data": {
            "text/plain": [
              "[<matplotlib.lines.Line2D at 0x7f775e4d03d0>]"
            ]
          },
          "metadata": {
            "tags": []
          },
          "execution_count": 66
        },
        {
          "output_type": "display_data",
          "data": {
            "image/png": "[encoded data removed]",
            "text/plain": [
              "<Figure size 720x576 with 1 Axes>"
            ]
          },
          "metadata": {
            "tags": []
          }
        }
      ]
    },
    {
      "cell_type": "code",
      "metadata": {
        "colab": {
          "base_uri": "https://localhost:8080/"
        },
        "id": "WxnK_GGWPDtD",
        "outputId": "19a0a95a-2581-4a4a-a02b-358cdfd6143f"
      },
      "source": [
        "# MSE and RMSE Score\n",
        "print('MSE value :', mean_squared_error(actual['hm'], actual['pred']))\n",
        "print('RMSE value  : ', sqrt(mean_squared_error(actual['hm'], actual['pred'])))"
      ],
      "execution_count": 67,
      "outputs": [
        {
          "output_type": "stream",
          "text": [
            "MSE value : 152.38518518518518\n",
            "RMSE value  :  12.344439443943381\n"
          ],
          "name": "stdout"
        }
      ]
    }
  ]
}