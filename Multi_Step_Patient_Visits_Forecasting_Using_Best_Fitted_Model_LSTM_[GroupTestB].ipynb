{
  "nbformat": 4,
  "nbformat_minor": 0,
  "metadata": {
    "colab": {
      "name": "Multi-Step Patient Visits Forecasting Using Best Fitted Model LSTM [GroupTestB].ipynb",
      "provenance": [],
      "collapsed_sections": [],
      "mount_file_id": "12vgNreZxzspvUWqsNKlj20Jpjwuf2sE0",
      "authorship_tag": "ABX9TyO3+sFVKarxo/f4UIVidiPT",
      "include_colab_link": true
    },
    "kernelspec": {
      "name": "python3",
      "display_name": "Python 3"
    },
    "language_info": {
      "name": "python"
    }
  },
  "cells": [
    {
      "cell_type": "markdown",
      "metadata": {
        "id": "view-in-github",
        "colab_type": "text"
      },
      "source": [
        "<a href=\"https://colab.research.google.com/github/Sofismarilla/PatientVisitsForecasting/blob/main/Multi_Step_Patient_Visits_Forecasting_Using_Best_Fitted_Model_LSTM_%5BGroupTestB%5D.ipynb\" target=\"_parent\"><img src=\"https://colab.research.google.com/assets/colab-badge.svg\" alt=\"Open In Colab\"/></a>"
      ]
    },
    {
      "cell_type": "markdown",
      "metadata": {
        "id": "zHHhvK3h7aj4"
      },
      "source": [
        "# **Multi-Step Patient Visits Forecasting Using Best Fitted Model LSTM [GroupTestB]**"
      ]
    },
    {
      "cell_type": "code",
      "metadata": {
        "id": "9vK8VT8xeYuN"
      },
      "source": [
        "import numpy as np\n",
        "from keras.models import Sequential\n",
        "from keras.layers import LSTM\n",
        "from keras.layers import Dense, Dropout\n",
        "import pandas as pd\n",
        "from matplotlib import pyplot as plt\n",
        "from sklearn.preprocessing import StandardScaler\n",
        "import seaborn as sns"
      ],
      "execution_count": 2,
      "outputs": []
    },
    {
      "cell_type": "code",
      "metadata": {
        "id": "cP-udMKjogwR"
      },
      "source": [
        "import numpy as np\n",
        "import matplotlib as mpl\n",
        "import matplotlib.pyplot as plt\n",
        "import pandas as pd\n",
        "pd.set_option('display.float_format', lambda x: '%.4f' % x)\n",
        "import seaborn as sns\n",
        "sns.set_context(\"paper\", font_scale=1.3)\n",
        "sns.set_style('white')\n",
        "import warnings\n",
        "warnings.filterwarnings('ignore')\n",
        "from time import time\n",
        "import matplotlib.ticker as tkr\n",
        "from scipy import stats\n",
        "from statsmodels.tsa.stattools import pacf\n",
        "from statsmodels.tsa.stattools import adfuller\n",
        "import tensorflow as tf\n",
        "%matplotlib inline\n",
        "\n",
        "from math import sqrt\n",
        "import keras\n",
        "import tensorflow as tf\n",
        "from keras.models import Sequential\n",
        "from keras.layers import Dense\n",
        "from keras.layers import LSTM\n",
        "from keras.layers import Dropout\n",
        "from keras.layers import *\n",
        "\n",
        "\n",
        "from sklearn.preprocessing import MinMaxScaler, StandardScaler\n",
        "from sklearn.metrics import mean_squared_error\n",
        "from sklearn.metrics import mean_absolute_error\n",
        "from keras.preprocessing.sequence import TimeseriesGenerator\n",
        "from sklearn.model_selection import train_test_split\n",
        "from keras.callbacks import EarlyStopping\n",
        "from timeit import default_timer as timer\n",
        "\n",
        "plt.rcParams['figure.figsize'] = (10, 8)\n",
        "plt.rcParams['axes.grid'] = False"
      ],
      "execution_count": 3,
      "outputs": []
    },
    {
      "cell_type": "code",
      "metadata": {
        "id": "jwtH2yDNec2h"
      },
      "source": [
        "data = pd.read_csv('/content/drive/MyDrive/THESIS/Dataset/dateset_patient.csv')"
      ],
      "execution_count": 4,
      "outputs": []
    },
    {
      "cell_type": "code",
      "metadata": {
        "colab": {
          "base_uri": "https://localhost:8080/"
        },
        "id": "XZ93mgGT71TX",
        "outputId": "73213447-8319-4f58-fcb4-497c6ebed429"
      },
      "source": [
        "data.info()"
      ],
      "execution_count": 5,
      "outputs": [
        {
          "output_type": "stream",
          "text": [
            "<class 'pandas.core.frame.DataFrame'>\n",
            "RangeIndex: 1348 entries, 0 to 1347\n",
            "Data columns (total 8 columns):\n",
            " #   Column    Non-Null Count  Dtype \n",
            "---  ------    --------------  ----- \n",
            " 0   date      1348 non-null   object\n",
            " 1   hm        1348 non-null   int64 \n",
            " 2   hm_aw     1348 non-null   int64 \n",
            " 3   hm_am     1348 non-null   int64 \n",
            " 4   cc        1348 non-null   int64 \n",
            " 5   cc_aw     1348 non-null   int64 \n",
            " 6   cc_am     1348 non-null   int64 \n",
            " 7   day_week  1348 non-null   int64 \n",
            "dtypes: int64(7), object(1)\n",
            "memory usage: 84.4+ KB\n"
          ],
          "name": "stdout"
        }
      ]
    },
    {
      "cell_type": "code",
      "metadata": {
        "id": "2jZeQQPg7_7Q"
      },
      "source": [
        "data['date'] = pd.to_datetime(data['date'], infer_datetime_format=True)\n",
        "data['weekday']= data.apply(lambda row: row['date'].weekday(),axis=1)\n",
        "data['weekday'] = (data[\"weekday\"] < 5).astype(int)"
      ],
      "execution_count": 6,
      "outputs": []
    },
    {
      "cell_type": "code",
      "metadata": {
        "colab": {
          "base_uri": "https://localhost:8080/"
        },
        "id": "-_qWZ4_j7_4W",
        "outputId": "7594895b-8f1c-44ea-9186-f8a9a79690d6"
      },
      "source": [
        "data.info()"
      ],
      "execution_count": 7,
      "outputs": [
        {
          "output_type": "stream",
          "text": [
            "<class 'pandas.core.frame.DataFrame'>\n",
            "RangeIndex: 1348 entries, 0 to 1347\n",
            "Data columns (total 9 columns):\n",
            " #   Column    Non-Null Count  Dtype         \n",
            "---  ------    --------------  -----         \n",
            " 0   date      1348 non-null   datetime64[ns]\n",
            " 1   hm        1348 non-null   int64         \n",
            " 2   hm_aw     1348 non-null   int64         \n",
            " 3   hm_am     1348 non-null   int64         \n",
            " 4   cc        1348 non-null   int64         \n",
            " 5   cc_aw     1348 non-null   int64         \n",
            " 6   cc_am     1348 non-null   int64         \n",
            " 7   day_week  1348 non-null   int64         \n",
            " 8   weekday   1348 non-null   int64         \n",
            "dtypes: datetime64[ns](1), int64(8)\n",
            "memory usage: 94.9 KB\n"
          ],
          "name": "stdout"
        }
      ]
    },
    {
      "cell_type": "code",
      "metadata": {
        "colab": {
          "base_uri": "https://localhost:8080/",
          "height": 202
        },
        "id": "RkJi3vPE8K4W",
        "outputId": "863c8834-2304-48af-9bf3-cb29a9eacb14"
      },
      "source": [
        "data.head()"
      ],
      "execution_count": 8,
      "outputs": [
        {
          "output_type": "execute_result",
          "data": {
            "text/html": [
              "<div>\n",
              "<style scoped>\n",
              "    .dataframe tbody tr th:only-of-type {\n",
              "        vertical-align: middle;\n",
              "    }\n",
              "\n",
              "    .dataframe tbody tr th {\n",
              "        vertical-align: top;\n",
              "    }\n",
              "\n",
              "    .dataframe thead th {\n",
              "        text-align: right;\n",
              "    }\n",
              "</style>\n",
              "<table border=\"1\" class=\"dataframe\">\n",
              "  <thead>\n",
              "    <tr style=\"text-align: right;\">\n",
              "      <th></th>\n",
              "      <th>date</th>\n",
              "      <th>hm</th>\n",
              "      <th>hm_aw</th>\n",
              "      <th>hm_am</th>\n",
              "      <th>cc</th>\n",
              "      <th>cc_aw</th>\n",
              "      <th>cc_am</th>\n",
              "      <th>day_week</th>\n",
              "      <th>weekday</th>\n",
              "    </tr>\n",
              "  </thead>\n",
              "  <tbody>\n",
              "    <tr>\n",
              "      <th>0</th>\n",
              "      <td>2017-07-01</td>\n",
              "      <td>66</td>\n",
              "      <td>48</td>\n",
              "      <td>63</td>\n",
              "      <td>44</td>\n",
              "      <td>37</td>\n",
              "      <td>45</td>\n",
              "      <td>6</td>\n",
              "      <td>0</td>\n",
              "    </tr>\n",
              "    <tr>\n",
              "      <th>1</th>\n",
              "      <td>2017-07-02</td>\n",
              "      <td>53</td>\n",
              "      <td>53</td>\n",
              "      <td>62</td>\n",
              "      <td>72</td>\n",
              "      <td>37</td>\n",
              "      <td>43</td>\n",
              "      <td>7</td>\n",
              "      <td>0</td>\n",
              "    </tr>\n",
              "    <tr>\n",
              "      <th>2</th>\n",
              "      <td>2017-07-03</td>\n",
              "      <td>74</td>\n",
              "      <td>54</td>\n",
              "      <td>59</td>\n",
              "      <td>87</td>\n",
              "      <td>42</td>\n",
              "      <td>44</td>\n",
              "      <td>1</td>\n",
              "      <td>1</td>\n",
              "    </tr>\n",
              "    <tr>\n",
              "      <th>3</th>\n",
              "      <td>2017-07-04</td>\n",
              "      <td>87</td>\n",
              "      <td>56</td>\n",
              "      <td>57</td>\n",
              "      <td>58</td>\n",
              "      <td>49</td>\n",
              "      <td>44</td>\n",
              "      <td>2</td>\n",
              "      <td>1</td>\n",
              "    </tr>\n",
              "    <tr>\n",
              "      <th>4</th>\n",
              "      <td>2017-07-05</td>\n",
              "      <td>95</td>\n",
              "      <td>62</td>\n",
              "      <td>58</td>\n",
              "      <td>72</td>\n",
              "      <td>53</td>\n",
              "      <td>44</td>\n",
              "      <td>3</td>\n",
              "      <td>1</td>\n",
              "    </tr>\n",
              "  </tbody>\n",
              "</table>\n",
              "</div>"
            ],
            "text/plain": [
              "        date  hm  hm_aw  hm_am  cc  cc_aw  cc_am  day_week  weekday\n",
              "0 2017-07-01  66     48     63  44     37     45         6        0\n",
              "1 2017-07-02  53     53     62  72     37     43         7        0\n",
              "2 2017-07-03  74     54     59  87     42     44         1        1\n",
              "3 2017-07-04  87     56     57  58     49     44         2        1\n",
              "4 2017-07-05  95     62     58  72     53     44         3        1"
            ]
          },
          "metadata": {
            "tags": []
          },
          "execution_count": 8
        }
      ]
    },
    {
      "cell_type": "code",
      "metadata": {
        "id": "DOgKa7EO8NJI"
      },
      "source": [
        "df = data.loc[:,['date', 'cc', 'cc_aw', 'cc_am', 'weekday']]\n",
        "train_dates = pd.to_datetime(df['date'], infer_datetime_format=True)\n",
        "df = df.set_index('date')"
      ],
      "execution_count": 10,
      "outputs": []
    },
    {
      "cell_type": "code",
      "metadata": {
        "colab": {
          "base_uri": "https://localhost:8080/"
        },
        "id": "NfiJBH6m8NGO",
        "outputId": "aab6964a-c906-489f-b20d-6cea51f73b3c"
      },
      "source": [
        "df.info()"
      ],
      "execution_count": 11,
      "outputs": [
        {
          "output_type": "stream",
          "text": [
            "<class 'pandas.core.frame.DataFrame'>\n",
            "DatetimeIndex: 1348 entries, 2017-07-01 to 2021-03-09\n",
            "Data columns (total 4 columns):\n",
            " #   Column   Non-Null Count  Dtype\n",
            "---  ------   --------------  -----\n",
            " 0   cc       1348 non-null   int64\n",
            " 1   cc_aw    1348 non-null   int64\n",
            " 2   cc_am    1348 non-null   int64\n",
            " 3   weekday  1348 non-null   int64\n",
            "dtypes: int64(4)\n",
            "memory usage: 52.7 KB\n"
          ],
          "name": "stdout"
        }
      ]
    },
    {
      "cell_type": "code",
      "metadata": {
        "id": "nIAZaZbIe11Y"
      },
      "source": [
        "df_for_training = df.diff()\n",
        "df_for_training = df.astype(float)"
      ],
      "execution_count": 26,
      "outputs": []
    },
    {
      "cell_type": "code",
      "metadata": {
        "id": "a--026oie9p4"
      },
      "source": [
        "scaler = StandardScaler()\n",
        "scaler = scaler.fit(df_for_training)\n",
        "df_for_training_scaled = scaler.transform(df_for_training)"
      ],
      "execution_count": 30,
      "outputs": []
    },
    {
      "cell_type": "code",
      "metadata": {
        "colab": {
          "base_uri": "https://localhost:8080/"
        },
        "id": "z5TWSvcQfAQY",
        "outputId": "bd3d3d18-6dd6-47b5-c173-739023e83d76"
      },
      "source": [
        "trainX = []\n",
        "trainY = []\n",
        "\n",
        "n_future = 1   # Number of days we want to predict into the future\n",
        "n_past = 30     # Number of past days we want to use to predict the future\n",
        "\n",
        "for i in range(n_past, len(df_for_training_scaled) - n_future +1):\n",
        "    trainX.append(df_for_training_scaled[i - n_past:i, 0:df_for_training.shape[1]])\n",
        "    trainY.append(df_for_training_scaled[i + n_future - 1:i + n_future, 0])\n",
        "\n",
        "trainX, trainY = np.array(trainX), np.array(trainY)\n",
        "\n",
        "print('trainX shape == {}.'.format(trainX.shape))\n",
        "print('trainY shape == {}.'.format(trainY.shape))\n"
      ],
      "execution_count": 31,
      "outputs": [
        {
          "output_type": "stream",
          "text": [
            "trainX shape == (1318, 30, 4).\n",
            "trainY shape == (1318, 1).\n"
          ],
          "name": "stdout"
        }
      ]
    },
    {
      "cell_type": "code",
      "metadata": {
        "colab": {
          "base_uri": "https://localhost:8080/"
        },
        "id": "qnI-IpunfD9C",
        "outputId": "ff1f7c4a-4f31-4a69-ceb3-96c5480331a9"
      },
      "source": [
        "\n",
        "model = Sequential()\n",
        "model.add(LSTM(128, input_shape=(trainX.shape[1], trainX.shape[2])))\n",
        "model.add(tf.keras.layers.LeakyReLU(alpha=0.5)) \n",
        "model.add(tf.keras.layers.Dropout(0.5)) \n",
        "model.add(tf.keras.layers.Dense(1))\n",
        "\n",
        "model.compile(optimizer='adam', loss='mse')\n",
        "model.summary()"
      ],
      "execution_count": 32,
      "outputs": [
        {
          "output_type": "stream",
          "text": [
            "Model: \"sequential_1\"\n",
            "_________________________________________________________________\n",
            "Layer (type)                 Output Shape              Param #   \n",
            "=================================================================\n",
            "lstm_1 (LSTM)                (None, 128)               68096     \n",
            "_________________________________________________________________\n",
            "module_wrapper_3 (ModuleWrap (None, 128)               0         \n",
            "_________________________________________________________________\n",
            "module_wrapper_4 (ModuleWrap (None, 128)               0         \n",
            "_________________________________________________________________\n",
            "module_wrapper_5 (ModuleWrap (None, 1)                 129       \n",
            "=================================================================\n",
            "Total params: 68,225\n",
            "Trainable params: 68,225\n",
            "Non-trainable params: 0\n",
            "_________________________________________________________________\n"
          ],
          "name": "stdout"
        }
      ]
    },
    {
      "cell_type": "code",
      "metadata": {
        "colab": {
          "base_uri": "https://localhost:8080/"
        },
        "id": "E6e4VBbbfGr5",
        "outputId": "c47a4372-6e96-4c2b-ceee-1908f164da34"
      },
      "source": [
        "history = model.fit(trainX, trainY, epochs=50, batch_size=100, validation_split=0.1, verbose=1)"
      ],
      "execution_count": 33,
      "outputs": [
        {
          "output_type": "stream",
          "text": [
            "Epoch 1/50\n",
            "12/12 [==============================] - 3s 116ms/step - loss: 0.9407 - val_loss: 0.4542\n",
            "Epoch 2/50\n",
            "12/12 [==============================] - 1s 64ms/step - loss: 0.6949 - val_loss: 0.4474\n",
            "Epoch 3/50\n",
            "12/12 [==============================] - 1s 66ms/step - loss: 0.7065 - val_loss: 0.4192\n",
            "Epoch 4/50\n",
            "12/12 [==============================] - 1s 65ms/step - loss: 0.6730 - val_loss: 0.4249\n",
            "Epoch 5/50\n",
            "12/12 [==============================] - 1s 65ms/step - loss: 0.6584 - val_loss: 0.4041\n",
            "Epoch 6/50\n",
            "12/12 [==============================] - 1s 65ms/step - loss: 0.6707 - val_loss: 0.4026\n",
            "Epoch 7/50\n",
            "12/12 [==============================] - 1s 65ms/step - loss: 0.6836 - val_loss: 0.3961\n",
            "Epoch 8/50\n",
            "12/12 [==============================] - 1s 64ms/step - loss: 0.6063 - val_loss: 0.3945\n",
            "Epoch 9/50\n",
            "12/12 [==============================] - 1s 64ms/step - loss: 0.6147 - val_loss: 0.3956\n",
            "Epoch 10/50\n",
            "12/12 [==============================] - 1s 66ms/step - loss: 0.6299 - val_loss: 0.3880\n",
            "Epoch 11/50\n",
            "12/12 [==============================] - 1s 65ms/step - loss: 0.5865 - val_loss: 0.3824\n",
            "Epoch 12/50\n",
            "12/12 [==============================] - 1s 65ms/step - loss: 0.6719 - val_loss: 0.3854\n",
            "Epoch 13/50\n",
            "12/12 [==============================] - 1s 65ms/step - loss: 0.5748 - val_loss: 0.3755\n",
            "Epoch 14/50\n",
            "12/12 [==============================] - 1s 64ms/step - loss: 0.5606 - val_loss: 0.3801\n",
            "Epoch 15/50\n",
            "12/12 [==============================] - 1s 64ms/step - loss: 0.6056 - val_loss: 0.3688\n",
            "Epoch 16/50\n",
            "12/12 [==============================] - 1s 65ms/step - loss: 0.5394 - val_loss: 0.3616\n",
            "Epoch 17/50\n",
            "12/12 [==============================] - 1s 66ms/step - loss: 0.5504 - val_loss: 0.3593\n",
            "Epoch 18/50\n",
            "12/12 [==============================] - 1s 64ms/step - loss: 0.5794 - val_loss: 0.3641\n",
            "Epoch 19/50\n",
            "12/12 [==============================] - 1s 68ms/step - loss: 0.5638 - val_loss: 0.3465\n",
            "Epoch 20/50\n",
            "12/12 [==============================] - 1s 65ms/step - loss: 0.5462 - val_loss: 0.3511\n",
            "Epoch 21/50\n",
            "12/12 [==============================] - 1s 66ms/step - loss: 0.5601 - val_loss: 0.3391\n",
            "Epoch 22/50\n",
            "12/12 [==============================] - 1s 64ms/step - loss: 0.5290 - val_loss: 0.3358\n",
            "Epoch 23/50\n",
            "12/12 [==============================] - 1s 67ms/step - loss: 0.5296 - val_loss: 0.3329\n",
            "Epoch 24/50\n",
            "12/12 [==============================] - 1s 64ms/step - loss: 0.5396 - val_loss: 0.3273\n",
            "Epoch 25/50\n",
            "12/12 [==============================] - 1s 64ms/step - loss: 0.5325 - val_loss: 0.3335\n",
            "Epoch 26/50\n",
            "12/12 [==============================] - 1s 66ms/step - loss: 0.5252 - val_loss: 0.3285\n",
            "Epoch 27/50\n",
            "12/12 [==============================] - 1s 64ms/step - loss: 0.5055 - val_loss: 0.3270\n",
            "Epoch 28/50\n",
            "12/12 [==============================] - 1s 66ms/step - loss: 0.4864 - val_loss: 0.3263\n",
            "Epoch 29/50\n",
            "12/12 [==============================] - 1s 65ms/step - loss: 0.4386 - val_loss: 0.3209\n",
            "Epoch 30/50\n",
            "12/12 [==============================] - 1s 66ms/step - loss: 0.4591 - val_loss: 0.3461\n",
            "Epoch 31/50\n",
            "12/12 [==============================] - 1s 65ms/step - loss: 0.5029 - val_loss: 0.3220\n",
            "Epoch 32/50\n",
            "12/12 [==============================] - 1s 66ms/step - loss: 0.5503 - val_loss: 0.3243\n",
            "Epoch 33/50\n",
            "12/12 [==============================] - 1s 64ms/step - loss: 0.4932 - val_loss: 0.3321\n",
            "Epoch 34/50\n",
            "12/12 [==============================] - 1s 66ms/step - loss: 0.4646 - val_loss: 0.3186\n",
            "Epoch 35/50\n",
            "12/12 [==============================] - 1s 66ms/step - loss: 0.4663 - val_loss: 0.3216\n",
            "Epoch 36/50\n",
            "12/12 [==============================] - 1s 66ms/step - loss: 0.4379 - val_loss: 0.3241\n",
            "Epoch 37/50\n",
            "12/12 [==============================] - 1s 63ms/step - loss: 0.4558 - val_loss: 0.3200\n",
            "Epoch 38/50\n",
            "12/12 [==============================] - 1s 64ms/step - loss: 0.4893 - val_loss: 0.3269\n",
            "Epoch 39/50\n",
            "12/12 [==============================] - 1s 65ms/step - loss: 0.4563 - val_loss: 0.3292\n",
            "Epoch 40/50\n",
            "12/12 [==============================] - 1s 66ms/step - loss: 0.4494 - val_loss: 0.3269\n",
            "Epoch 41/50\n",
            "12/12 [==============================] - 1s 65ms/step - loss: 0.4548 - val_loss: 0.3264\n",
            "Epoch 42/50\n",
            "12/12 [==============================] - 1s 66ms/step - loss: 0.4219 - val_loss: 0.3401\n",
            "Epoch 43/50\n",
            "12/12 [==============================] - 1s 65ms/step - loss: 0.4379 - val_loss: 0.3241\n",
            "Epoch 44/50\n",
            "12/12 [==============================] - 1s 64ms/step - loss: 0.4021 - val_loss: 0.3233\n",
            "Epoch 45/50\n",
            "12/12 [==============================] - 1s 65ms/step - loss: 0.4416 - val_loss: 0.3257\n",
            "Epoch 46/50\n",
            "12/12 [==============================] - 1s 66ms/step - loss: 0.4208 - val_loss: 0.3269\n",
            "Epoch 47/50\n",
            "12/12 [==============================] - 1s 66ms/step - loss: 0.4413 - val_loss: 0.3312\n",
            "Epoch 48/50\n",
            "12/12 [==============================] - 1s 65ms/step - loss: 0.4782 - val_loss: 0.3283\n",
            "Epoch 49/50\n",
            "12/12 [==============================] - 1s 65ms/step - loss: 0.4244 - val_loss: 0.3256\n",
            "Epoch 50/50\n",
            "12/12 [==============================] - 1s 64ms/step - loss: 0.4870 - val_loss: 0.3315\n"
          ],
          "name": "stdout"
        }
      ]
    },
    {
      "cell_type": "code",
      "metadata": {
        "id": "jxtqSYh7fJW5"
      },
      "source": [
        "n_future=90  #Redefining n_future to extend prediction dates beyond original n_future dates...\n",
        "forecast_period_dates = pd.date_range(list(train_dates)[-1], periods=n_future, freq='1d').tolist()"
      ],
      "execution_count": 34,
      "outputs": []
    },
    {
      "cell_type": "code",
      "metadata": {
        "id": "_7QOyrIBfUTw"
      },
      "source": [
        "forecast = model.predict(trainX[-n_future:]) #forecast "
      ],
      "execution_count": 35,
      "outputs": []
    },
    {
      "cell_type": "code",
      "metadata": {
        "id": "MCRBzsOBfWdZ"
      },
      "source": [
        "forecast_copies = np.repeat(forecast, df_for_training.shape[1], axis=-1)\n",
        "y_pred_future = scaler.inverse_transform(forecast_copies)[:,0]"
      ],
      "execution_count": 36,
      "outputs": []
    },
    {
      "cell_type": "code",
      "metadata": {
        "id": "heN2KpDzfY6R"
      },
      "source": [
        "forecast_dates = []\n",
        "for time_i in forecast_period_dates:\n",
        "    forecast_dates.append(time_i.date())"
      ],
      "execution_count": 37,
      "outputs": []
    },
    {
      "cell_type": "code",
      "metadata": {
        "id": "CJVvAFLefbW4"
      },
      "source": [
        "df_forecast = pd.DataFrame({'date':np.array(forecast_dates), 'hm':y_pred_future})\n",
        "df_forecast['Date']=pd.to_datetime(df_forecast['date'])\n"
      ],
      "execution_count": 38,
      "outputs": []
    },
    {
      "cell_type": "code",
      "metadata": {
        "colab": {
          "base_uri": "https://localhost:8080/"
        },
        "id": "5ni7SX9Z-Y82",
        "outputId": "08513d01-55cf-4f4f-a806-a4e06712daa6"
      },
      "source": [
        "df.info()"
      ],
      "execution_count": 39,
      "outputs": [
        {
          "output_type": "stream",
          "text": [
            "<class 'pandas.core.frame.DataFrame'>\n",
            "DatetimeIndex: 1348 entries, 2017-07-01 to 2021-03-09\n",
            "Data columns (total 4 columns):\n",
            " #   Column   Non-Null Count  Dtype\n",
            "---  ------   --------------  -----\n",
            " 0   cc       1348 non-null   int64\n",
            " 1   cc_aw    1348 non-null   int64\n",
            " 2   cc_am    1348 non-null   int64\n",
            " 3   weekday  1348 non-null   int64\n",
            "dtypes: int64(4)\n",
            "memory usage: 52.7 KB\n"
          ],
          "name": "stdout"
        }
      ]
    },
    {
      "cell_type": "code",
      "metadata": {
        "colab": {
          "base_uri": "https://localhost:8080/",
          "height": 414
        },
        "id": "3ztSqU_U-6yI",
        "outputId": "f698aa80-7759-4efe-ebdd-959bc61009c8"
      },
      "source": [
        "df_forecast"
      ],
      "execution_count": 40,
      "outputs": [
        {
          "output_type": "execute_result",
          "data": {
            "text/html": [
              "<div>\n",
              "<style scoped>\n",
              "    .dataframe tbody tr th:only-of-type {\n",
              "        vertical-align: middle;\n",
              "    }\n",
              "\n",
              "    .dataframe tbody tr th {\n",
              "        vertical-align: top;\n",
              "    }\n",
              "\n",
              "    .dataframe thead th {\n",
              "        text-align: right;\n",
              "    }\n",
              "</style>\n",
              "<table border=\"1\" class=\"dataframe\">\n",
              "  <thead>\n",
              "    <tr style=\"text-align: right;\">\n",
              "      <th></th>\n",
              "      <th>date</th>\n",
              "      <th>hm</th>\n",
              "      <th>Date</th>\n",
              "    </tr>\n",
              "  </thead>\n",
              "  <tbody>\n",
              "    <tr>\n",
              "      <th>0</th>\n",
              "      <td>2021-03-09</td>\n",
              "      <td>41.1760</td>\n",
              "      <td>2021-03-09</td>\n",
              "    </tr>\n",
              "    <tr>\n",
              "      <th>1</th>\n",
              "      <td>2021-03-10</td>\n",
              "      <td>32.3834</td>\n",
              "      <td>2021-03-10</td>\n",
              "    </tr>\n",
              "    <tr>\n",
              "      <th>2</th>\n",
              "      <td>2021-03-11</td>\n",
              "      <td>53.1011</td>\n",
              "      <td>2021-03-11</td>\n",
              "    </tr>\n",
              "    <tr>\n",
              "      <th>3</th>\n",
              "      <td>2021-03-12</td>\n",
              "      <td>54.5144</td>\n",
              "      <td>2021-03-12</td>\n",
              "    </tr>\n",
              "    <tr>\n",
              "      <th>4</th>\n",
              "      <td>2021-03-13</td>\n",
              "      <td>59.6252</td>\n",
              "      <td>2021-03-13</td>\n",
              "    </tr>\n",
              "    <tr>\n",
              "      <th>...</th>\n",
              "      <td>...</td>\n",
              "      <td>...</td>\n",
              "      <td>...</td>\n",
              "    </tr>\n",
              "    <tr>\n",
              "      <th>85</th>\n",
              "      <td>2021-06-02</td>\n",
              "      <td>30.9955</td>\n",
              "      <td>2021-06-02</td>\n",
              "    </tr>\n",
              "    <tr>\n",
              "      <th>86</th>\n",
              "      <td>2021-06-03</td>\n",
              "      <td>44.4349</td>\n",
              "      <td>2021-06-03</td>\n",
              "    </tr>\n",
              "    <tr>\n",
              "      <th>87</th>\n",
              "      <td>2021-06-04</td>\n",
              "      <td>43.7947</td>\n",
              "      <td>2021-06-04</td>\n",
              "    </tr>\n",
              "    <tr>\n",
              "      <th>88</th>\n",
              "      <td>2021-06-05</td>\n",
              "      <td>44.5159</td>\n",
              "      <td>2021-06-05</td>\n",
              "    </tr>\n",
              "    <tr>\n",
              "      <th>89</th>\n",
              "      <td>2021-06-06</td>\n",
              "      <td>42.7228</td>\n",
              "      <td>2021-06-06</td>\n",
              "    </tr>\n",
              "  </tbody>\n",
              "</table>\n",
              "<p>90 rows × 3 columns</p>\n",
              "</div>"
            ],
            "text/plain": [
              "          date      hm       Date\n",
              "0   2021-03-09 41.1760 2021-03-09\n",
              "1   2021-03-10 32.3834 2021-03-10\n",
              "2   2021-03-11 53.1011 2021-03-11\n",
              "3   2021-03-12 54.5144 2021-03-12\n",
              "4   2021-03-13 59.6252 2021-03-13\n",
              "..         ...     ...        ...\n",
              "85  2021-06-02 30.9955 2021-06-02\n",
              "86  2021-06-03 44.4349 2021-06-03\n",
              "87  2021-06-04 43.7947 2021-06-04\n",
              "88  2021-06-05 44.5159 2021-06-05\n",
              "89  2021-06-06 42.7228 2021-06-06\n",
              "\n",
              "[90 rows x 3 columns]"
            ]
          },
          "metadata": {
            "tags": []
          },
          "execution_count": 40
        }
      ]
    },
    {
      "cell_type": "code",
      "metadata": {
        "id": "AAwaSv5Gfgvo"
      },
      "source": [
        "original = data[['date', 'hm']]\n",
        "original['date']=pd.to_datetime(original['date'])\n",
        "original = original.loc[original['date'] >= '2020-7-1']"
      ],
      "execution_count": 41,
      "outputs": []
    },
    {
      "cell_type": "code",
      "metadata": {
        "colab": {
          "base_uri": "https://localhost:8080/",
          "height": 517
        },
        "id": "744bxkGvfsuZ",
        "outputId": "3a59cf87-2c0b-473a-a9b8-bc4d61f345a1"
      },
      "source": [
        "sns.lineplot(original['date'], original['hm'])\n",
        "sns.lineplot(df_forecast['date'], df_forecast['hm'])"
      ],
      "execution_count": 42,
      "outputs": [
        {
          "output_type": "execute_result",
          "data": {
            "text/plain": [
              "<matplotlib.axes._subplots.AxesSubplot at 0x7f6f133208d0>"
            ]
          },
          "metadata": {
            "tags": []
          },
          "execution_count": 42
        },
        {
          "output_type": "display_data",
          "data": {
            "image/png": "[encoded data removed]",
            "text/plain": [
              "<Figure size 720x576 with 1 Axes>"
            ]
          },
          "metadata": {
            "tags": [],
            "needs_background": "light"
          }
        }
      ]
    },
    {
      "cell_type": "code",
      "metadata": {
        "colab": {
          "base_uri": "https://localhost:8080/",
          "height": 414
        },
        "id": "wKpEr4QKfvbY",
        "outputId": "19edd2c1-2f2a-4885-aaa3-6676712a4ecc"
      },
      "source": [
        "df_forecast"
      ],
      "execution_count": 51,
      "outputs": [
        {
          "output_type": "execute_result",
          "data": {
            "text/html": [
              "<div>\n",
              "<style scoped>\n",
              "    .dataframe tbody tr th:only-of-type {\n",
              "        vertical-align: middle;\n",
              "    }\n",
              "\n",
              "    .dataframe tbody tr th {\n",
              "        vertical-align: top;\n",
              "    }\n",
              "\n",
              "    .dataframe thead th {\n",
              "        text-align: right;\n",
              "    }\n",
              "</style>\n",
              "<table border=\"1\" class=\"dataframe\">\n",
              "  <thead>\n",
              "    <tr style=\"text-align: right;\">\n",
              "      <th></th>\n",
              "      <th>date</th>\n",
              "      <th>hm</th>\n",
              "      <th>Date</th>\n",
              "    </tr>\n",
              "  </thead>\n",
              "  <tbody>\n",
              "    <tr>\n",
              "      <th>0</th>\n",
              "      <td>2021-03-09</td>\n",
              "      <td>41.1760</td>\n",
              "      <td>2021-03-09</td>\n",
              "    </tr>\n",
              "    <tr>\n",
              "      <th>1</th>\n",
              "      <td>2021-03-10</td>\n",
              "      <td>32.3834</td>\n",
              "      <td>2021-03-10</td>\n",
              "    </tr>\n",
              "    <tr>\n",
              "      <th>2</th>\n",
              "      <td>2021-03-11</td>\n",
              "      <td>53.1011</td>\n",
              "      <td>2021-03-11</td>\n",
              "    </tr>\n",
              "    <tr>\n",
              "      <th>3</th>\n",
              "      <td>2021-03-12</td>\n",
              "      <td>54.5144</td>\n",
              "      <td>2021-03-12</td>\n",
              "    </tr>\n",
              "    <tr>\n",
              "      <th>4</th>\n",
              "      <td>2021-03-13</td>\n",
              "      <td>59.6252</td>\n",
              "      <td>2021-03-13</td>\n",
              "    </tr>\n",
              "    <tr>\n",
              "      <th>...</th>\n",
              "      <td>...</td>\n",
              "      <td>...</td>\n",
              "      <td>...</td>\n",
              "    </tr>\n",
              "    <tr>\n",
              "      <th>85</th>\n",
              "      <td>2021-06-02</td>\n",
              "      <td>30.9955</td>\n",
              "      <td>2021-06-02</td>\n",
              "    </tr>\n",
              "    <tr>\n",
              "      <th>86</th>\n",
              "      <td>2021-06-03</td>\n",
              "      <td>44.4349</td>\n",
              "      <td>2021-06-03</td>\n",
              "    </tr>\n",
              "    <tr>\n",
              "      <th>87</th>\n",
              "      <td>2021-06-04</td>\n",
              "      <td>43.7947</td>\n",
              "      <td>2021-06-04</td>\n",
              "    </tr>\n",
              "    <tr>\n",
              "      <th>88</th>\n",
              "      <td>2021-06-05</td>\n",
              "      <td>44.5159</td>\n",
              "      <td>2021-06-05</td>\n",
              "    </tr>\n",
              "    <tr>\n",
              "      <th>89</th>\n",
              "      <td>2021-06-06</td>\n",
              "      <td>42.7228</td>\n",
              "      <td>2021-06-06</td>\n",
              "    </tr>\n",
              "  </tbody>\n",
              "</table>\n",
              "<p>90 rows × 3 columns</p>\n",
              "</div>"
            ],
            "text/plain": [
              "          date      hm       Date\n",
              "0   2021-03-09 41.1760 2021-03-09\n",
              "1   2021-03-10 32.3834 2021-03-10\n",
              "2   2021-03-11 53.1011 2021-03-11\n",
              "3   2021-03-12 54.5144 2021-03-12\n",
              "4   2021-03-13 59.6252 2021-03-13\n",
              "..         ...     ...        ...\n",
              "85  2021-06-02 30.9955 2021-06-02\n",
              "86  2021-06-03 44.4349 2021-06-03\n",
              "87  2021-06-04 43.7947 2021-06-04\n",
              "88  2021-06-05 44.5159 2021-06-05\n",
              "89  2021-06-06 42.7228 2021-06-06\n",
              "\n",
              "[90 rows x 3 columns]"
            ]
          },
          "metadata": {
            "tags": []
          },
          "execution_count": 51
        }
      ]
    },
    {
      "cell_type": "code",
      "metadata": {
        "id": "YhBLu_fqCgHu"
      },
      "source": [
        "read = pd.DataFrame(df_forecast['hm'].astype(int))"
      ],
      "execution_count": 60,
      "outputs": []
    },
    {
      "cell_type": "code",
      "metadata": {
        "id": "8tHYyMopCax2"
      },
      "source": [
        "df_forecast.to_csv(\"cc_pv.csv\")"
      ],
      "execution_count": 58,
      "outputs": []
    },
    {
      "cell_type": "code",
      "metadata": {
        "id": "B-KY9lb1D-uc"
      },
      "source": [
        "read = pd.read_csv('cc_pv.csv')"
      ],
      "execution_count": 56,
      "outputs": []
    },
    {
      "cell_type": "code",
      "metadata": {
        "colab": {
          "base_uri": "https://localhost:8080/",
          "height": 414
        },
        "id": "IXf0jBlPETY2",
        "outputId": "e6ad0d89-d3de-4c85-a1fd-a69ad9c7c0f9"
      },
      "source": [
        "read"
      ],
      "execution_count": 61,
      "outputs": [
        {
          "output_type": "execute_result",
          "data": {
            "text/html": [
              "<div>\n",
              "<style scoped>\n",
              "    .dataframe tbody tr th:only-of-type {\n",
              "        vertical-align: middle;\n",
              "    }\n",
              "\n",
              "    .dataframe tbody tr th {\n",
              "        vertical-align: top;\n",
              "    }\n",
              "\n",
              "    .dataframe thead th {\n",
              "        text-align: right;\n",
              "    }\n",
              "</style>\n",
              "<table border=\"1\" class=\"dataframe\">\n",
              "  <thead>\n",
              "    <tr style=\"text-align: right;\">\n",
              "      <th></th>\n",
              "      <th>hm</th>\n",
              "    </tr>\n",
              "  </thead>\n",
              "  <tbody>\n",
              "    <tr>\n",
              "      <th>0</th>\n",
              "      <td>41</td>\n",
              "    </tr>\n",
              "    <tr>\n",
              "      <th>1</th>\n",
              "      <td>32</td>\n",
              "    </tr>\n",
              "    <tr>\n",
              "      <th>2</th>\n",
              "      <td>53</td>\n",
              "    </tr>\n",
              "    <tr>\n",
              "      <th>3</th>\n",
              "      <td>54</td>\n",
              "    </tr>\n",
              "    <tr>\n",
              "      <th>4</th>\n",
              "      <td>59</td>\n",
              "    </tr>\n",
              "    <tr>\n",
              "      <th>...</th>\n",
              "      <td>...</td>\n",
              "    </tr>\n",
              "    <tr>\n",
              "      <th>85</th>\n",
              "      <td>30</td>\n",
              "    </tr>\n",
              "    <tr>\n",
              "      <th>86</th>\n",
              "      <td>44</td>\n",
              "    </tr>\n",
              "    <tr>\n",
              "      <th>87</th>\n",
              "      <td>43</td>\n",
              "    </tr>\n",
              "    <tr>\n",
              "      <th>88</th>\n",
              "      <td>44</td>\n",
              "    </tr>\n",
              "    <tr>\n",
              "      <th>89</th>\n",
              "      <td>42</td>\n",
              "    </tr>\n",
              "  </tbody>\n",
              "</table>\n",
              "<p>90 rows × 1 columns</p>\n",
              "</div>"
            ],
            "text/plain": [
              "    hm\n",
              "0   41\n",
              "1   32\n",
              "2   53\n",
              "3   54\n",
              "4   59\n",
              "..  ..\n",
              "85  30\n",
              "86  44\n",
              "87  43\n",
              "88  44\n",
              "89  42\n",
              "\n",
              "[90 rows x 1 columns]"
            ]
          },
          "metadata": {
            "tags": []
          },
          "execution_count": 61
        }
      ]
    }
  ]
}