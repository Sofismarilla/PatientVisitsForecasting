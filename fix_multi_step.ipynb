{
  "nbformat": 4,
  "nbformat_minor": 0,
  "metadata": {
    "colab": {
      "name": "fix multi-step.ipynb",
      "provenance": [],
      "collapsed_sections": [],
      "mount_file_id": "1h7kx4c3rHr3FB-nqwWDhnCgW610dcsnx",
      "authorship_tag": "ABX9TyOdORwIOf4PIIfo+dLZbhvE",
      "include_colab_link": true
    },
    "kernelspec": {
      "name": "python3",
      "display_name": "Python 3"
    },
    "language_info": {
      "name": "python"
    }
  },
  "cells": [
    {
      "cell_type": "markdown",
      "metadata": {
        "id": "view-in-github",
        "colab_type": "text"
      },
      "source": [
        "<a href=\"https://colab.research.google.com/github/Sofismarilla/PatientVisitsForecasting/blob/main/fix_multi_step.ipynb\" target=\"_parent\"><img src=\"https://colab.research.google.com/assets/colab-badge.svg\" alt=\"Open In Colab\"/></a>"
      ]
    },
    {
      "cell_type": "code",
      "metadata": {
        "id": "9vK8VT8xeYuN"
      },
      "source": [
        "import numpy as np\n",
        "from keras.models import Sequential\n",
        "from keras.layers import LSTM\n",
        "from keras.layers import Dense, Dropout\n",
        "import pandas as pd\n",
        "from matplotlib import pyplot as plt\n",
        "from sklearn.preprocessing import StandardScaler\n",
        "import seaborn as sns"
      ],
      "execution_count": 1,
      "outputs": []
    },
    {
      "cell_type": "code",
      "metadata": {
        "id": "cP-udMKjogwR"
      },
      "source": [
        "import numpy as np\n",
        "import matplotlib as mpl\n",
        "import matplotlib.pyplot as plt\n",
        "import pandas as pd\n",
        "pd.set_option('display.float_format', lambda x: '%.4f' % x)\n",
        "import seaborn as sns\n",
        "sns.set_context(\"paper\", font_scale=1.3)\n",
        "sns.set_style('white')\n",
        "import warnings\n",
        "warnings.filterwarnings('ignore')\n",
        "from time import time\n",
        "import matplotlib.ticker as tkr\n",
        "from scipy import stats\n",
        "from statsmodels.tsa.stattools import pacf\n",
        "from statsmodels.tsa.stattools import adfuller\n",
        "import tensorflow as tf\n",
        "%matplotlib inline\n",
        "\n",
        "from math import sqrt\n",
        "import keras\n",
        "import tensorflow as tf\n",
        "from keras.models import Sequential\n",
        "from keras.layers import Dense\n",
        "from keras.layers import LSTM\n",
        "from keras.layers import Dropout\n",
        "from keras.layers import *\n",
        "\n",
        "\n",
        "from sklearn.preprocessing import MinMaxScaler, StandardScaler\n",
        "from sklearn.metrics import mean_squared_error\n",
        "from sklearn.metrics import mean_absolute_error\n",
        "from keras.preprocessing.sequence import TimeseriesGenerator\n",
        "from sklearn.model_selection import train_test_split\n",
        "from keras.callbacks import EarlyStopping\n",
        "from timeit import default_timer as timer\n",
        "\n",
        "plt.rcParams['figure.figsize'] = (10, 8)\n",
        "plt.rcParams['axes.grid'] = False"
      ],
      "execution_count": 35,
      "outputs": []
    },
    {
      "cell_type": "code",
      "metadata": {
        "id": "jwtH2yDNec2h"
      },
      "source": [
        "df = pd.read_csv('/content/drive/MyDrive/THESIS/Dataset/dateset_patient.csv')"
      ],
      "execution_count": 3,
      "outputs": []
    },
    {
      "cell_type": "code",
      "metadata": {
        "id": "eyj0ktMFer2Q"
      },
      "source": [
        "train_dates = pd.to_datetime(df['date'])"
      ],
      "execution_count": 4,
      "outputs": []
    },
    {
      "cell_type": "code",
      "metadata": {
        "colab": {
          "base_uri": "https://localhost:8080/",
          "height": 204
        },
        "id": "u0UpvC4SexHJ",
        "outputId": "89c782c2-0d1a-4b1a-bd0b-b09e40b43db1"
      },
      "source": [
        "df.head()"
      ],
      "execution_count": 5,
      "outputs": [
        {
          "output_type": "execute_result",
          "data": {
            "text/html": [
              "<div>\n",
              "<style scoped>\n",
              "    .dataframe tbody tr th:only-of-type {\n",
              "        vertical-align: middle;\n",
              "    }\n",
              "\n",
              "    .dataframe tbody tr th {\n",
              "        vertical-align: top;\n",
              "    }\n",
              "\n",
              "    .dataframe thead th {\n",
              "        text-align: right;\n",
              "    }\n",
              "</style>\n",
              "<table border=\"1\" class=\"dataframe\">\n",
              "  <thead>\n",
              "    <tr style=\"text-align: right;\">\n",
              "      <th></th>\n",
              "      <th>date</th>\n",
              "      <th>hm</th>\n",
              "      <th>hm_aw</th>\n",
              "      <th>hm_am</th>\n",
              "      <th>cc</th>\n",
              "      <th>cc_aw</th>\n",
              "      <th>cc_am</th>\n",
              "      <th>day_week</th>\n",
              "    </tr>\n",
              "  </thead>\n",
              "  <tbody>\n",
              "    <tr>\n",
              "      <th>0</th>\n",
              "      <td>7/1/2017</td>\n",
              "      <td>66</td>\n",
              "      <td>48</td>\n",
              "      <td>63</td>\n",
              "      <td>44</td>\n",
              "      <td>37</td>\n",
              "      <td>45</td>\n",
              "      <td>6</td>\n",
              "    </tr>\n",
              "    <tr>\n",
              "      <th>1</th>\n",
              "      <td>7/2/2017</td>\n",
              "      <td>53</td>\n",
              "      <td>53</td>\n",
              "      <td>62</td>\n",
              "      <td>72</td>\n",
              "      <td>37</td>\n",
              "      <td>43</td>\n",
              "      <td>7</td>\n",
              "    </tr>\n",
              "    <tr>\n",
              "      <th>2</th>\n",
              "      <td>7/3/2017</td>\n",
              "      <td>74</td>\n",
              "      <td>54</td>\n",
              "      <td>59</td>\n",
              "      <td>87</td>\n",
              "      <td>42</td>\n",
              "      <td>44</td>\n",
              "      <td>1</td>\n",
              "    </tr>\n",
              "    <tr>\n",
              "      <th>3</th>\n",
              "      <td>7/4/2017</td>\n",
              "      <td>87</td>\n",
              "      <td>56</td>\n",
              "      <td>57</td>\n",
              "      <td>58</td>\n",
              "      <td>49</td>\n",
              "      <td>44</td>\n",
              "      <td>2</td>\n",
              "    </tr>\n",
              "    <tr>\n",
              "      <th>4</th>\n",
              "      <td>7/5/2017</td>\n",
              "      <td>95</td>\n",
              "      <td>62</td>\n",
              "      <td>58</td>\n",
              "      <td>72</td>\n",
              "      <td>53</td>\n",
              "      <td>44</td>\n",
              "      <td>3</td>\n",
              "    </tr>\n",
              "  </tbody>\n",
              "</table>\n",
              "</div>"
            ],
            "text/plain": [
              "       date  hm  hm_aw  hm_am  cc  cc_aw  cc_am  day_week\n",
              "0  7/1/2017  66     48     63  44     37     45         6\n",
              "1  7/2/2017  53     53     62  72     37     43         7\n",
              "2  7/3/2017  74     54     59  87     42     44         1\n",
              "3  7/4/2017  87     56     57  58     49     44         2\n",
              "4  7/5/2017  95     62     58  72     53     44         3"
            ]
          },
          "metadata": {
            "tags": []
          },
          "execution_count": 5
        }
      ]
    },
    {
      "cell_type": "code",
      "metadata": {
        "id": "D3eJbiapetBw"
      },
      "source": [
        "cols = list(df)[4:8]"
      ],
      "execution_count": 8,
      "outputs": []
    },
    {
      "cell_type": "code",
      "metadata": {
        "colab": {
          "base_uri": "https://localhost:8080/"
        },
        "id": "OqisNmcve2rw",
        "outputId": "b6956ba8-d3fa-430b-8249-59e0b616be2b"
      },
      "source": [
        "cols"
      ],
      "execution_count": 9,
      "outputs": [
        {
          "output_type": "execute_result",
          "data": {
            "text/plain": [
              "['cc', 'cc_aw', 'cc_am', 'day_week']"
            ]
          },
          "metadata": {
            "tags": []
          },
          "execution_count": 9
        }
      ]
    },
    {
      "cell_type": "code",
      "metadata": {
        "id": "nIAZaZbIe11Y"
      },
      "source": [
        "df_for_training = df[cols].astype(float)"
      ],
      "execution_count": 10,
      "outputs": []
    },
    {
      "cell_type": "code",
      "metadata": {
        "id": "a--026oie9p4"
      },
      "source": [
        "scaler = StandardScaler()\n",
        "scaler = scaler.fit(df_for_training)\n",
        "df_for_training_scaled = scaler.transform(df_for_training)"
      ],
      "execution_count": 11,
      "outputs": []
    },
    {
      "cell_type": "code",
      "metadata": {
        "colab": {
          "base_uri": "https://localhost:8080/"
        },
        "id": "z5TWSvcQfAQY",
        "outputId": "37876a3e-e8a9-43a5-c90c-737edae5f1d4"
      },
      "source": [
        "trainX = []\n",
        "trainY = []\n",
        "\n",
        "n_future = 90   # Number of days we want to predict into the future\n",
        "n_past = 30     # Number of past days we want to use to predict the future\n",
        "\n",
        "for i in range(n_past, len(df_for_training_scaled) - n_future +1):\n",
        "    trainX.append(df_for_training_scaled[i - n_past:i, 0:df_for_training.shape[1]])\n",
        "    trainY.append(df_for_training_scaled[i + n_future - 1:i + n_future, 0])\n",
        "\n",
        "trainX, trainY = np.array(trainX), np.array(trainY)\n",
        "\n",
        "print('trainX shape == {}.'.format(trainX.shape))\n",
        "print('trainY shape == {}.'.format(trainY.shape))\n"
      ],
      "execution_count": 55,
      "outputs": [
        {
          "output_type": "stream",
          "text": [
            "trainX shape == (1229, 30, 4).\n",
            "trainY shape == (1229, 1).\n"
          ],
          "name": "stdout"
        }
      ]
    },
    {
      "cell_type": "code",
      "metadata": {
        "colab": {
          "base_uri": "https://localhost:8080/"
        },
        "id": "qnI-IpunfD9C",
        "outputId": "e46a8f2b-6c5a-4577-b035-7620c1576be9"
      },
      "source": [
        "\n",
        "model = Sequential()\n",
        "model.add(LSTM(128, input_shape=(trainX.shape[1], trainX.shape[2])))\n",
        "model.add(tf.keras.layers.LeakyReLU(alpha=0.5)) \n",
        "model.add(tf.keras.layers.Dropout(0.5)) \n",
        "model.add(tf.keras.layers.Dense(1))\n",
        "\n",
        "model.compile(optimizer='adam', loss='mse')\n",
        "model.summary()"
      ],
      "execution_count": 56,
      "outputs": [
        {
          "output_type": "stream",
          "text": [
            "Model: \"sequential_4\"\n",
            "_________________________________________________________________\n",
            "Layer (type)                 Output Shape              Param #   \n",
            "=================================================================\n",
            "lstm_6 (LSTM)                (None, 128)               68096     \n",
            "_________________________________________________________________\n",
            "module_wrapper_3 (ModuleWrap (None, 128)               0         \n",
            "_________________________________________________________________\n",
            "module_wrapper_4 (ModuleWrap (None, 128)               0         \n",
            "_________________________________________________________________\n",
            "module_wrapper_5 (ModuleWrap (None, 1)                 129       \n",
            "=================================================================\n",
            "Total params: 68,225\n",
            "Trainable params: 68,225\n",
            "Non-trainable params: 0\n",
            "_________________________________________________________________\n"
          ],
          "name": "stdout"
        }
      ]
    },
    {
      "cell_type": "code",
      "metadata": {
        "colab": {
          "base_uri": "https://localhost:8080/"
        },
        "id": "E6e4VBbbfGr5",
        "outputId": "14217662-bbd6-446b-9c0c-e7b12679ea77"
      },
      "source": [
        "history = model.fit(trainX, trainY, epochs=50, batch_size=100, validation_split=0.1, verbose=1)"
      ],
      "execution_count": 57,
      "outputs": [
        {
          "output_type": "stream",
          "text": [
            "Epoch 1/50\n",
            "12/12 [==============================] - 3s 121ms/step - loss: 1.0641 - val_loss: 0.7090\n",
            "Epoch 2/50\n",
            "12/12 [==============================] - 1s 67ms/step - loss: 0.9904 - val_loss: 0.5220\n",
            "Epoch 3/50\n",
            "12/12 [==============================] - 1s 66ms/step - loss: 0.9487 - val_loss: 0.4636\n",
            "Epoch 4/50\n",
            "12/12 [==============================] - 1s 66ms/step - loss: 0.8762 - val_loss: 0.3929\n",
            "Epoch 5/50\n",
            "12/12 [==============================] - 1s 67ms/step - loss: 0.8154 - val_loss: 0.4620\n",
            "Epoch 6/50\n",
            "12/12 [==============================] - 1s 66ms/step - loss: 0.8343 - val_loss: 0.4057\n",
            "Epoch 7/50\n",
            "12/12 [==============================] - 1s 67ms/step - loss: 0.7969 - val_loss: 0.5630\n",
            "Epoch 8/50\n",
            "12/12 [==============================] - 1s 66ms/step - loss: 0.7857 - val_loss: 0.4356\n",
            "Epoch 9/50\n",
            "12/12 [==============================] - 1s 65ms/step - loss: 0.7929 - val_loss: 0.5891\n",
            "Epoch 10/50\n",
            "12/12 [==============================] - 1s 67ms/step - loss: 0.7917 - val_loss: 0.3926\n",
            "Epoch 11/50\n",
            "12/12 [==============================] - 1s 67ms/step - loss: 0.7835 - val_loss: 0.4129\n",
            "Epoch 12/50\n",
            "12/12 [==============================] - 1s 66ms/step - loss: 0.7645 - val_loss: 0.4307\n",
            "Epoch 13/50\n",
            "12/12 [==============================] - 1s 65ms/step - loss: 0.7485 - val_loss: 0.3689\n",
            "Epoch 14/50\n",
            "12/12 [==============================] - 1s 66ms/step - loss: 0.8263 - val_loss: 0.3872\n",
            "Epoch 15/50\n",
            "12/12 [==============================] - 1s 68ms/step - loss: 0.7611 - val_loss: 0.3824\n",
            "Epoch 16/50\n",
            "12/12 [==============================] - 1s 66ms/step - loss: 0.7107 - val_loss: 0.4594\n",
            "Epoch 17/50\n",
            "12/12 [==============================] - 1s 65ms/step - loss: 0.7072 - val_loss: 0.6223\n",
            "Epoch 18/50\n",
            "12/12 [==============================] - 1s 65ms/step - loss: 0.6996 - val_loss: 0.3928\n",
            "Epoch 19/50\n",
            "12/12 [==============================] - 1s 66ms/step - loss: 0.7259 - val_loss: 0.3776\n",
            "Epoch 20/50\n",
            "12/12 [==============================] - 1s 66ms/step - loss: 0.6759 - val_loss: 0.3919\n",
            "Epoch 21/50\n",
            "12/12 [==============================] - 1s 66ms/step - loss: 0.6984 - val_loss: 0.3625\n",
            "Epoch 22/50\n",
            "12/12 [==============================] - 1s 65ms/step - loss: 0.6998 - val_loss: 0.4159\n",
            "Epoch 23/50\n",
            "12/12 [==============================] - 1s 67ms/step - loss: 0.7197 - val_loss: 0.3771\n",
            "Epoch 24/50\n",
            "12/12 [==============================] - 1s 66ms/step - loss: 0.7086 - val_loss: 0.3770\n",
            "Epoch 25/50\n",
            "12/12 [==============================] - 1s 67ms/step - loss: 0.6502 - val_loss: 0.4089\n",
            "Epoch 26/50\n",
            "12/12 [==============================] - 1s 65ms/step - loss: 0.8018 - val_loss: 0.3792\n",
            "Epoch 27/50\n",
            "12/12 [==============================] - 1s 65ms/step - loss: 0.7655 - val_loss: 0.3784\n",
            "Epoch 28/50\n",
            "12/12 [==============================] - 1s 66ms/step - loss: 0.7697 - val_loss: 0.3882\n",
            "Epoch 29/50\n",
            "12/12 [==============================] - 1s 65ms/step - loss: 0.7438 - val_loss: 0.3996\n",
            "Epoch 30/50\n",
            "12/12 [==============================] - 1s 66ms/step - loss: 0.7600 - val_loss: 0.3822\n",
            "Epoch 31/50\n",
            "12/12 [==============================] - 1s 66ms/step - loss: 0.7024 - val_loss: 0.3815\n",
            "Epoch 32/50\n",
            "12/12 [==============================] - 1s 69ms/step - loss: 0.7004 - val_loss: 0.3636\n",
            "Epoch 33/50\n",
            "12/12 [==============================] - 1s 68ms/step - loss: 0.7228 - val_loss: 0.4697\n",
            "Epoch 34/50\n",
            "12/12 [==============================] - 1s 65ms/step - loss: 0.6825 - val_loss: 0.4065\n",
            "Epoch 35/50\n",
            "12/12 [==============================] - 1s 67ms/step - loss: 0.6979 - val_loss: 0.3835\n",
            "Epoch 36/50\n",
            "12/12 [==============================] - 1s 65ms/step - loss: 0.6747 - val_loss: 0.4433\n",
            "Epoch 37/50\n",
            "12/12 [==============================] - 1s 67ms/step - loss: 0.7107 - val_loss: 0.3876\n",
            "Epoch 38/50\n",
            "12/12 [==============================] - 1s 66ms/step - loss: 0.5996 - val_loss: 0.4000\n",
            "Epoch 39/50\n",
            "12/12 [==============================] - 1s 67ms/step - loss: 0.6977 - val_loss: 0.3634\n",
            "Epoch 40/50\n",
            "12/12 [==============================] - 1s 65ms/step - loss: 0.6089 - val_loss: 0.4670\n",
            "Epoch 41/50\n",
            "12/12 [==============================] - 1s 65ms/step - loss: 0.6378 - val_loss: 0.3534\n",
            "Epoch 42/50\n",
            "12/12 [==============================] - 1s 66ms/step - loss: 0.5743 - val_loss: 0.3750\n",
            "Epoch 43/50\n",
            "12/12 [==============================] - 1s 67ms/step - loss: 0.6511 - val_loss: 0.3641\n",
            "Epoch 44/50\n",
            "12/12 [==============================] - 1s 71ms/step - loss: 0.5712 - val_loss: 0.3587\n",
            "Epoch 45/50\n",
            "12/12 [==============================] - 1s 67ms/step - loss: 0.6958 - val_loss: 0.4037\n",
            "Epoch 46/50\n",
            "12/12 [==============================] - 1s 67ms/step - loss: 0.6062 - val_loss: 0.3809\n",
            "Epoch 47/50\n",
            "12/12 [==============================] - 1s 68ms/step - loss: 0.6596 - val_loss: 0.4322\n",
            "Epoch 48/50\n",
            "12/12 [==============================] - 1s 68ms/step - loss: 0.6950 - val_loss: 0.4006\n",
            "Epoch 49/50\n",
            "12/12 [==============================] - 1s 69ms/step - loss: 0.7025 - val_loss: 0.3638\n",
            "Epoch 50/50\n",
            "12/12 [==============================] - 1s 68ms/step - loss: 0.5909 - val_loss: 0.3584\n"
          ],
          "name": "stdout"
        }
      ]
    },
    {
      "cell_type": "code",
      "metadata": {
        "id": "jxtqSYh7fJW5"
      },
      "source": [
        "n_future=90  #Redefining n_future to extend prediction dates beyond original n_future dates...\n",
        "forecast_period_dates = pd.date_range(list(train_dates)[-1], periods=n_future, freq='1d').tolist()"
      ],
      "execution_count": 58,
      "outputs": []
    },
    {
      "cell_type": "code",
      "metadata": {
        "id": "_7QOyrIBfUTw"
      },
      "source": [
        "forecast = model.predict(trainX[-n_future:]) #forecast "
      ],
      "execution_count": 59,
      "outputs": []
    },
    {
      "cell_type": "code",
      "metadata": {
        "id": "MCRBzsOBfWdZ"
      },
      "source": [
        "forecast_copies = np.repeat(forecast, df_for_training.shape[1], axis=-1)\n",
        "y_pred_future = scaler.inverse_transform(forecast_copies)[:,0]"
      ],
      "execution_count": 60,
      "outputs": []
    },
    {
      "cell_type": "code",
      "metadata": {
        "id": "heN2KpDzfY6R"
      },
      "source": [
        "forecast_dates = []\n",
        "for time_i in forecast_period_dates:\n",
        "    forecast_dates.append(time_i.date())"
      ],
      "execution_count": 61,
      "outputs": []
    },
    {
      "cell_type": "code",
      "metadata": {
        "id": "CJVvAFLefbW4"
      },
      "source": [
        "df_forecast = pd.DataFrame({'date':np.array(forecast_dates), 'cc':y_pred_future})\n",
        "df_forecast['Date']=pd.to_datetime(df_forecast['date'])\n"
      ],
      "execution_count": 62,
      "outputs": []
    },
    {
      "cell_type": "code",
      "metadata": {
        "id": "AAwaSv5Gfgvo"
      },
      "source": [
        "original = df[['date', 'cc']]\n",
        "original['date']=pd.to_datetime(original['date'])\n",
        "original = original.loc[original['date'] >= '2020-7-1']"
      ],
      "execution_count": 67,
      "outputs": []
    },
    {
      "cell_type": "code",
      "metadata": {
        "colab": {
          "base_uri": "https://localhost:8080/",
          "height": 518
        },
        "id": "744bxkGvfsuZ",
        "outputId": "9b953b0f-0a7a-4931-8740-5c839d941924"
      },
      "source": [
        "sns.lineplot(original['date'], original['cc'])\n",
        "sns.lineplot(df_forecast['date'], df_forecast['cc'])"
      ],
      "execution_count": 68,
      "outputs": [
        {
          "output_type": "execute_result",
          "data": {
            "text/plain": [
              "<matplotlib.axes._subplots.AxesSubplot at 0x7fce687349d0>"
            ]
          },
          "metadata": {
            "tags": []
          },
          "execution_count": 68
        },
        {
          "output_type": "display_data",
          "data": {
            "image/png": "[encoded data removed]",
            "text/plain": [
              "<Figure size 720x576 with 1 Axes>"
            ]
          },
          "metadata": {
            "tags": [],
            "needs_background": "light"
          }
        }
      ]
    },
    {
      "cell_type": "code",
      "metadata": {
        "colab": {
          "base_uri": "https://localhost:8080/",
          "height": 419
        },
        "id": "wKpEr4QKfvbY",
        "outputId": "9c453435-0533-4679-eb92-668a8660cc1a"
      },
      "source": [
        "df_forecast"
      ],
      "execution_count": 77,
      "outputs": [
        {
          "output_type": "execute_result",
          "data": {
            "text/html": [
              "<div>\n",
              "<style scoped>\n",
              "    .dataframe tbody tr th:only-of-type {\n",
              "        vertical-align: middle;\n",
              "    }\n",
              "\n",
              "    .dataframe tbody tr th {\n",
              "        vertical-align: top;\n",
              "    }\n",
              "\n",
              "    .dataframe thead th {\n",
              "        text-align: right;\n",
              "    }\n",
              "</style>\n",
              "<table border=\"1\" class=\"dataframe\">\n",
              "  <thead>\n",
              "    <tr style=\"text-align: right;\">\n",
              "      <th></th>\n",
              "      <th>date</th>\n",
              "      <th>cc</th>\n",
              "      <th>Date</th>\n",
              "    </tr>\n",
              "  </thead>\n",
              "  <tbody>\n",
              "    <tr>\n",
              "      <th>0</th>\n",
              "      <td>2021-03-09</td>\n",
              "      <td>30.2110</td>\n",
              "      <td>2021-03-09</td>\n",
              "    </tr>\n",
              "    <tr>\n",
              "      <th>1</th>\n",
              "      <td>2021-03-10</td>\n",
              "      <td>27.2329</td>\n",
              "      <td>2021-03-10</td>\n",
              "    </tr>\n",
              "    <tr>\n",
              "      <th>2</th>\n",
              "      <td>2021-03-11</td>\n",
              "      <td>41.2753</td>\n",
              "      <td>2021-03-11</td>\n",
              "    </tr>\n",
              "    <tr>\n",
              "      <th>3</th>\n",
              "      <td>2021-03-12</td>\n",
              "      <td>44.7779</td>\n",
              "      <td>2021-03-12</td>\n",
              "    </tr>\n",
              "    <tr>\n",
              "      <th>4</th>\n",
              "      <td>2021-03-13</td>\n",
              "      <td>45.0169</td>\n",
              "      <td>2021-03-13</td>\n",
              "    </tr>\n",
              "    <tr>\n",
              "      <th>...</th>\n",
              "      <td>...</td>\n",
              "      <td>...</td>\n",
              "      <td>...</td>\n",
              "    </tr>\n",
              "    <tr>\n",
              "      <th>85</th>\n",
              "      <td>2021-06-02</td>\n",
              "      <td>26.9916</td>\n",
              "      <td>2021-06-02</td>\n",
              "    </tr>\n",
              "    <tr>\n",
              "      <th>86</th>\n",
              "      <td>2021-06-03</td>\n",
              "      <td>44.7200</td>\n",
              "      <td>2021-06-03</td>\n",
              "    </tr>\n",
              "    <tr>\n",
              "      <th>87</th>\n",
              "      <td>2021-06-04</td>\n",
              "      <td>47.0591</td>\n",
              "      <td>2021-06-04</td>\n",
              "    </tr>\n",
              "    <tr>\n",
              "      <th>88</th>\n",
              "      <td>2021-06-05</td>\n",
              "      <td>47.9815</td>\n",
              "      <td>2021-06-05</td>\n",
              "    </tr>\n",
              "    <tr>\n",
              "      <th>89</th>\n",
              "      <td>2021-06-06</td>\n",
              "      <td>47.5833</td>\n",
              "      <td>2021-06-06</td>\n",
              "    </tr>\n",
              "  </tbody>\n",
              "</table>\n",
              "<p>90 rows × 3 columns</p>\n",
              "</div>"
            ],
            "text/plain": [
              "          date      cc       Date\n",
              "0   2021-03-09 30.2110 2021-03-09\n",
              "1   2021-03-10 27.2329 2021-03-10\n",
              "2   2021-03-11 41.2753 2021-03-11\n",
              "3   2021-03-12 44.7779 2021-03-12\n",
              "4   2021-03-13 45.0169 2021-03-13\n",
              "..         ...     ...        ...\n",
              "85  2021-06-02 26.9916 2021-06-02\n",
              "86  2021-06-03 44.7200 2021-06-03\n",
              "87  2021-06-04 47.0591 2021-06-04\n",
              "88  2021-06-05 47.9815 2021-06-05\n",
              "89  2021-06-06 47.5833 2021-06-06\n",
              "\n",
              "[90 rows x 3 columns]"
            ]
          },
          "metadata": {
            "tags": []
          },
          "execution_count": 77
        }
      ]
    },
    {
      "cell_type": "code",
      "metadata": {
        "id": "8tHYyMopCax2"
      },
      "source": [
        "df_forecast.to_csv(\"cc_pv.csv\")"
      ],
      "execution_count": 78,
      "outputs": []
    },
    {
      "cell_type": "code",
      "metadata": {
        "id": "B-KY9lb1D-uc"
      },
      "source": [
        "baca = pd.read_csv('cc_pv.csv')"
      ],
      "execution_count": 79,
      "outputs": []
    },
    {
      "cell_type": "code",
      "metadata": {
        "colab": {
          "base_uri": "https://localhost:8080/",
          "height": 419
        },
        "id": "IXf0jBlPETY2",
        "outputId": "631426c3-0a31-4e81-ec03-0f30f0c6a171"
      },
      "source": [
        "baca"
      ],
      "execution_count": 80,
      "outputs": [
        {
          "output_type": "execute_result",
          "data": {
            "text/html": [
              "<div>\n",
              "<style scoped>\n",
              "    .dataframe tbody tr th:only-of-type {\n",
              "        vertical-align: middle;\n",
              "    }\n",
              "\n",
              "    .dataframe tbody tr th {\n",
              "        vertical-align: top;\n",
              "    }\n",
              "\n",
              "    .dataframe thead th {\n",
              "        text-align: right;\n",
              "    }\n",
              "</style>\n",
              "<table border=\"1\" class=\"dataframe\">\n",
              "  <thead>\n",
              "    <tr style=\"text-align: right;\">\n",
              "      <th></th>\n",
              "      <th>Unnamed: 0</th>\n",
              "      <th>date</th>\n",
              "      <th>cc</th>\n",
              "      <th>Date</th>\n",
              "    </tr>\n",
              "  </thead>\n",
              "  <tbody>\n",
              "    <tr>\n",
              "      <th>0</th>\n",
              "      <td>0</td>\n",
              "      <td>2021-03-09</td>\n",
              "      <td>30.2110</td>\n",
              "      <td>2021-03-09</td>\n",
              "    </tr>\n",
              "    <tr>\n",
              "      <th>1</th>\n",
              "      <td>1</td>\n",
              "      <td>2021-03-10</td>\n",
              "      <td>27.2329</td>\n",
              "      <td>2021-03-10</td>\n",
              "    </tr>\n",
              "    <tr>\n",
              "      <th>2</th>\n",
              "      <td>2</td>\n",
              "      <td>2021-03-11</td>\n",
              "      <td>41.2753</td>\n",
              "      <td>2021-03-11</td>\n",
              "    </tr>\n",
              "    <tr>\n",
              "      <th>3</th>\n",
              "      <td>3</td>\n",
              "      <td>2021-03-12</td>\n",
              "      <td>44.7779</td>\n",
              "      <td>2021-03-12</td>\n",
              "    </tr>\n",
              "    <tr>\n",
              "      <th>4</th>\n",
              "      <td>4</td>\n",
              "      <td>2021-03-13</td>\n",
              "      <td>45.0169</td>\n",
              "      <td>2021-03-13</td>\n",
              "    </tr>\n",
              "    <tr>\n",
              "      <th>...</th>\n",
              "      <td>...</td>\n",
              "      <td>...</td>\n",
              "      <td>...</td>\n",
              "      <td>...</td>\n",
              "    </tr>\n",
              "    <tr>\n",
              "      <th>85</th>\n",
              "      <td>85</td>\n",
              "      <td>2021-06-02</td>\n",
              "      <td>26.9916</td>\n",
              "      <td>2021-06-02</td>\n",
              "    </tr>\n",
              "    <tr>\n",
              "      <th>86</th>\n",
              "      <td>86</td>\n",
              "      <td>2021-06-03</td>\n",
              "      <td>44.7200</td>\n",
              "      <td>2021-06-03</td>\n",
              "    </tr>\n",
              "    <tr>\n",
              "      <th>87</th>\n",
              "      <td>87</td>\n",
              "      <td>2021-06-04</td>\n",
              "      <td>47.0591</td>\n",
              "      <td>2021-06-04</td>\n",
              "    </tr>\n",
              "    <tr>\n",
              "      <th>88</th>\n",
              "      <td>88</td>\n",
              "      <td>2021-06-05</td>\n",
              "      <td>47.9815</td>\n",
              "      <td>2021-06-05</td>\n",
              "    </tr>\n",
              "    <tr>\n",
              "      <th>89</th>\n",
              "      <td>89</td>\n",
              "      <td>2021-06-06</td>\n",
              "      <td>47.5833</td>\n",
              "      <td>2021-06-06</td>\n",
              "    </tr>\n",
              "  </tbody>\n",
              "</table>\n",
              "<p>90 rows × 4 columns</p>\n",
              "</div>"
            ],
            "text/plain": [
              "    Unnamed: 0        date      cc        Date\n",
              "0            0  2021-03-09 30.2110  2021-03-09\n",
              "1            1  2021-03-10 27.2329  2021-03-10\n",
              "2            2  2021-03-11 41.2753  2021-03-11\n",
              "3            3  2021-03-12 44.7779  2021-03-12\n",
              "4            4  2021-03-13 45.0169  2021-03-13\n",
              "..         ...         ...     ...         ...\n",
              "85          85  2021-06-02 26.9916  2021-06-02\n",
              "86          86  2021-06-03 44.7200  2021-06-03\n",
              "87          87  2021-06-04 47.0591  2021-06-04\n",
              "88          88  2021-06-05 47.9815  2021-06-05\n",
              "89          89  2021-06-06 47.5833  2021-06-06\n",
              "\n",
              "[90 rows x 4 columns]"
            ]
          },
          "metadata": {
            "tags": []
          },
          "execution_count": 80
        }
      ]
    },
    {
      "cell_type": "code",
      "metadata": {
        "id": "1tbU02xtEUVd"
      },
      "source": [
        ""
      ],
      "execution_count": null,
      "outputs": []
    }
  ]
}